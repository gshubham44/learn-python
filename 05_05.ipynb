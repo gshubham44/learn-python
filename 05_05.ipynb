{
  "nbformat": 4,
  "nbformat_minor": 0,
  "metadata": {
    "colab": {
      "provenance": [],
      "authorship_tag": "ABX9TyOBys4AcYJ3P8bEkXQ5Mdey",
      "include_colab_link": true
    },
    "kernelspec": {
      "name": "python3",
      "display_name": "Python 3"
    },
    "language_info": {
      "name": "python"
    }
  },
  "cells": [
    {
      "cell_type": "markdown",
      "metadata": {
        "id": "view-in-github",
        "colab_type": "text"
      },
      "source": [
        "<a href=\"https://colab.research.google.com/github/tomersk/learn-python/blob/main/05_05.ipynb\" target=\"_parent\"><img src=\"https://colab.research.google.com/assets/colab-badge.svg\" alt=\"Open In Colab\"/></a>"
      ]
    },
    {
      "cell_type": "markdown",
      "source": [
        "## 5.5 The chi square test\n",
        "We can also compare distribution by comparing their PDFs. In this case we use the Chi square ($\\chi^2$) test. In this test, ($\\chi^2$) statistics is computed first, and based on this we say if distributions are same or not. We can compare sample with the theoretical distribution, or two samples. We will\n",
        "take two pdfs, in which one is assumed to be observed and another one is expected. We will use the chisquare function from scipy.stats.mstats library. This function gives $\\chi^2$\n",
        "statistics and p-value of the test. In the following example, we get a p-value close to zero, it means that these two\n",
        "frequency comes from different distributions."
      ],
      "metadata": {
        "id": "m3AWRhVGoobe"
      }
    },
    {
      "cell_type": "code",
      "execution_count": 2,
      "metadata": {
        "colab": {
          "base_uri": "https://localhost:8080/"
        },
        "id": "3Iplu59goYIm",
        "outputId": "425df912-12b8-4811-9753-c16c0bfa1da3"
      },
      "outputs": [
        {
          "output_type": "stream",
          "name": "stdout",
          "text": [
            "10.666666666666666 0.01367189381253985\n"
          ]
        }
      ],
      "source": [
        "from scipy.stats.mstats import chisquare\n",
        "import numpy as np\n",
        "f_obs = np.array([10, 15, 20, 30]) # observed pdf (freq)\n",
        "f_exp = np.array([5, 25, 15, 30]) # expected pdf (freq)\n",
        "# chi square test\n",
        "c, p = chisquare(f_obs, f_exp)\n",
        "\n",
        "print(c,p)"
      ]
    }
  ]
}