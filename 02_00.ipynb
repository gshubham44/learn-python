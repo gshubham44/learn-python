{
  "nbformat": 4,
  "nbformat_minor": 0,
  "metadata": {
    "colab": {
      "provenance": [],
      "authorship_tag": "ABX9TyNI22EZ7uggfzYwSln/afU/",
      "include_colab_link": true
    },
    "kernelspec": {
      "name": "python3",
      "display_name": "Python 3"
    },
    "language_info": {
      "name": "python"
    }
  },
  "cells": [
    {
      "cell_type": "markdown",
      "metadata": {
        "id": "view-in-github",
        "colab_type": "text"
      },
      "source": [
        "<a href=\"https://colab.research.google.com/github/tomersk/learn-python/blob/main/02_00.ipynb\" target=\"_parent\"><img src=\"https://colab.research.google.com/assets/colab-badge.svg\" alt=\"Open In Colab\"/></a>"
      ]
    },
    {
      "cell_type": "markdown",
      "source": [
        "# A Bit of Python\n",
        "\n",
        "Before jumping into applications of Python programming language into hydrology, which would involve writing many lines of codes, it is better to first learn some basics of Python, e.g. the types of data, looping (performing same task many times), and writing functions etc. Let’s begin with the types of data that we are going to deal with. Note that there are few more data types, and you may create your own data type, we will not touch on these issues, as they involve more in-depth\n",
        "knowledge of Python.\n",
        "\n",
        "\n"
      ],
      "metadata": {
        "id": "16mbKkFGGgDl"
      }
    }
  ]
}