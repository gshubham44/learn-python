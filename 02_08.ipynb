{
  "nbformat": 4,
  "nbformat_minor": 0,
  "metadata": {
    "colab": {
      "provenance": [],
      "authorship_tag": "ABX9TyM38T2CP0P6jC/3IWta4GFj",
      "include_colab_link": true
    },
    "kernelspec": {
      "name": "python3",
      "display_name": "Python 3"
    },
    "language_info": {
      "name": "python"
    }
  },
  "cells": [
    {
      "cell_type": "markdown",
      "metadata": {
        "id": "view-in-github",
        "colab_type": "text"
      },
      "source": [
        "<a href=\"https://colab.research.google.com/github/tomersk/learn-python/blob/main/02_08.ipynb\" target=\"_parent\"><img src=\"https://colab.research.google.com/assets/colab-badge.svg\" alt=\"Open In Colab\"/></a>"
      ]
    },
    {
      "cell_type": "markdown",
      "source": [
        "## 2.8 Plotting\n",
        "\n",
        "There are various library which provides plotting capabilities in Python. I like Matplotlb library, and it is installed in the following manner."
      ],
      "metadata": {
        "id": "_h1SQRw1gvs9"
      }
    },
    {
      "cell_type": "code",
      "source": [
        "$ sudo pip install matplotlib"
      ],
      "metadata": {
        "id": "A3teXtw1qu5_"
      },
      "execution_count": null,
      "outputs": []
    },
    {
      "cell_type": "markdown",
      "source": [
        "Let us make our first plot which plots $y$ versus $x$. The $x$ contains values between $0$ and $2\\pi$ with 50 intervals, and $y$ is the $\\sin$ of $x$."
      ],
      "metadata": {
        "id": "3w0b6kXjklZb"
      }
    },
    {
      "cell_type": "code",
      "source": [
        "# import the required modules\n",
        "import numpy as np\n",
        "import matplotlib.pyplot as plt\n",
        "\n",
        "# generate x over the range from 0 to 2 pi with 50 intervals\n",
        "x = np.linspace(0,2*np.pi,50)\n",
        "y = np.sin(x) # compute the sin of x\n",
        "\n",
        "plt.plot(x,y)\n",
        "plt.xlabel('x')\n",
        "plt.ylabel('y')\n",
        "plt.legend(['sin(x)'])\n",
        "plt.title('Plot of x versus y (sin(x))')\n",
        "plt.show()"
      ],
      "metadata": {
        "colab": {
          "base_uri": "https://localhost:8080/",
          "height": 295
        },
        "id": "Hv94nzoDrC9U",
        "outputId": "9c3619da-70fb-407b-fab5-5df3cfbef11e"
      },
      "execution_count": 2,
      "outputs": [
        {
          "output_type": "display_data",
          "data": {
            "text/plain": [
              "<Figure size 432x288 with 1 Axes>"
            ],
            "image/png": "[encoded data removed]"
          },
          "metadata": {
            "needs_background": "light"
          }
        }
      ]
    },
    {
      "cell_type": "markdown",
      "source": [
        "The *plt* is the given abbreviated name, which refers to the *matplotlib.pyplot* library. All the function of this library should be called by using *plt*. Followings are the purpose of each functions:\n",
        "\n",
        "\n",
        "*   *plot* makes the continuous line plot, \n",
        "*   *xlabel* puts the label for the x-axis, \n",
        "*   *ylabel* puts the label for y-axis,\n",
        "*   *legend* displays the legend on the graph,\n",
        "*   *title* displays the title of the graph,\n",
        "*   *show* displays the graph, and\n",
        "*   the graph can be save by using the savefig and can be closed by using the close(). \n",
        "\n",
        "The function *np.linspace* is used to generate a vector over the range $0$ to $2\\pi$ having 50 equally spaced elements. More on generating this kind of vectors is described in the next chapter."
      ],
      "metadata": {
        "id": "ezJAZMeGrNLr"
      }
    }
  ]
}