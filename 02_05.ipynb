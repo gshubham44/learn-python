{
  "nbformat": 4,
  "nbformat_minor": 0,
  "metadata": {
    "colab": {
      "provenance": [],
      "authorship_tag": "ABX9TyN1WhVHRiFvF7gd7T2WW1Dt",
      "include_colab_link": true
    },
    "kernelspec": {
      "name": "python3",
      "display_name": "Python 3"
    },
    "language_info": {
      "name": "python"
    }
  },
  "cells": [
    {
      "cell_type": "markdown",
      "metadata": {
        "id": "view-in-github",
        "colab_type": "text"
      },
      "source": [
        "<a href=\"https://colab.research.google.com/github/tomersk/learn-python/blob/main/02_05.ipynb\" target=\"_parent\"><img src=\"https://colab.research.google.com/assets/colab-badge.svg\" alt=\"Open In Colab\"/></a>"
      ]
    },
    {
      "cell_type": "markdown",
      "source": [
        "## 2.5 Expressions\n",
        "\n",
        "An expression is a combination of values, variables, and operators. A value is an expression, and so is a variable. Following are all legal expressions (assuming that the variable x has been assigned a value:"
      ],
      "metadata": {
        "id": "-jDvLXZpgiF0"
      }
    },
    {
      "cell_type": "code",
      "execution_count": 1,
      "metadata": {
        "colab": {
          "base_uri": "https://localhost:8080/"
        },
        "id": "q_gCvK2Ze0Ss",
        "outputId": "a6f14da1-c868-4d35-bc56-1c1be9f917ee"
      },
      "outputs": [
        {
          "output_type": "execute_result",
          "data": {
            "text/plain": [
              "32"
            ]
          },
          "metadata": {},
          "execution_count": 1
        }
      ],
      "source": [
        "x = 17\n",
        "x + 15"
      ]
    },
    {
      "cell_type": "markdown",
      "source": [
        "If you type an expression in interactive mode, the interpreter evaluates it and displays the result.\n",
        "\n",
        "But in a script, an expression all by itself doesn’t do anything! This is a common source of confusion for beginners."
      ],
      "metadata": {
        "id": "KwadNym1hJyN"
      }
    }
  ]
}