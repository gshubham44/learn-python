{
  "nbformat": 4,
  "nbformat_minor": 0,
  "metadata": {
    "colab": {
      "provenance": [],
      "authorship_tag": "ABX9TyNHtLpCaQ1Bp8/lAicBc/dn",
      "include_colab_link": true
    },
    "kernelspec": {
      "name": "python3",
      "display_name": "Python 3"
    },
    "language_info": {
      "name": "python"
    }
  },
  "cells": [
    {
      "cell_type": "markdown",
      "metadata": {
        "id": "view-in-github",
        "colab_type": "text"
      },
      "source": [
        "<a href=\"https://colab.research.google.com/github/tomersk/learn-python/blob/main/06_02.ipynb\" target=\"_parent\"><img src=\"https://colab.research.google.com/assets/colab-badge.svg\" alt=\"Open In Colab\"/></a>"
      ]
    },
    {
      "cell_type": "markdown",
      "source": [
        "## 6.2 Geoinformation\n",
        "The raster data can be geo-referenced either by specifying the GeoTransform variable, or by specifying the GCPs for the image. The GeoTransform (GT) is related to the geographical co-ordinates in the following way,\n",
        "\n",
        "$ X_{geo} = GT[0] + X_{image} ∗GT[1] + Y_{image} ∗GT[2]$, \n",
        "$ Y_{geo} = GT[3] + X_{image} ∗GT[4] + Y_{image} ∗GT[5]$, \n",
        "\n",
        "where, subscript $geo$ refers to the global co-ordinates, and $image$ refers to the image co-ordinates, i.e. pixel and line number of image. The number in the square bracket ([]) represents the indices of the GT variables. $X$ and $Y$ are co-ordinates. GT[2] and GT[4] represents the orientation of the image, with respect to the $X$ and $Y$ of geo, and becomes zero if the image is north up. GT[1] represents\n",
        "pixel width, and GT[5] represents the pixel height. GT[0] and GT[3] is the position of the top left\n",
        "corner of the top left pixel of the raster. It should be noted that the pixel/line coordinates in the above\n",
        "are from (0.0,0.0) at the top left corner of the top left pixel to at the bottom right corner of the bottom right pixel. The pixel/line location of the center of the top left pixel would therefore be (0.5,0.5).\n",
        "The information related to the geo-referencing can be specified by specifying the control points.\n",
        "Control points should contains minimally the $GCP_{Pixel}$ (pixel number of image), $GCP_{Line}$ (line number of image), $GCP_X$ (X co-ordinate), $GCP_Y$ (Y co-ordinate), and $GCP_Z$ (Z co-ordinate). The (Pixel, Line) position is the GCP location on the raster. The ($X$, $Y$, $Z$) position is the associated georeferenced location with the $Z$ often being zero. Usually polynomials are used to transform the image co-ordinate (Pixel,Line) into geo-referenced co-ordinates.\n",
        "\n",
        "Normally a dataset will contain either an affine geotransform or GCPs. In addition to the information about how co-ordinates are related to the geo-referenced co-ordinates, the name of co-ordinate system is also assigned to the image."
      ],
      "metadata": {
        "id": "B29RpI3OTNg5"
      }
    }
  ]
}