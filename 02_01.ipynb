{
  "nbformat": 4,
  "nbformat_minor": 0,
  "metadata": {
    "colab": {
      "provenance": [],
      "authorship_tag": "ABX9TyOQTQk9XaHpPd4MO8LEn3DJ",
      "include_colab_link": true
    },
    "kernelspec": {
      "name": "python3",
      "display_name": "Python 3"
    },
    "language_info": {
      "name": "python"
    }
  },
  "cells": [
    {
      "cell_type": "markdown",
      "metadata": {
        "id": "view-in-github",
        "colab_type": "text"
      },
      "source": [
        "<a href=\"https://colab.research.google.com/github/tomersk/learn-python/blob/main/02_01.ipynb\" target=\"_parent\"><img src=\"https://colab.research.google.com/assets/colab-badge.svg\" alt=\"Open In Colab\"/></a>"
      ]
    },
    {
      "cell_type": "markdown",
      "source": [
        "## 2.1 Data Types\n",
        "There are basically two types of data in Python: numbers and strings. The type function can be used to check the type of data.\n",
        "\n",
        "### 2.1.1 Numbers\n",
        "There are three types of number in Python: integers, floating point and complex numbers. Integers are needed for indexing the arrays (vector, matrix), and counting etc. In Python there is no need to define the variable types a priori, and you are even allowed to change the data type later in the program, wherever needed."
      ],
      "metadata": {
        "id": "zrbBP1fxG_6I"
      }
    },
    {
      "cell_type": "code",
      "execution_count": 1,
      "metadata": {
        "colab": {
          "base_uri": "https://localhost:8080/"
        },
        "id": "4bknbpavG7hC",
        "outputId": "2a208078-61e8-4c6f-a570-5e61028de87e"
      },
      "outputs": [
        {
          "output_type": "execute_result",
          "data": {
            "text/plain": [
              "int"
            ]
          },
          "metadata": {},
          "execution_count": 1
        }
      ],
      "source": [
        "a = 5\n",
        "type(a)"
      ]
    },
    {
      "cell_type": "markdown",
      "source": [
        "This means that, the data type of variable *a* is integer.\n",
        "\n",
        "Another most commonly used data type is float. Most of\n",
        "the real life data we use belongs to this category of data type."
      ],
      "metadata": {
        "id": "Dl3bIW63HUrB"
      }
    },
    {
      "cell_type": "code",
      "source": [
        "b = 7.8\n",
        "type(b)"
      ],
      "metadata": {
        "colab": {
          "base_uri": "https://localhost:8080/"
        },
        "id": "HOxaBGH-HiMp",
        "outputId": "935670ec-f2f5-4ed1-bd83-4614eeb1a68c"
      },
      "execution_count": 2,
      "outputs": [
        {
          "output_type": "execute_result",
          "data": {
            "text/plain": [
              "float"
            ]
          },
          "metadata": {},
          "execution_count": 2
        }
      ]
    },
    {
      "cell_type": "markdown",
      "source": [
        "This tells that the data type is floating point. Another data type is complex, which is not frequently\n",
        "needed in the analysis usually we do."
      ],
      "metadata": {
        "id": "kkj-GNyAHmyq"
      }
    },
    {
      "cell_type": "code",
      "source": [
        "c = 5 + 2j\n",
        "type(c)"
      ],
      "metadata": {
        "colab": {
          "base_uri": "https://localhost:8080/"
        },
        "id": "8en0J9sxHsOU",
        "outputId": "cfe24ed1-1d10-4fed-c808-67adb4ff0d21"
      },
      "execution_count": 3,
      "outputs": [
        {
          "output_type": "execute_result",
          "data": {
            "text/plain": [
              "complex"
            ]
          },
          "metadata": {},
          "execution_count": 3
        }
      ]
    },
    {
      "cell_type": "markdown",
      "source": [
        "The variable *c* represents the complex data type.\n",
        "\n",
        "### 2.1.2 Strings\n",
        "A string is a sequence of characters. There are mainly three following way to specify a string.\n",
        "\n",
        "#### Single Quotes\n",
        "The text written inside single quotes is treated as string by Python."
      ],
      "metadata": {
        "id": "bl7TUJbRHyDy"
      }
    },
    {
      "cell_type": "code",
      "source": [
        "foo = 'my name is Joe'\n",
        "print(foo)"
      ],
      "metadata": {
        "colab": {
          "base_uri": "https://localhost:8080/"
        },
        "id": "bve2alTNIGR5",
        "outputId": "d48bb088-f00c-4e89-ddef-ea4dbb0a0781"
      },
      "execution_count": 4,
      "outputs": [
        {
          "output_type": "stream",
          "name": "stdout",
          "text": [
            "my name is Joe\n"
          ]
        }
      ]
    },
    {
      "cell_type": "markdown",
      "source": [
        "#### Double Quotes\n",
        "Double quotes are also used to define a string. One may ask the question, \"If single quotes are able to\n",
        "define a string, then why are double quotes needed?\" Let’s try to write What's your name? using single quotes."
      ],
      "metadata": {
        "id": "JQfrMIqxICDT"
      }
    },
    {
      "cell_type": "code",
      "source": [
        "foo = 'what's your name?'"
      ],
      "metadata": {
        "colab": {
          "base_uri": "https://localhost:8080/",
          "height": 133
        },
        "id": "S-LPaZZ4IQcr",
        "outputId": "c67c2cbc-ddfc-4d8f-c812-04c8f79b62ab"
      },
      "execution_count": 5,
      "outputs": [
        {
          "output_type": "error",
          "ename": "SyntaxError",
          "evalue": "ignored",
          "traceback": [
            "\u001b[0;36m  File \u001b[0;32m\"<ipython-input-5-95ba94c3d590>\"\u001b[0;36m, line \u001b[0;32m1\u001b[0m\n\u001b[0;31m    foo = 'what's your name?'\u001b[0m\n\u001b[0m                ^\u001b[0m\n\u001b[0;31mSyntaxError\u001b[0m\u001b[0;31m:\u001b[0m invalid syntax\n"
          ]
        }
      ]
    },
    {
      "cell_type": "markdown",
      "source": [
        "This produces SyntaxError. Because Python did not find pairs of single quotes, and hence Python\n",
        "could not decide which two single quotes to consider for identifying the string. Now, let’s try\n",
        "defining the same string using double quotes."
      ],
      "metadata": {
        "id": "Ue5YVNgbIU1c"
      }
    },
    {
      "cell_type": "code",
      "source": [
        "foo = \"what's your name?\"\n",
        "print(foo)"
      ],
      "metadata": {
        "colab": {
          "base_uri": "https://localhost:8080/"
        },
        "id": "WWo6BudQIZVb",
        "outputId": "707996c7-8999-48e1-e27f-e60142939f54"
      },
      "execution_count": 6,
      "outputs": [
        {
          "output_type": "stream",
          "name": "stdout",
          "text": [
            "what's your name?\n"
          ]
        }
      ]
    },
    {
      "cell_type": "markdown",
      "source": [
        "As you might have noticed that double quotes provide an easy way to define strings, which involve single quotes. The same task can be performed using single quote also, by telling Python which of the single quote should not be used to identify the begininning and ending of the string. The \\ is\n",
        "used befor null single quote. Lets write the same string by using the single quotes only where we will use \\ before '."
      ],
      "metadata": {
        "id": "O48LleVJIU_C"
      }
    },
    {
      "cell_type": "code",
      "source": [
        "foo = 'what\\'s your name?'\n",
        "print(foo)"
      ],
      "metadata": {
        "colab": {
          "base_uri": "https://localhost:8080/"
        },
        "id": "tgkSvqFNI0fd",
        "outputId": "4482ebba-7e91-4574-87ba-97352c6dc9fd"
      },
      "execution_count": 7,
      "outputs": [
        {
          "output_type": "stream",
          "name": "stdout",
          "text": [
            "what's your name?\n"
          ]
        }
      ]
    },
    {
      "cell_type": "markdown",
      "source": [
        "#### Triple Quotes\n",
        "When the strings spans over more than one line, triples quotes are best to define them. Multi-line\n",
        "strings can also be specified using escape sequence *\\n* in single or double quote strings, however triple quotes make it easier to write. Triple quotes are also useful for other things (making help content for functions) also, which you will read later in the book."
      ],
      "metadata": {
        "id": "PYSxEmNwI7oe"
      }
    },
    {
      "cell_type": "code",
      "source": [
        "foo = \"\"\"My name is Sat Kumar.\n",
        "I am going to write multiline strings\"\"\"\n",
        "print(foo)"
      ],
      "metadata": {
        "colab": {
          "base_uri": "https://localhost:8080/"
        },
        "id": "t_MT_T1sJO-Q",
        "outputId": "90c8db4f-a77c-491a-c9b7-2f7a6f06b018"
      },
      "execution_count": 8,
      "outputs": [
        {
          "output_type": "stream",
          "name": "stdout",
          "text": [
            "My name is Sat Kumar.\n",
            "I am going to write multiline strings\n"
          ]
        }
      ]
    }
  ]
}