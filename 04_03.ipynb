{
  "nbformat": 4,
  "nbformat_minor": 0,
  "metadata": {
    "colab": {
      "provenance": [],
      "authorship_tag": "ABX9TyMkT6HWfPEl99soj9vEyyt5",
      "include_colab_link": true
    },
    "kernelspec": {
      "name": "python3",
      "display_name": "Python 3"
    },
    "language_info": {
      "name": "python"
    }
  },
  "cells": [
    {
      "cell_type": "markdown",
      "metadata": {
        "id": "view-in-github",
        "colab_type": "text"
      },
      "source": [
        "<a href=\"https://colab.research.google.com/github/tomersk/learn-python/blob/main/04_03.ipynb\" target=\"_parent\"><img src=\"https://colab.research.google.com/assets/colab-badge.svg\" alt=\"Open In Colab\"/></a>"
      ]
    },
    {
      "cell_type": "markdown",
      "source": [
        "## 4.3 Terminal velocity of precipitation\n",
        "\n",
        "The terminal velocity ($V_t$) of a falling raindrop is given by:\n",
        "\n",
        "$V_t =\u0014 \\left[ \\frac{4gD}{3C_d}\u0012 \\left(\\frac{\\rho_w}{\\rho_a}−1 \\right) \\right]^{1/2} $,\n",
        "\n",
        "where, $g$ is the acceleration due to gravity, $D$ is the diameter of the falling raindrop, $\\rho_w$ is the density\n",
        "of water, $\\rho_a$ is the density of air, and $C_d$ is the drag coefficient. The Stoke’s law can be used to calculate drag coefficient ($C_d = 24/Re$), which is valid for raindrop having diameter less than 0.1 mm. $Re$ is the Reynold number, which can be calculated as $\\rho_a V D/\\mu_a$. Let us assume, that the $Re$ is given as 5.0, and the raindrop has diameter of 0.05 mm, and we want to estimate the $V_t$. ($\\rho_w = 998$, $\\rho_a = 1.2$)."
      ],
      "metadata": {
        "id": "glHxUMd0tP4c"
      }
    },
    {
      "cell_type": "code",
      "source": [
        "import numpy as np\n",
        "\n",
        "Re = 5.0; rho_w = 998; rho_a = 1.2; g = 9.8; D = 0.05E-3\n",
        "Cd = 24/Re\n",
        "Vt = np.sqrt((4*g*D)/(3*Cd)*(rho_w/rho_a-1))\n",
        "Vt"
      ],
      "metadata": {
        "colab": {
          "base_uri": "https://localhost:8080/"
        },
        "id": "HBkiL0KptCXp",
        "outputId": "0535cac9-bc8d-4a0e-c640-7e4a26c5b1c6"
      },
      "execution_count": 2,
      "outputs": [
        {
          "output_type": "execute_result",
          "data": {
            "text/plain": [
              "0.3362483649967134"
            ]
          },
          "metadata": {},
          "execution_count": 2
        }
      ]
    },
    {
      "cell_type": "markdown",
      "source": [
        "In this example we see that \";\" allows us to define many expressions in one line."
      ],
      "metadata": {
        "id": "M_CcexdbvQwr"
      }
    }
  ]
}