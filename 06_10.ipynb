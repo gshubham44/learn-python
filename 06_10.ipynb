{
  "nbformat": 4,
  "nbformat_minor": 0,
  "metadata": {
    "colab": {
      "provenance": [],
      "authorship_tag": "ABX9TyPiCOD7o87gHYuIpXisalUT",
      "include_colab_link": true
    },
    "kernelspec": {
      "name": "python3",
      "display_name": "Python 3"
    },
    "language_info": {
      "name": "python"
    }
  },
  "cells": [
    {
      "cell_type": "markdown",
      "metadata": {
        "id": "view-in-github",
        "colab_type": "text"
      },
      "source": [
        "<a href=\"https://colab.research.google.com/github/tomersk/learn-python/blob/main/06_10.ipynb\" target=\"_parent\"><img src=\"https://colab.research.google.com/assets/colab-badge.svg\" alt=\"Open In Colab\"/></a>"
      ]
    },
    {
      "cell_type": "markdown",
      "source": [
        "## 6.10 Clustering\n",
        "Clustering or unsuprvised classification is used to make groups of data without the help of any training data. These groups might not be able to differentiate between the physical groups e.g. different typs of crops. If we want to use clustering to seperate out the physical features, we need to look for the sensitive indices for that particular physicall differentiation.\n",
        "We will be using EVI indices to seperate out the forest and rest of the area."
      ],
      "metadata": {
        "id": "8FAeT1NZCerA"
      }
    },
    {
      "cell_type": "code",
      "execution_count": 15,
      "metadata": {
        "colab": {
          "base_uri": "https://localhost:8080/",
          "height": 261
        },
        "id": "xpStBXKxCOF5",
        "outputId": "b7dcd936-d1b1-4217-8a85-83db227367f2"
      },
      "outputs": [
        {
          "output_type": "display_data",
          "data": {
            "text/plain": [
              "<Figure size 432x288 with 2 Axes>"
            ],
            "image/png": "[encoded data removed]"
          },
          "metadata": {
            "needs_background": "light"
          }
        }
      ],
      "source": [
        "from google.colab import drive\n",
        "from osgeo import gdal\n",
        "import matplotlib.pyplot as plt\n",
        "from sklearn import cluster\n",
        "from matplotlib import colors\n",
        "\n",
        "#drive.mount(\"/content/gdrive\")\n",
        "\n",
        "\n",
        "# read the banda 2 raster data\n",
        "driver = gdal.GetDriverByName('GTiff')\n",
        "file_name = \"/content/gdrive/My Drive/Colab Notebooks/LearnPython/data/band2.tif\"\n",
        "dataset = gdal.Open(file_name, gdal.GA_ReadOnly)\n",
        "geotransform = dataset.GetGeoTransform()\n",
        "projection = dataset.GetProjection()\n",
        "band2 = dataset.GetRasterBand(1).ReadAsArray()\n",
        "dataset = None\n",
        "\n",
        "# read the banda 3 raster data\n",
        "driver = gdal.GetDriverByName('GTiff')\n",
        "file_name = \"/content/gdrive/My Drive/Colab Notebooks/LearnPython/data/band3.tif\"\n",
        "dataset = gdal.Open(file_name, gdal.GA_ReadOnly)\n",
        "geotransform = dataset.GetGeoTransform()\n",
        "projection = dataset.GetProjection()\n",
        "band3 = dataset.GetRasterBand(1).ReadAsArray()\n",
        "dataset = None\n",
        "\n",
        "L = 1\n",
        "C1 = 1\n",
        "G = 2.5\n",
        "\n",
        "evi = G*(band3-band2)/(band3+C1*band2+L)\n",
        "\n",
        "data = evi.reshape(150*200,1)\n",
        "k_means = cluster.KMeans(n_clusters=2)\n",
        "k_means.fit(data)\n",
        "foo = k_means.labels_.reshape(150, 200)\n",
        "\n",
        "cmap = colors.ListedColormap(['green', '0.7'])\n",
        "bounds=[0,1,2]\n",
        "norm = colors.BoundaryNorm(bounds, cmap.N)\n",
        "\n",
        "plt.imshow(foo, cmap=cmap)\n",
        "plt.colorbar(ticks=[0, 1])\n",
        "plt.show()"
      ]
    },
    {
      "cell_type": "markdown",
      "source": [
        "Green colour denotes the forest part and grey colour depicts the other LULC."
      ],
      "metadata": {
        "id": "1PZf0myDGeeQ"
      }
    }
  ]
}