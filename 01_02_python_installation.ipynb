{
  "nbformat": 4,
  "nbformat_minor": 0,
  "metadata": {
    "colab": {
      "provenance": [],
      "authorship_tag": "ABX9TyO9v/dfEVn9emg8cxam/xJ+",
      "include_colab_link": true
    },
    "kernelspec": {
      "name": "python3",
      "display_name": "Python 3"
    },
    "language_info": {
      "name": "python"
    }
  },
  "cells": [
    {
      "cell_type": "markdown",
      "metadata": {
        "id": "view-in-github",
        "colab_type": "text"
      },
      "source": [
        "<a href=\"https://colab.research.google.com/github/tomersk/learn-python/blob/main/01_02_python_installation.ipynb\" target=\"_parent\"><img src=\"https://colab.research.google.com/assets/colab-badge.svg\" alt=\"Open In Colab\"/></a>"
      ]
    },
    {
      "cell_type": "markdown",
      "source": [
        "##1.2 Python Installation\n",
        "\n",
        "Usually all the Linux/Unix system has basic Python installed by-default. If you are in some other platform (Windows or Mac), or for some reason your Linux/Unix do not have a basic version of Python installed, you can use the below instructions to install the basic version of Python depending upon on your platform. The basic version of Python includes minimal packages required to run the python. Often additional packages are required to do the required tasks, specially for most of the hydrological applications, the basic version of python is not enough, and additional packages are must.\n",
        "\n",
        "The next section will describe the installation procedure for required additional packages. \n",
        "\n",
        "The installation of Python for the various operating system is done in the following ways\n",
        "### 1.2.1 Ubuntu/Debian\n",
        "In the Ubuntu/Debian, the Python is installed by running the usual installation command, i.e.:\n"
      ],
      "metadata": {
        "id": "XI9vH4q34I9o"
      }
    },
    {
      "cell_type": "code",
      "source": [
        "$ sudo apt-get install python"
      ],
      "metadata": {
        "id": "jONAOUSN4gW7"
      },
      "execution_count": null,
      "outputs": []
    },
    {
      "cell_type": "markdown",
      "source": [
        "Kindly note that $ symbole means that you need to run the command in your Shell.\n",
        "\n",
        "### 1.2.2 Fedora\n",
        "On Fedora, the installation of the Python is performed by using the following command:\n",
        "$ sudo yum install python"
      ],
      "metadata": {
        "id": "9-xcCHft46Wd"
      }
    },
    {
      "cell_type": "markdown",
      "source": [
        "### 1.2.3 FreeBSD\n",
        "Python is installed on FreeBSD by running:"
      ],
      "metadata": {
        "id": "kTGLAwym5RLW"
      }
    },
    {
      "cell_type": "code",
      "source": [
        "$ sudo pkg_add install python"
      ],
      "metadata": {
        "id": "L1aUz8I25ZBs"
      },
      "execution_count": null,
      "outputs": []
    },
    {
      "cell_type": "markdown",
      "source": [
        "The Linux user might be familiar with sudo. It allows user to run programs with the security privileges of root or administrator. Window user may ignore sudo, as they do not need to specify this."
      ],
      "metadata": {
        "id": "qCIWrQRp5evW"
      }
    },
    {
      "cell_type": "markdown",
      "source": [
        "### 1.2.4 Windows\n",
        "For Windows users, the suitable version of Python can be downloaded from http://www.python.org/getit/. It provides a .msi file, which can be easily installed by double\n",
        "clicking on it."
      ],
      "metadata": {
        "id": "jEeK2wV55Jpk"
      }
    },
    {
      "cell_type": "markdown",
      "source": [
        "### 1.2.5 Mac OS\n",
        "Mac OS users also can download a suitable version of Python from http://www.python.org/getit/ and install it."
      ],
      "metadata": {
        "id": "NxAhZPkY4_C9"
      }
    }
  ]
}