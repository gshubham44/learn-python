{
  "nbformat": 4,
  "nbformat_minor": 0,
  "metadata": {
    "colab": {
      "provenance": [],
      "authorship_tag": "ABX9TyNRnXHfoEQho4zjITuCAyvt",
      "include_colab_link": true
    },
    "kernelspec": {
      "name": "python3",
      "display_name": "Python 3"
    },
    "language_info": {
      "name": "python"
    }
  },
  "cells": [
    {
      "cell_type": "markdown",
      "metadata": {
        "id": "view-in-github",
        "colab_type": "text"
      },
      "source": [
        "<a href=\"https://colab.research.google.com/github/tomersk/learn-python/blob/main/01_07.ipynb\" target=\"_parent\"><img src=\"https://colab.research.google.com/assets/colab-badge.svg\" alt=\"Open In Colab\"/></a>"
      ]
    },
    {
      "cell_type": "markdown",
      "source": [
        "## 1.7 The First Program\n",
        "Traditionally, the first program you start with in a new language is “Hello, World!” program, because all it does is display the words, “Hello, World!”. In Python, it is done by following syntax of codes:"
      ],
      "metadata": {
        "id": "wBHGPXiaD9zz"
      }
    },
    {
      "cell_type": "code",
      "execution_count": 2,
      "metadata": {
        "colab": {
          "base_uri": "https://localhost:8080/"
        },
        "id": "nsyvE6N-D5yx",
        "outputId": "ad0defde-dd56-4d9c-b60c-5b77047f4737"
      },
      "outputs": [
        {
          "output_type": "stream",
          "name": "stdout",
          "text": [
            "Hello, World!\n"
          ]
        }
      ],
      "source": [
        "print('Hello, World!')"
      ]
    },
    {
      "cell_type": "markdown",
      "source": [
        "This is an example of a print statement, which prints on computer screen. In this case, the result is\n",
        "the sentence:\n",
        "\n",
        "Hello, World!\n",
        "\n",
        "The quotation marks in the program mark the beginning and end of the string."
      ],
      "metadata": {
        "id": "1tPq73E4EVT-"
      }
    }
  ]
}