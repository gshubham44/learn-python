{
  "nbformat": 4,
  "nbformat_minor": 0,
  "metadata": {
    "colab": {
      "provenance": [],
      "authorship_tag": "ABX9TyOIX790A1ZKD+MUpTpvcDkF",
      "include_colab_link": true
    },
    "kernelspec": {
      "name": "python3",
      "display_name": "Python 3"
    },
    "language_info": {
      "name": "python"
    }
  },
  "cells": [
    {
      "cell_type": "markdown",
      "metadata": {
        "id": "view-in-github",
        "colab_type": "text"
      },
      "source": [
        "<a href=\"https://colab.research.google.com/github/tomersk/learn-python/blob/main/05_03.ipynb\" target=\"_parent\"><img src=\"https://colab.research.google.com/assets/colab-badge.svg\" alt=\"Open In Colab\"/></a>"
      ]
    },
    {
      "cell_type": "markdown",
      "source": [
        "## 5.3 The t-test\n",
        "In statistics, we make hypothesis like two different random variable have the same mean, or have\n",
        "equal variance, or they follow same distribution. To test these hypothesis, test statistic is derived,\n",
        "and based on the test statistic, the hypothesis is rejected or accepted. When the test statistic follow a Student’s t distribution, the t-test is used to test hypothesis. This test is available in the\n",
        "scipy.stats library. Let us first test if the mean of random variable is same as we expected or not.\n",
        "st.ttest_1samp function is used for this purpose. We will generate normally distributed random\n",
        "variable having mean equal to 5, and standard deviation equal to 10. And we will test if the mean\n",
        "of this generated random variable is 5 or not. Because we are talking 1000 number of sample, we\n",
        "expect that the mean will be approximately equal to 5 most of the time (but not always). The hypothetis is rejected or accepted based on the p-value. The p-value close to one means that hypothesis is\n",
        "true; a value closer to zero means that the hypothesis is rejected. The significance level ($\\alpha$) is used\n",
        "to define the threshold, which is often taken as 0.05 or 0.01. If the p-value is greater than this than\n",
        "we can accept the hypothesis."
      ],
      "metadata": {
        "id": "M_JiBOzRhPh9"
      }
    },
    {
      "cell_type": "code",
      "execution_count": 5,
      "metadata": {
        "colab": {
          "base_uri": "https://localhost:8080/"
        },
        "id": "bNTUdAl1hK0A",
        "outputId": "83bab908-6488-427e-d43e-c333c064b283"
      },
      "outputs": [
        {
          "output_type": "stream",
          "name": "stdout",
          "text": [
            "0.2774121493487677\n"
          ]
        }
      ],
      "source": [
        "import scipy.stats as st\n",
        "\n",
        "rvs1 = st.norm.rvs(loc=5,scale=10,size=1000)\n",
        "# t-test\n",
        "t, p = st.ttest_1samp(rvs1,5)\n",
        "print(p)"
      ]
    },
    {
      "cell_type": "markdown",
      "source": [
        "We see in this example that p-value is not below our threshold, which means the mean of generated random variable\n",
        "is close to 5. \n",
        "\n",
        "\n",
        "The t-test is also used to test if the mean of two independent random number is equal or not. Let us generate two normally distributed random variable with same mean, say 5. We would like to see if the mean of these two independent random variable is same or not. We can use\n",
        "st.ttest_ind for this purpose. In this example the p-value is 0.96, which means means are same."
      ],
      "metadata": {
        "id": "9rUlRJttj9MQ"
      }
    },
    {
      "cell_type": "code",
      "source": [
        "rvs1 = st.norm.rvs(loc=5,scale=10,size=1000)\n",
        "rvs2 = st.norm.rvs(loc=5,scale=10,size=1000)\n",
        "# t-test\n",
        "t, p = st.ttest_ind(rvs1,rvs2)\n",
        "print(p)"
      ],
      "metadata": {
        "colab": {
          "base_uri": "https://localhost:8080/"
        },
        "id": "tyGMu8bXkgQP",
        "outputId": "fa64ce66-ca1b-4112-f92d-a78a8e53f984"
      },
      "execution_count": 6,
      "outputs": [
        {
          "output_type": "stream",
          "name": "stdout",
          "text": [
            "0.8209315558743397\n"
          ]
        }
      ]
    },
    {
      "cell_type": "markdown",
      "source": [
        "In the previous example, we tested two independent sample for the mean. We can also test if the\n",
        "mean is same or not, when the samples are related or come from same experiment. We can use\n",
        "st.ttest_rel for this purpose. \n",
        "\n",
        "We get p-value higher than the threshold, which means that the means are same."
      ],
      "metadata": {
        "id": "u2L6XZbHkpxW"
      }
    },
    {
      "cell_type": "code",
      "source": [
        "rvs1 = st.norm.rvs(loc=5,scale=10,size=1000)\n",
        "rvs2 = st.norm.rvs(loc=5,scale=10,size=1000)\n",
        "\n",
        "# t-test\n",
        "t, p = st.ttest_rel(rvs1,rvs2)\n",
        "print(p)"
      ],
      "metadata": {
        "colab": {
          "base_uri": "https://localhost:8080/"
        },
        "id": "odPVlVlRksXO",
        "outputId": "e3f9ac25-ca99-44f3-e60e-c10989a1946e"
      },
      "execution_count": 7,
      "outputs": [
        {
          "output_type": "stream",
          "name": "stdout",
          "text": [
            "0.6070549384440724\n"
          ]
        }
      ]
    }
  ]
}