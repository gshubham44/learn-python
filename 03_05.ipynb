{
  "nbformat": 4,
  "nbformat_minor": 0,
  "metadata": {
    "colab": {
      "provenance": [],
      "authorship_tag": "ABX9TyMcXaI1h8Cx1UYeb6KbSAoh",
      "include_colab_link": true
    },
    "kernelspec": {
      "name": "python3",
      "display_name": "Python 3"
    },
    "language_info": {
      "name": "python"
    }
  },
  "cells": [
    {
      "cell_type": "markdown",
      "metadata": {
        "id": "view-in-github",
        "colab_type": "text"
      },
      "source": [
        "<a href=\"https://colab.research.google.com/github/tomersk/learn-python/blob/main/03_05.ipynb\" target=\"_parent\"><img src=\"https://colab.research.google.com/assets/colab-badge.svg\" alt=\"Open In Colab\"/></a>"
      ]
    },
    {
      "cell_type": "markdown",
      "source": [
        "### 3.5 DataFrame\n",
        "\n",
        "DataFrame is a kind of dictionary. In a dictionary, each key corresponds to a value, while in the DataFrame, each key corresponds to a series (column). *pandas* is a library to deal with DataFrame, we will be using the same. \n",
        "\n",
        "### 3.5.1 Creating a DataFrame\n",
        "Let us start taking the same sample data as we took in the *dictionary* section."
      ],
      "metadata": {
        "id": "gLbDBrFaFBQ2"
      }
    },
    {
      "cell_type": "code",
      "execution_count": 3,
      "metadata": {
        "colab": {
          "base_uri": "https://localhost:8080/"
        },
        "id": "ynxyJjEgD1sj",
        "outputId": "c72f4f39-6739-4dc9-fb5b-f1bf303e3bda"
      },
      "outputs": [
        {
          "output_type": "stream",
          "name": "stdout",
          "text": [
            "   names  rainfall\n",
            "0    420        50\n",
            "1    380        40\n",
            "2    390        45\n"
          ]
        }
      ],
      "source": [
        "import pandas as pd\n",
        "\n",
        "names = ['Delhi', 'Bangalore', 'Kolkata']\n",
        "rainfall = [0, 5, 10]\n",
        "\n",
        "data = {\n",
        "  \"names\": [420, 380, 390],\n",
        "  \"rainfall\": [50, 40, 45]\n",
        "}\n",
        "\n",
        "df = pd.DataFrame(data)\n",
        "print(df)"
      ]
    },
    {
      "cell_type": "markdown",
      "source": [
        "This example does not show any benefit of using DataFrame over the dictionary. However, as we go much deeper into the DataFrame, the benefits will be obvious, so keep some patience.\n",
        "\n",
        "Let get data over second and third row in our DataFrame:"
      ],
      "metadata": {
        "id": "hrdFba3EG6ox"
      }
    },
    {
      "cell_type": "code",
      "source": [
        "print(df.loc[[1,2]])"
      ],
      "metadata": {
        "colab": {
          "base_uri": "https://localhost:8080/"
        },
        "id": "byK4N8h-HVtF",
        "outputId": "7f352fc5-bbb2-4941-bb77-7a4392ff626d"
      },
      "execution_count": 7,
      "outputs": [
        {
          "output_type": "stream",
          "name": "stdout",
          "text": [
            "   names  rainfall\n",
            "1    380        40\n",
            "2    390        45\n"
          ]
        }
      ]
    },
    {
      "cell_type": "markdown",
      "source": [
        "Note that when we would like to have more than one row, we are providing input as list ([1,2]).\n",
        "\n",
        "### 3.5.2 Indexing DataFrame\n",
        "\n",
        "We can provide the name of row (i.e. index) also such as:"
      ],
      "metadata": {
        "id": "oSUqpjtvHp2I"
      }
    },
    {
      "cell_type": "code",
      "source": [
        "df = pd.DataFrame(data, index = [\"first\", \"second\", \"third\"])\n",
        "\n",
        "print(df) "
      ],
      "metadata": {
        "colab": {
          "base_uri": "https://localhost:8080/"
        },
        "id": "vYB_c7jyHpMw",
        "outputId": "516cd585-7175-4149-cddd-051dd50e2c97"
      },
      "execution_count": 8,
      "outputs": [
        {
          "output_type": "stream",
          "name": "stdout",
          "text": [
            "        names  rainfall\n",
            "first     420        50\n",
            "second    380        40\n",
            "third     390        45\n"
          ]
        }
      ]
    },
    {
      "cell_type": "markdown",
      "source": [
        "Then, we can print value based on the index:"
      ],
      "metadata": {
        "id": "7LFShqLQIXYt"
      }
    },
    {
      "cell_type": "code",
      "source": [
        "print(df.loc[\"first\"])"
      ],
      "metadata": {
        "colab": {
          "base_uri": "https://localhost:8080/"
        },
        "id": "gjds8858Ianu",
        "outputId": "024be292-5cd9-42e8-92b5-87644ef5e6d0"
      },
      "execution_count": 9,
      "outputs": [
        {
          "output_type": "stream",
          "name": "stdout",
          "text": [
            "names       420\n",
            "rainfall     50\n",
            "Name: first, dtype: int64\n"
          ]
        }
      ]
    }
  ]
}