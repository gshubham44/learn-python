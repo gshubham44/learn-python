{
  "nbformat": 4,
  "nbformat_minor": 0,
  "metadata": {
    "colab": {
      "provenance": [],
      "authorship_tag": "ABX9TyNfANRKj0kahOS4mbLpLo+g",
      "include_colab_link": true
    },
    "kernelspec": {
      "name": "python3",
      "display_name": "Python 3"
    },
    "language_info": {
      "name": "python"
    }
  },
  "cells": [
    {
      "cell_type": "markdown",
      "metadata": {
        "id": "view-in-github",
        "colab_type": "text"
      },
      "source": [
        "<a href=\"https://colab.research.google.com/github/tomersk/learn-python/blob/main/05_01.ipynb\" target=\"_parent\"><img src=\"https://colab.research.google.com/assets/colab-badge.svg\" alt=\"Open In Colab\"/></a>"
      ]
    },
    {
      "cell_type": "markdown",
      "source": [
        "# Statistics\n",
        "When there is not a clear understanding of the physics process, or the variables required to do physical modelling are not available, then statistics plays a vital role. There are various modules available in python to deal with statistics, the most commonly used is scipy.stats. Additionally\n",
        "there is one more useful modules statistics, which can be downloaded from http://bonsai.hgc.jp/~mdehoon/software/python/Statistics/. This module is not available for download using the pip, and hence you should download it using internet browser, and then install it using either pip or python setup.py install. Detailed installation instructions are provided at: http://bonsai.hgc.jp/~mdehoon/software/python/Statistics/manual/index.xhtml#TOC47\n",
        "\n",
        "## 5.1 Empirical distributions\n",
        "Most of hydrological variables are continuous, but because of our measurement capability we measure them discretely. The classification of discrete data using bins, provides mean to treat the discrete data as continuous. Visualization of the underlying distribution of data is done by plotting the Histogram. The histogram depicts the frequency over discrete intervals (bins). So let us begin with\n",
        "histogram. In the following example, first we will generate some synthetic data, and then compute\n",
        "and plot the histogram."
      ],
      "metadata": {
        "id": "xJFgA4Xvo8g2"
      }
    },
    {
      "cell_type": "code",
      "source": [
        "import numpy as np\n",
        "import matplotlib.pyplot as plt\n",
        "\n",
        "x = np.random.randn(100) # generate some synthetic data\n",
        "\n",
        "# compute histogram\n",
        "n, bin_edges = np.histogram(x)\n",
        "bin_center = 0.5*(bin_edges[:-1]+bin_edges[1:])"
      ],
      "metadata": {
        "id": "vVJbXFgpp0g8"
      },
      "execution_count": 1,
      "outputs": []
    },
    {
      "cell_type": "markdown",
      "source": [
        "The $np.histogram$ provides the number of bins in each interval (n) and edges of the bins. We use the edges of the bar to compute the center of the bars and will use bar plot to make the histogram. We could have also directly used hisgoram function of matplotlib to make the plot, however we would like to understand how to convert histogram into PDF."
      ],
      "metadata": {
        "id": "7l_prpN2p-9p"
      }
    },
    {
      "cell_type": "code",
      "execution_count": 2,
      "metadata": {
        "colab": {
          "base_uri": "https://localhost:8080/",
          "height": 302
        },
        "id": "Is0j2n0uidyh",
        "outputId": "cde06cf9-2bb4-4096-d2f6-c381940b711a"
      },
      "outputs": [
        {
          "output_type": "display_data",
          "data": {
            "text/plain": [
              "<Figure size 432x288 with 1 Axes>"
            ],
            "image/png": "[encoded data removed]"
          },
          "metadata": {
            "needs_background": "light"
          }
        }
      ],
      "source": [
        "plt.bar(bin_center, n, width=0.4, color='red')\n",
        "plt.xlabel('X', fontsize=20)\n",
        "plt.ylabel('number of data points in the bin', fontsize=15)\n",
        "plt.show()"
      ]
    },
    {
      "cell_type": "markdown",
      "source": [
        "The histogram of the data is shown in above figure. In this example, because we have just created 100 random number from the normal distribution, the histogram is not showing the behaviour that normal distribution should show.\n",
        "\n",
        "Each bar in histogram tells us that how many time the data was in particular bin. A better way to look at the behaviour of data is to look into relative histogram, which tells us about the probability with which data was in some range. The relative histogram or relative frequency is obtained by\n",
        "dividing the frequency in each bin by the sum of frequencies in all the bins. The relative histogram\n",
        "represents the probability of data occurring in the bins. Either we can use the histogram function\n",
        "to first compute histogram, and then divide by total number of frequency, or we can directly use\n",
        "the *relfreq* (from scipy.stats library) function. *relfreq* provides the relative frequency, along with other output which are similar to that of histogram."
      ],
      "metadata": {
        "id": "VzmQKrStsLLG"
      }
    },
    {
      "cell_type": "code",
      "source": [
        "relfreqs = n/len(x)\n",
        "\n",
        "plt.bar(bin_center, relfreqs, width=0.4, color='magenta')\n",
        "plt.xlabel('X', fontsize=20)\n",
        "plt.ylabel('Relative frequencies', fontsize=15)\n",
        "plt.show()"
      ],
      "metadata": {
        "colab": {
          "base_uri": "https://localhost:8080/",
          "height": 288
        },
        "id": "VgH_OGissXpK",
        "outputId": "de942a69-7779-4ffc-efaa-964b16538b6b"
      },
      "execution_count": 3,
      "outputs": [
        {
          "output_type": "display_data",
          "data": {
            "text/plain": [
              "<Figure size 432x288 with 1 Axes>"
            ],
            "image/png": "[encoded data removed]"
          },
          "metadata": {
            "needs_background": "light"
          }
        }
      ]
    },
    {
      "cell_type": "markdown",
      "source": [
        "Because we are using the same x that was used in previous example, hence we are not re-calculating\n",
        "the bins. In this bar plot, we are using magenta color. The different color of plot, is just to make\n",
        "you familiar with colors and font sizes. And, it does not mean that we should use different color for\n",
        "relative frequency diagram than the histogram; nothing prevents us from using the same color.\n",
        "\n",
        "The relative histogram is shown in above figure. The relative histogram tells us how experimental data behaves; how many times (or with what probability) the data was in some range. The relative histograms only tell about experimental data, about the data we have. What about the data we are going to get into future? The PDF is a better indicator to say something about the future data. The probability density function (pdf) of a random variable is a function that describes the relative likelihood for this random variable to occur at a given point. The probability for the random variable to fall within a particular region is given by the integral of this variables density over the region. The probability density function is non-negative everywhere, and its integral over the entire space\n",
        "is equal to one. We can divide the relative frequency by the bin size, and get the pdf. We will be using *bar* plot to plot the PDF."
      ],
      "metadata": {
        "id": "qS5brizKsTHz"
      }
    },
    {
      "cell_type": "code",
      "source": [
        "bin_size = bin_edges[1] - bin_edges[0] # remember in our case bins are of same size\n",
        "pdf = relfreqs/bin_size\n",
        "\n",
        "plt.bar(bin_center, pdf)\n",
        "plt.xlabel('X', fontsize=15)\n",
        "plt.ylabel('PDF', fontsize=15)\n",
        "plt.show()"
      ],
      "metadata": {
        "colab": {
          "base_uri": "https://localhost:8080/",
          "height": 285
        },
        "id": "aPp1Za9-trC4",
        "outputId": "6ac49589-ed70-41ff-b8ef-37e6ff3115cd"
      },
      "execution_count": 4,
      "outputs": [
        {
          "output_type": "display_data",
          "data": {
            "text/plain": [
              "<Figure size 432x288 with 1 Axes>"
            ],
            "image/png": "[encoded data removed]"
          },
          "metadata": {
            "needs_background": "light"
          }
        }
      ]
    },
    {
      "cell_type": "markdown",
      "source": [
        "A simple way to compute PDF is to use *hist* function. *hist* generates the plot, and also returns the value of PDF over each bin. The number of bins are controlled by giving second argument, in the following example it is set at 10. The bins provide the lower and upper ranges of the bin, hence its length is one extra than the number of bins. If we set the *density* to True, we directly get the PDF instead of manually computing the PDF like we did above. However, it is important to understand the relationship between histogram and PDF.\n",
        "\n",
        "Apart from the color we are specifying alpha value to hist function. alpha value controls the transparency of the plot; 0.0 means fully transparent and 1.0 is fully opaque. Below figure shows the bar plot of the PDF."
      ],
      "metadata": {
        "id": "RdCAK2bcuTIr"
      }
    },
    {
      "cell_type": "code",
      "source": [
        "plt.hist(x, 10, density=True, facecolor='yellow', alpha=0.5)\n",
        "plt.xlabel('X', fontsize=15)\n",
        "plt.ylabel('PDF', fontsize=15)\n",
        "plt.show()"
      ],
      "metadata": {
        "colab": {
          "base_uri": "https://localhost:8080/",
          "height": 285
        },
        "id": "qyEk4QCEvGZD",
        "outputId": "a702f7bc-155d-46f5-cf5d-c261cd48745f"
      },
      "execution_count": 5,
      "outputs": [
        {
          "output_type": "display_data",
          "data": {
            "text/plain": [
              "<Figure size 432x288 with 1 Axes>"
            ],
            "image/png": "[encoded data removed]"
          },
          "metadata": {
            "needs_background": "light"
          }
        }
      ]
    },
    {
      "cell_type": "markdown",
      "source": [
        "The cumulative distribution function (CDF) describes the probability that a real-valued random variable $X$ with a given probability distribution will be found at a value less than or equal to $x$. *cumfreq* provides cumulative frequency of the data, which can be used to compute the CDF. If we divide cumulative frequency by the total frequency, we get the CDF. The last value of cummulative frequency is equal to the total frequency, hence we are using this to compute CDF. The CDF is shown in below figure."
      ],
      "metadata": {
        "id": "Z74oSl1MvnZg"
      }
    },
    {
      "cell_type": "code",
      "source": [
        "from scipy import stats as st\n",
        "\n",
        "res = st.cumfreq(x, numbins=10)\n",
        "\n",
        "plt.bar(res.lowerlimit+np.arange(10)*res.binsize, res.cumcount/res.cumcount[-1], width=0.4, color='black', alpha=0.45)\n",
        "plt.xlabel('X', fontsize=15)\n",
        "plt.ylabel('CDF', fontsize=15)\n",
        "plt.show()"
      ],
      "metadata": {
        "colab": {
          "base_uri": "https://localhost:8080/",
          "height": 284
        },
        "id": "e-5XhKmTwLlm",
        "outputId": "ea278e1d-8d62-4d9a-8660-488c24813358"
      },
      "execution_count": 6,
      "outputs": [
        {
          "output_type": "display_data",
          "data": {
            "text/plain": [
              "<Figure size 432x288 with 1 Axes>"
            ],
            "image/png": "[encoded data removed]"
          },
          "metadata": {
            "needs_background": "light"
          }
        }
      ]
    },
    {
      "cell_type": "markdown",
      "source": [
        "We can use ECDF function of the *statsmodels* library to directly estimate the empirical cumulative distribution function (ECDF).  The empirical distribution function (CDF) is the cumulative distribution function associated with the empirical measure of the sample. \n",
        "\n",
        "\n",
        "This cdf is a step function\n",
        "that jumps up by 1/n at each of the n data points. The empirical distribution function estimates\n",
        "the underlying cdf of the points in the sample. In the previous example, we have estimated CDF\n",
        "(ECDF) after classifying data into some bins. This means, we assumed that the data behaves in a\n",
        "statistical similar way over some small range. We can estimate CDF without making this assumption\n",
        "also, which would be done using ECDF function. The output form ECDF function is a object which\n",
        "store the value of data and their corresponding ECDF. The data is retrieved using ecdf.x and their\n",
        "corresponding ECDF is retrieved using ecdf.y. The ecdf is the name of variable that you have\n",
        "defined to store the output of ECDF function, if you use some other name, you need to use same\n",
        "name to retrieve x and y attributes."
      ],
      "metadata": {
        "id": "ypRiSnyQyLQR"
      }
    },
    {
      "cell_type": "code",
      "source": [
        "import numpy as np\n",
        "from statsmodels.distributions.empirical_distribution import ECDF\n",
        "import matplotlib.pyplot as plt\n",
        "\n",
        "data = np.random.normal(0, 5, size=100)\n",
        "\n",
        "ecdf = ECDF(data)\n",
        "plt.step(ecdf.x,ecdf.y)\n",
        "plt.xlabel('data', fontsize=20)\n",
        "plt.ylabel('Empirical CDF', fontsize=15)\n",
        "plt.show()"
      ],
      "metadata": {
        "colab": {
          "base_uri": "https://localhost:8080/",
          "height": 288
        },
        "id": "zsd-o5c7zEng",
        "outputId": "92fa880c-ba3c-4631-863d-9d424c8f55a4"
      },
      "execution_count": 7,
      "outputs": [
        {
          "output_type": "display_data",
          "data": {
            "text/plain": [
              "<Figure size 432x288 with 1 Axes>"
            ],
            "image/png": "[encoded data removed]"
          },
          "metadata": {
            "needs_background": "light"
          }
        }
      ]
    },
    {
      "cell_type": "markdown",
      "source": [
        "We can also use ecdf to evaluate ECDF at any value of data. Let us evaluate and print value of\n",
        "ECDF at some data point (say at 0)."
      ],
      "metadata": {
        "id": "034Lq2ouz-03"
      }
    },
    {
      "cell_type": "code",
      "source": [
        "print(ecdf(0))"
      ],
      "metadata": {
        "colab": {
          "base_uri": "https://localhost:8080/"
        },
        "id": "oV0rvA6yz7kB",
        "outputId": "175c954a-921c-4c6e-8f36-36a74d2803d8"
      },
      "execution_count": 8,
      "outputs": [
        {
          "output_type": "stream",
          "name": "stdout",
          "text": [
            "0.5\n"
          ]
        }
      ]
    },
    {
      "cell_type": "markdown",
      "source": [
        "The empirical CDF estimated using the method mentioned above results in the step function, which does not look so nice. A better way of estimating ECDF is by using kernel functions. This can be done by statistics module. The statistics library provides functions to estimate PDF and CDF\n",
        "using various kernel functions. *cdf* attribute is used for accessing the CDF. Inside legend\n",
        "we are defining location (loc) of the legend as best, which means Python will try to put the legend\n",
        "in the way, as to minimize the interference with plot. The resulted graph after using this curve is\n",
        "shows in the below figure. It is evident from this figure, that this shows a smoother variation compared to ordinary method of ECDF estimation."
      ],
      "metadata": {
        "id": "I6mod3T20QFo"
      }
    },
    {
      "cell_type": "code",
      "source": [
        "import statsmodels.api as sm\n",
        "\n",
        "kde = sm.nonparametric.KDEUnivariate(data)\n",
        "kde.fit()  \n",
        "\n",
        "plt.plot(ecdf.x, ecdf.y, label='Ordinary')\n",
        "plt.plot(kde.support, kde.cdf, label='Kernel')\n",
        "plt.xlabel('data', fontsize=20)\n",
        "plt.ylabel('Empirical CDF', fontsize=15)\n",
        "plt.legend(loc='best')\n",
        "plt.show()"
      ],
      "metadata": {
        "colab": {
          "base_uri": "https://localhost:8080/",
          "height": 288
        },
        "id": "KUUhcZb93yjA",
        "outputId": "d0e73d49-8c72-4fe8-b871-16ede81ecfa9"
      },
      "execution_count": 17,
      "outputs": [
        {
          "output_type": "display_data",
          "data": {
            "text/plain": [
              "<Figure size 432x288 with 1 Axes>"
            ],
            "image/png": "[encoded data removed]"
          },
          "metadata": {
            "needs_background": "light"
          }
        }
      ]
    }
  ]
}