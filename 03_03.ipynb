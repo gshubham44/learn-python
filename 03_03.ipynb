{
  "nbformat": 4,
  "nbformat_minor": 0,
  "metadata": {
    "colab": {
      "provenance": [],
      "authorship_tag": "ABX9TyNfHLDwAZiad9upJCYYJVNW",
      "include_colab_link": true
    },
    "kernelspec": {
      "name": "python3",
      "display_name": "Python 3"
    },
    "language_info": {
      "name": "python"
    }
  },
  "cells": [
    {
      "cell_type": "markdown",
      "metadata": {
        "id": "view-in-github",
        "colab_type": "text"
      },
      "source": [
        "<a href=\"https://colab.research.google.com/github/tomersk/learn-python/blob/main/03_03.ipynb\" target=\"_parent\"><img src=\"https://colab.research.google.com/assets/colab-badge.svg\" alt=\"Open In Colab\"/></a>"
      ]
    },
    {
      "cell_type": "markdown",
      "source": [
        "## 3.3 Indexing\n",
        "In this section, we will discuss how to refer to some elements in the numpy array. Remember that in Python first indices is 0. We shall generate some array, say some array whose elements are powered to 3 of the sequence [0,1, ..., 9]."
      ],
      "metadata": {
        "id": "m4Wh6Cp8GrBT"
      }
    },
    {
      "cell_type": "code",
      "source": [
        "import numpy as np\n",
        "foo = np.arange(10)**3\n",
        "foo"
      ],
      "metadata": {
        "colab": {
          "base_uri": "https://localhost:8080/"
        },
        "id": "w7TR6WxN8z0Z",
        "outputId": "0d63d4dc-f7f1-403d-ebe1-a61b33ebf052"
      },
      "execution_count": 2,
      "outputs": [
        {
          "output_type": "execute_result",
          "data": {
            "text/plain": [
              "array([  0,   1,   8,  27,  64, 125, 216, 343, 512, 729])"
            ]
          },
          "metadata": {},
          "execution_count": 2
        }
      ]
    },
    {
      "cell_type": "markdown",
      "source": [
        "Print the third item in the array. Third item means we need to put indices as 2."
      ],
      "metadata": {
        "id": "hhWdJZno8vSE"
      }
    },
    {
      "cell_type": "code",
      "source": [
        "foo[2]"
      ],
      "metadata": {
        "colab": {
          "base_uri": "https://localhost:8080/"
        },
        "id": "SgvZCPHM8sg_",
        "outputId": "7dd185f7-9aa2-495a-ac5b-34408614319c"
      },
      "execution_count": 3,
      "outputs": [
        {
          "output_type": "execute_result",
          "data": {
            "text/plain": [
              "8"
            ]
          },
          "metadata": {},
          "execution_count": 3
        }
      ]
    },
    {
      "cell_type": "markdown",
      "source": [
        "Suppose, we would like to print some sequence of array, say at indices of 2, 3, and 4."
      ],
      "metadata": {
        "id": "CpGm6LVN8qqM"
      }
    },
    {
      "cell_type": "code",
      "source": [
        "foo[2:5]"
      ],
      "metadata": {
        "colab": {
          "base_uri": "https://localhost:8080/"
        },
        "id": "qgWNQvae8e6I",
        "outputId": "36d129d7-9fe6-4a1f-e150-3aa6aab43904"
      },
      "execution_count": 4,
      "outputs": [
        {
          "output_type": "execute_result",
          "data": {
            "text/plain": [
              "array([ 8, 27, 64])"
            ]
          },
          "metadata": {},
          "execution_count": 4
        }
      ]
    },
    {
      "cell_type": "markdown",
      "source": [
        "We used 2:5 to get the values at indices of 2, 3 and 4. This is same as saying that foo[np.arange(2,5,1)]. When we do not specify the third value in the indices for array, it is\n",
        "by default taken as 1. If we want to print value at 2 to 8, with an interval of 3. Now because the\n",
        "interval is not 1, so we need to define it."
      ],
      "metadata": {
        "id": "sQFtRIx_8cNu"
      }
    },
    {
      "cell_type": "code",
      "source": [
        "foo[2:10:3]"
      ],
      "metadata": {
        "colab": {
          "base_uri": "https://localhost:8080/"
        },
        "id": "FLXHbPHv8X2x",
        "outputId": "007432f7-cef4-442e-a59a-32eae9cf0e88"
      },
      "execution_count": 5,
      "outputs": [
        {
          "output_type": "execute_result",
          "data": {
            "text/plain": [
              "array([  8, 125, 512])"
            ]
          },
          "metadata": {},
          "execution_count": 5
        }
      ]
    },
    {
      "cell_type": "markdown",
      "source": [
        "If we leave the first entry in the index as blank i.e. to get array elements form the beginning of array\n",
        "with an interval of 2 and upto 6, we issue the following command:"
      ],
      "metadata": {
        "id": "Wphr0CL98Vef"
      }
    },
    {
      "cell_type": "code",
      "source": [
        "foo[:6:2] # gives the element at 0,2,4"
      ],
      "metadata": {
        "colab": {
          "base_uri": "https://localhost:8080/"
        },
        "id": "_K2JMbgT8RRt",
        "outputId": "0ad2c153-e940-4003-f8d2-7492daf0a7d8"
      },
      "execution_count": 6,
      "outputs": [
        {
          "output_type": "execute_result",
          "data": {
            "text/plain": [
              "array([ 0,  8, 64])"
            ]
          },
          "metadata": {},
          "execution_count": 6
        }
      ]
    },
    {
      "cell_type": "markdown",
      "source": [
        "We get element upto the indices of 4, because arange does not go upto the second argument. We\n",
        "can use indices also to modify the existing elements in the array, in the same way as we accessed\n",
        "them. Let us replace the existing value of elements at 0,2 and 4 indices, by -1000."
      ],
      "metadata": {
        "id": "BecthTp_8Oz5"
      }
    },
    {
      "cell_type": "code",
      "source": [
        "foo[:6:2] = -1000 # modify the elements at 0,2,4\n",
        "foo"
      ],
      "metadata": {
        "colab": {
          "base_uri": "https://localhost:8080/"
        },
        "id": "o-Vo9BbI8MA_",
        "outputId": "d8c6e3af-75b6-49e0-91a1-6325f77d5ca8"
      },
      "execution_count": 7,
      "outputs": [
        {
          "output_type": "execute_result",
          "data": {
            "text/plain": [
              "array([-1000,     1, -1000,    27, -1000,   125,   216,   343,   512,\n",
              "         729])"
            ]
          },
          "metadata": {},
          "execution_count": 7
        }
      ]
    },
    {
      "cell_type": "markdown",
      "source": [
        "We get the last elements of an array by indices -1. We can also use this to reverse the array, by\n",
        "giving the increment of -1."
      ],
      "metadata": {
        "id": "N7rMzQqd8HON"
      }
    },
    {
      "cell_type": "code",
      "source": [
        "foo[::-1] # reverse an array"
      ],
      "metadata": {
        "colab": {
          "base_uri": "https://localhost:8080/"
        },
        "id": "5_SIMJk-78Q8",
        "outputId": "9164210b-6c75-4f4b-89f6-27f598866638"
      },
      "execution_count": 8,
      "outputs": [
        {
          "output_type": "execute_result",
          "data": {
            "text/plain": [
              "array([  729,   512,   343,   216,   125, -1000,    27, -1000,     1,\n",
              "       -1000])"
            ]
          },
          "metadata": {},
          "execution_count": 8
        }
      ]
    },
    {
      "cell_type": "markdown",
      "source": [
        "We can perform the calculation on entire numpy array at once. Suppose we are interested in estimating the square root of the numpy array, we can use sqrt function of numpy library."
      ],
      "metadata": {
        "id": "hYazxh5U8B-i"
      }
    },
    {
      "cell_type": "code",
      "source": [
        "np.sqrt(foo) # compute the square root"
      ],
      "metadata": {
        "colab": {
          "base_uri": "https://localhost:8080/"
        },
        "id": "xF-8JDXB7nRZ",
        "outputId": "c460cf78-9ed8-4caa-8457-826d591f3063"
      },
      "execution_count": 9,
      "outputs": [
        {
          "output_type": "stream",
          "name": "stderr",
          "text": [
            "/usr/local/lib/python3.7/dist-packages/ipykernel_launcher.py:1: RuntimeWarning: invalid value encountered in sqrt\n",
            "  \"\"\"Entry point for launching an IPython kernel.\n"
          ]
        },
        {
          "output_type": "execute_result",
          "data": {
            "text/plain": [
              "array([        nan,  1.        ,         nan,  5.19615242,         nan,\n",
              "       11.18033989, 14.69693846, 18.52025918, 22.627417  , 27.        ])"
            ]
          },
          "metadata": {},
          "execution_count": 9
        }
      ]
    },
    {
      "cell_type": "markdown",
      "source": [
        "*nan* represents that the element is ‘Not A Number’. \n",
        "So when the value of element is negative the output of sqrt become nan. The Warning issued by Python tells that there were some invalid values in the input for which sqrt can not produce any sensible output, and it provides warning (not errors).\n",
        "In reality, the square root of negative number is complex number, but because we did not define the variable as complex, numpy can not perform operations of complex numbers on this. We need library which handles complex number for such situation."
      ],
      "metadata": {
        "id": "Sy5qVs5F7g7s"
      }
    }
  ]
}