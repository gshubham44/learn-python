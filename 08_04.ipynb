{
  "nbformat": 4,
  "nbformat_minor": 0,
  "metadata": {
    "colab": {
      "provenance": [],
      "authorship_tag": "ABX9TyMTOLdyREkruWzXMLAhXSaG",
      "include_colab_link": true
    },
    "kernelspec": {
      "name": "python3",
      "display_name": "Python 3"
    },
    "language_info": {
      "name": "python"
    }
  },
  "cells": [
    {
      "cell_type": "markdown",
      "metadata": {
        "id": "view-in-github",
        "colab_type": "text"
      },
      "source": [
        "<a href=\"https://colab.research.google.com/github/tomersk/learn-python/blob/main/08_04.ipynb\" target=\"_parent\"><img src=\"https://colab.research.google.com/assets/colab-badge.svg\" alt=\"Open In Colab\"/></a>"
      ]
    },
    {
      "cell_type": "markdown",
      "source": [
        "## 8.4 Pickle\n",
        "Pickle format is very fast to read and write. But it is only useful when you want to keep data for yourself, e.g. write data from one program, and read the same data into another program. First we import cPicle and call it pickle."
      ],
      "metadata": {
        "id": "baLD7YoueXlK"
      }
    },
    {
      "cell_type": "code",
      "execution_count": 4,
      "metadata": {
        "colab": {
          "base_uri": "https://localhost:8080/"
        },
        "id": "el3vIi4CeTaE",
        "outputId": "7d088249-9c48-44c9-81b5-219939a1808e"
      },
      "outputs": [
        {
          "output_type": "stream",
          "name": "stdout",
          "text": [
            "Mounted at /content/gdrive\n"
          ]
        }
      ],
      "source": [
        "import pickle as pickle\n",
        "from google.colab import drive\n",
        "\n",
        "drive.mount(\"/content/gdrive\")\n",
        "fname = \"/content/gdrive/My Drive/Colab Notebooks/LearnPython/data/tmp.pkl\""
      ]
    },
    {
      "cell_type": "markdown",
      "source": [
        "We define one variable e.g. a list and first save it and then read it. To save, we use *pickle.dump* to save the data."
      ],
      "metadata": {
        "id": "SVZ6CnbZegj1"
      }
    },
    {
      "cell_type": "code",
      "source": [
        "var = [2, 5, 8, 'foo']\n",
        "pickle.dump(var, open(fname, \"wb\"))"
      ],
      "metadata": {
        "id": "yovvcy0leioJ"
      },
      "execution_count": 5,
      "outputs": []
    },
    {
      "cell_type": "markdown",
      "source": [
        "Now we read the same data and print:"
      ],
      "metadata": {
        "id": "dItXZB3melJm"
      }
    },
    {
      "cell_type": "code",
      "source": [
        "var1 = pickle.load(open(fname, \"rb\"))\n",
        "print(var1)"
      ],
      "metadata": {
        "colab": {
          "base_uri": "https://localhost:8080/"
        },
        "id": "j7WZtlECfRGm",
        "outputId": "f406f9dd-931c-48e5-ec8a-25e517c29f40"
      },
      "execution_count": 8,
      "outputs": [
        {
          "output_type": "stream",
          "name": "stdout",
          "text": [
            "[2, 5, 8, 'foo']\n"
          ]
        }
      ]
    }
  ]
}