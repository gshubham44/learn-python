{
  "nbformat": 4,
  "nbformat_minor": 0,
  "metadata": {
    "colab": {
      "provenance": [],
      "authorship_tag": "ABX9TyOypDQAp2arktkdowP4aiEw",
      "include_colab_link": true
    },
    "kernelspec": {
      "name": "python3",
      "display_name": "Python 3"
    },
    "language_info": {
      "name": "python"
    }
  },
  "cells": [
    {
      "cell_type": "markdown",
      "metadata": {
        "id": "view-in-github",
        "colab_type": "text"
      },
      "source": [
        "<a href=\"https://colab.research.google.com/github/tomersk/learn-python/blob/main/02_03.ipynb\" target=\"_parent\"><img src=\"https://colab.research.google.com/assets/colab-badge.svg\" alt=\"Open In Colab\"/></a>"
      ]
    },
    {
      "cell_type": "markdown",
      "source": [
        "## 2.4 Choosing the name of variable\n",
        "Then name of the variables should be meaningful, and possibly should be documented what the variable is used for.\n",
        "Variable names can be arbitrarily long. They can contain both letters and numbers, but they have to begin with a letter. It is legal to use uppercase letters, but it is a good idea to begin variable names with a lowercase letter, as conventionally uppercase letters are used to denote classes.\n",
        "\n",
        "The underscore character (_) can appear in a name. It is often used in names with multiple words, such as *my_name* or *air_velocity*. A variable name can be started with underscore, but should be avoided because this is used for something else conventionally.\n",
        "\n",
        "Python has some of the reserved keywords, which can not be used as variable name. If the interpreter gives some error about one of your variable names and you don’t know why, you should check if your variable name is not in the reserved keyword list. It is a good idea to remember the list, or keep it handy. But I find it difficulty to remember myself, and in fact even never tried to remember the list. I just type the name of variable, I want to use in python, and look for the output by\n",
        "python, and then decide whether to use this name for variable or not."
      ],
      "metadata": {
        "id": "pT_o11yIWBep"
      }
    },
    {
      "cell_type": "code",
      "source": [
        "500_mangoes"
      ],
      "metadata": {
        "colab": {
          "base_uri": "https://localhost:8080/",
          "height": 133
        },
        "id": "oC5ICbczWsqu",
        "outputId": "f4e9e0b0-2b5d-4ca5-aa64-fbc0652c06da"
      },
      "execution_count": 1,
      "outputs": [
        {
          "output_type": "error",
          "ename": "SyntaxError",
          "evalue": "ignored",
          "traceback": [
            "\u001b[0;36m  File \u001b[0;32m\"<ipython-input-1-a7252ce54c1f>\"\u001b[0;36m, line \u001b[0;32m1\u001b[0m\n\u001b[0;31m    500_mangoes\u001b[0m\n\u001b[0m       ^\u001b[0m\n\u001b[0;31mSyntaxError\u001b[0m\u001b[0;31m:\u001b[0m invalid token\n"
          ]
        }
      ]
    },
    {
      "cell_type": "markdown",
      "source": [
        "First variable name 500_mangoes gives SyntaxError, so we cant use this name as variable. "
      ],
      "metadata": {
        "id": "9h5qihfFW3L5"
      }
    },
    {
      "cell_type": "code",
      "source": [
        "class"
      ],
      "metadata": {
        "colab": {
          "base_uri": "https://localhost:8080/",
          "height": 133
        },
        "id": "JZeGyh3xW9vM",
        "outputId": "695508e6-63c9-4433-8e17-c40e787b7ab6"
      },
      "execution_count": 2,
      "outputs": [
        {
          "output_type": "error",
          "ename": "SyntaxError",
          "evalue": "ignored",
          "traceback": [
            "\u001b[0;36m  File \u001b[0;32m\"<ipython-input-2-5ef9dc4cb34b>\"\u001b[0;36m, line \u001b[0;32m1\u001b[0m\n\u001b[0;31m    class\u001b[0m\n\u001b[0m         ^\u001b[0m\n\u001b[0;31mSyntaxError\u001b[0m\u001b[0;31m:\u001b[0m invalid syntax\n"
          ]
        }
      ]
    },
    {
      "cell_type": "markdown",
      "source": [
        "The *class* gives the SyntaxError too, so it also can not be used. "
      ],
      "metadata": {
        "id": "YjRWTIOJXEvG"
      }
    },
    {
      "cell_type": "code",
      "source": [
        "import numpy as np\n",
        "np"
      ],
      "metadata": {
        "colab": {
          "base_uri": "https://localhost:8080/"
        },
        "id": "-ZKtIgooXIh0",
        "outputId": "21d78d10-7888-46e7-95b8-4465b202c370"
      },
      "execution_count": 4,
      "outputs": [
        {
          "output_type": "execute_result",
          "data": {
            "text/plain": [
              "<module 'numpy' from '/usr/local/lib/python3.7/dist-packages/numpy/__init__.py'>"
            ]
          },
          "metadata": {},
          "execution_count": 4
        }
      ]
    },
    {
      "cell_type": "markdown",
      "source": [
        "The np gives some output (which means np is referring to something), so if we use this as variable name, the reference will be destroyed (overwritten). "
      ],
      "metadata": {
        "id": "UULJzGgzXV1Z"
      }
    },
    {
      "cell_type": "code",
      "source": [
        "foo"
      ],
      "metadata": {
        "colab": {
          "base_uri": "https://localhost:8080/",
          "height": 169
        },
        "id": "0gbPEpzbXbM3",
        "outputId": "b6da6afe-b1fb-487c-8ed0-67f9b3ef6599"
      },
      "execution_count": 5,
      "outputs": [
        {
          "output_type": "error",
          "ename": "NameError",
          "evalue": "ignored",
          "traceback": [
            "\u001b[0;31m---------------------------------------------------------------------------\u001b[0m",
            "\u001b[0;31mNameError\u001b[0m                                 Traceback (most recent call last)",
            "\u001b[0;32m<ipython-input-5-f1d2d2f924e9>\u001b[0m in \u001b[0;36m<module>\u001b[0;34m\u001b[0m\n\u001b[0;32m----> 1\u001b[0;31m \u001b[0mfoo\u001b[0m\u001b[0;34m\u001b[0m\u001b[0;34m\u001b[0m\u001b[0m\n\u001b[0m",
            "\u001b[0;31mNameError\u001b[0m: name 'foo' is not defined"
          ]
        }
      ]
    },
    {
      "cell_type": "markdown",
      "source": [
        "The foo gives NameError that the variable is not defined, this makes it a valid choice for the variable name. Apart from these scenarios, one more output is possible."
      ],
      "metadata": {
        "id": "DQX7aHqRWrqa"
      }
    },
    {
      "cell_type": "code",
      "source": [
        "a = 5\n",
        "a"
      ],
      "metadata": {
        "colab": {
          "base_uri": "https://localhost:8080/"
        },
        "id": "OjbtHqTJXvLz",
        "outputId": "8c1b2e08-4904-4de4-e9e9-3bf41d2afbec"
      },
      "execution_count": 6,
      "outputs": [
        {
          "output_type": "execute_result",
          "data": {
            "text/plain": [
              "5"
            ]
          },
          "metadata": {},
          "execution_count": 6
        }
      ]
    },
    {
      "cell_type": "markdown",
      "source": [
        "This means that variable a is defined before, now it is upto you, if you want to change its old value."
      ],
      "metadata": {
        "id": "fhygQ7W0Xvwh"
      }
    }
  ]
}