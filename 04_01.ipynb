{
  "nbformat": 4,
  "nbformat_minor": 0,
  "metadata": {
    "colab": {
      "provenance": [],
      "authorship_tag": "ABX9TyO1M3HI75k7jif5x+hDS6gw",
      "include_colab_link": true
    },
    "kernelspec": {
      "name": "python3",
      "display_name": "Python 3"
    },
    "language_info": {
      "name": "python"
    }
  },
  "cells": [
    {
      "cell_type": "markdown",
      "metadata": {
        "id": "view-in-github",
        "colab_type": "text"
      },
      "source": [
        "<a href=\"https://colab.research.google.com/github/tomersk/learn-python/blob/main/04_01.ipynb\" target=\"_parent\"><img src=\"https://colab.research.google.com/assets/colab-badge.svg\" alt=\"Open In Colab\"/></a>"
      ]
    },
    {
      "cell_type": "markdown",
      "source": [
        "# 4. Basic applications of Python\n",
        "\n",
        "## 4.1 Introdution\n",
        "This chapter will provide some of the applications of python in solving problems. I have taken most of the problems from the book titled “Applied Hydrology” by Chow et al., and for detailed\n",
        "description of them, you should refer to the book. Some of the problems are taken from other relevant issues in agriculture. \n",
        "\n",
        "In this chapter, we will be solving simple problem, usually involving some mathematical equations and then some plotting. In later chapters, we will go into much more complex (i.e. involving many steps) problems.\n"
      ],
      "metadata": {
        "id": "oZt9BZAjJ6So"
      }
    },
    {
      "cell_type": "code",
      "execution_count": null,
      "metadata": {
        "id": "-s7r-5tHJ4uX"
      },
      "outputs": [],
      "source": []
    }
  ]
}