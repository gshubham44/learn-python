{
  "nbformat": 4,
  "nbformat_minor": 0,
  "metadata": {
    "colab": {
      "provenance": [],
      "authorship_tag": "ABX9TyOgt3CS3aVQICQmpIsQFMTR",
      "include_colab_link": true
    },
    "kernelspec": {
      "name": "python3",
      "display_name": "Python 3"
    },
    "language_info": {
      "name": "python"
    }
  },
  "cells": [
    {
      "cell_type": "markdown",
      "metadata": {
        "id": "view-in-github",
        "colab_type": "text"
      },
      "source": [
        "<a href=\"https://colab.research.google.com/github/tomersk/learn-python/blob/main/06_06.ipynb\" target=\"_parent\"><img src=\"https://colab.research.google.com/assets/colab-badge.svg\" alt=\"Open In Colab\"/></a>"
      ]
    },
    {
      "cell_type": "markdown",
      "source": [
        "## 6.6 Read the vector\n",
        "In this section, we will read the vector data, that we wrote earlier. First, we need to import *ogr* library. Then we open data source by specifying the directory of the shapefile. Then, we use *GetLayerByName* to read the shapefile by specifying the name of shpaefile without *.shp* extension.\n",
        "\n",
        "After this, we are printing *\\n* which means print a blank line. *\\n* represents a new line, and *\\t* represents the tab. Now, we are printing header information (SI., Name, Latitude, Longitude). We are using .format to format the output. The number inside '{}' after the colon (:) represents the\n",
        "length of the output. We read the feature in the shapefile one by one using the *for* loop. From each feature, we extract the name using GetFieldAsString, Longitude using GetX and Latitude\n",
        "using GetY. At the end to avoid corrupting the database, we close it safely by specifying data source as None."
      ],
      "metadata": {
        "id": "BhkkhMPOpU8g"
      }
    },
    {
      "cell_type": "code",
      "execution_count": 1,
      "metadata": {
        "colab": {
          "base_uri": "https://localhost:8080/"
        },
        "id": "pzwWEGeXpUf4",
        "outputId": "7f1a97ba-a9e8-45d2-d15a-66b06fd9a698"
      },
      "outputs": [
        {
          "output_type": "stream",
          "name": "stdout",
          "text": [
            "Mounted at /content/gdrive\n",
            "\n",
            "\n",
            "SI \t Name       \t Longitude \t Latitude\n",
            "0 \t Bijnor     \t 78.100 \t \t 29.400\n"
          ]
        }
      ],
      "source": [
        "from google.colab import drive\n",
        "import ogr\n",
        "\n",
        "drive.mount('/content/gdrive')\n",
        "\n",
        "data_dir = \"/content/gdrive/My Drive/Colab Notebooks/LearnPython/data/\"\n",
        "ds = ogr.Open(data_dir)\n",
        "lyr = ds.GetLayerByName('location')\n",
        "\n",
        "print(\"\\n\")\n",
        "print(\"{} \\t {:10s} \\t {} \\t {}\".format('SI', 'Name', 'Longitude', 'Latitude'))\n",
        "for feat in lyr:\n",
        "  geom = feat.GetGeometryRef()\n",
        "  name = feat.GetFieldAsString(0)\n",
        "  lat = geom.GetX()\n",
        "  lon = geom.GetY()\n",
        "  print('{0} \\t {1:10s} \\t {2:.3f} \\t \\t {3:.3f}'.format(0, name, lat, lon ))\n",
        "\n",
        "ds = None"
      ]
    }
  ]
}