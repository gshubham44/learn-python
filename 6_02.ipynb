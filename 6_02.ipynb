{
  "nbformat": 4,
  "nbformat_minor": 0,
  "metadata": {
    "colab": {
      "provenance": [],
      "collapsed_sections": [],
      "authorship_tag": "ABX9TyMGs4l4p+iJUskmyNTPzrsx",
      "include_colab_link": true
    },
    "kernelspec": {
      "name": "python3",
      "display_name": "Python 3"
    },
    "language_info": {
      "name": "python"
    }
  },
  "cells": [
    {
      "cell_type": "markdown",
      "metadata": {
        "id": "view-in-github",
        "colab_type": "text"
      },
      "source": [
        "<a href=\"https://colab.research.google.com/github/gshubham44/learn-python/blob/main/6_02.ipynb\" target=\"_parent\"><img src=\"https://colab.research.google.com/assets/colab-badge.svg\" alt=\"Open In Colab\"/></a>"
      ]
    },
    {
      "cell_type": "markdown",
      "source": [
        "Pastas is a new and open source Python package for the analysis of hydrogeological time series. The objective of Pastas is twofold: to provide a scientific framework to develop and test new methods, and to provide a reliable ready-to-use software tool for groundwater practitioners. For technical details of the package, please refer to https://doi.org/10.1111/gwat.12925 and https://github.com/pastas/pastas. "
      ],
      "metadata": {
        "id": "g-0s2ibzBx7d"
      }
    },
    {
      "cell_type": "markdown",
      "source": [
        "1. First we install pastas package"
      ],
      "metadata": {
        "id": "oTE6N0hDDQFN"
      }
    },
    {
      "cell_type": "code",
      "source": [
        "pip install pastas"
      ],
      "metadata": {
        "colab": {
          "base_uri": "https://localhost:8080/"
        },
        "id": "txDg2ASXC0WV",
        "outputId": "3c1c9f40-fc2e-43a6-ade9-308b3c293bba"
      },
      "execution_count": null,
      "outputs": [
        {
          "output_type": "stream",
          "name": "stdout",
          "text": [
            "Looking in indexes: https://pypi.org/simple, https://us-python.pkg.dev/colab-wheels/public/simple/\n",
            "Requirement already satisfied: pastas in /usr/local/lib/python3.7/dist-packages (0.21.0)\n",
            "Requirement already satisfied: pandas>=1.1 in /usr/local/lib/python3.7/dist-packages (from pastas) (1.3.5)\n",
            "Requirement already satisfied: matplotlib>=3.1 in /usr/local/lib/python3.7/dist-packages (from pastas) (3.2.2)\n",
            "Requirement already satisfied: numpy>=1.17 in /usr/local/lib/python3.7/dist-packages (from pastas) (1.21.6)\n",
            "Requirement already satisfied: scipy>=1.3 in /usr/local/lib/python3.7/dist-packages (from pastas) (1.7.3)\n",
            "Requirement already satisfied: pyparsing!=2.0.4,!=2.1.2,!=2.1.6,>=2.0.1 in /usr/local/lib/python3.7/dist-packages (from matplotlib>=3.1->pastas) (3.0.9)\n",
            "Requirement already satisfied: cycler>=0.10 in /usr/local/lib/python3.7/dist-packages (from matplotlib>=3.1->pastas) (0.11.0)\n",
            "Requirement already satisfied: python-dateutil>=2.1 in /usr/local/lib/python3.7/dist-packages (from matplotlib>=3.1->pastas) (2.8.2)\n",
            "Requirement already satisfied: kiwisolver>=1.0.1 in /usr/local/lib/python3.7/dist-packages (from matplotlib>=3.1->pastas) (1.4.4)\n",
            "Requirement already satisfied: typing-extensions in /usr/local/lib/python3.7/dist-packages (from kiwisolver>=1.0.1->matplotlib>=3.1->pastas) (4.1.1)\n",
            "Requirement already satisfied: pytz>=2017.3 in /usr/local/lib/python3.7/dist-packages (from pandas>=1.1->pastas) (2022.4)\n",
            "Requirement already satisfied: six>=1.5 in /usr/local/lib/python3.7/dist-packages (from python-dateutil>=2.1->matplotlib>=3.1->pastas) (1.15.0)\n"
          ]
        }
      ]
    },
    {
      "cell_type": "markdown",
      "source": [
        "2. Import the pastas and pandas"
      ],
      "metadata": {
        "id": "QkRXRO9UDqWG"
      }
    },
    {
      "cell_type": "code",
      "source": [
        "import pastas as ps"
      ],
      "metadata": {
        "id": "OHxwk8NWDISO"
      },
      "execution_count": null,
      "outputs": []
    },
    {
      "cell_type": "code",
      "source": [
        "import pandas as pd"
      ],
      "metadata": {
        "id": "wg6B4mxwDZCV"
      },
      "execution_count": null,
      "outputs": []
    },
    {
      "cell_type": "markdown",
      "source": [
        "3. Read the time series"
      ],
      "metadata": {
        "id": "4o7Q5LoBDx-U"
      }
    },
    {
      "cell_type": "code",
      "source": [
        "obs = pd.read_csv('obs.csv', index_col='Date', parse_dates=True)\n",
        "rain = pd.read_csv('rain.csv', index_col='Date', parse_dates=True)\n",
        "evap = pd.read_csv('evap.csv', index_col='Date', parse_dates=True)"
      ],
      "metadata": {
        "id": "uzOqnRKBDMg2"
      },
      "execution_count": null,
      "outputs": []
    },
    {
      "cell_type": "markdown",
      "source": [
        "3. Create a model object"
      ],
      "metadata": {
        "id": "KlRSQFd6EGwm"
      }
    },
    {
      "cell_type": "code",
      "source": [],
      "metadata": {
        "id": "MTZll-L5EE_t"
      },
      "execution_count": null,
      "outputs": []
    }
  ]
}