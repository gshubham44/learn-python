{
  "nbformat": 4,
  "nbformat_minor": 0,
  "metadata": {
    "colab": {
      "provenance": [],
      "authorship_tag": "ABX9TyMEs/f5Jphr0vHpHQu8dqRv",
      "include_colab_link": true
    },
    "kernelspec": {
      "name": "python3",
      "display_name": "Python 3"
    },
    "language_info": {
      "name": "python"
    }
  },
  "cells": [
    {
      "cell_type": "markdown",
      "metadata": {
        "id": "view-in-github",
        "colab_type": "text"
      },
      "source": [
        "<a href=\"https://colab.research.google.com/github/tomersk/learn-python/blob/main/02_02.ipynb\" target=\"_parent\"><img src=\"https://colab.research.google.com/assets/colab-badge.svg\" alt=\"Open In Colab\"/></a>"
      ]
    },
    {
      "cell_type": "markdown",
      "source": [
        "## 2.2 Data structures\n",
        "Data structures are able to contain more than one data in it. There are four built-in data structures in Python: \n",
        "\n",
        "*   list\n",
        "*   tuple, \n",
        "*   dictionary, and\n",
        "*   set. \n",
        "\n",
        "Apart from these built-in data structure, you can define your own data type also like numpy.array defined by numpy, which is very useful. \n",
        "\n",
        "### 2.2.1 List\n",
        "A list is a sequence of items (values). The items in it could belong to any of data type, and could be of different data type in the same list."
      ],
      "metadata": {
        "id": "0hvh3Zg_LaI1"
      }
    },
    {
      "cell_type": "code",
      "execution_count": 1,
      "metadata": {
        "colab": {
          "base_uri": "https://localhost:8080/"
        },
        "id": "1bvYsU5SKp0z",
        "outputId": "dd6cb29e-54d1-4f5c-818a-3fb50e2888be"
      },
      "outputs": [
        {
          "output_type": "stream",
          "name": "stdout",
          "text": [
            "['Ram', 'Sita', 'Bangalore', 'Delhi']\n",
            "[25, 256, 2656, 0]\n",
            "[25, 'Bangalore']\n"
          ]
        }
      ],
      "source": [
        "a = ['Ram', 'Sita', 'Bangalore', 'Delhi']\n",
        "print(a)\n",
        "\n",
        "b = [25, 256, 2656, 0]\n",
        "print(b)\n",
        "\n",
        "c = [25, 'Bangalore']\n",
        "print(c)"
      ]
    },
    {
      "cell_type": "markdown",
      "source": [
        "The items in the list are accessed using the indices. The variable *a* and *b* hold items of similar data\n",
        "types, while *c* holds items of different data types. In Python, the indices starts at 0. So, to get the\n",
        "first and third item, the indices should be 0 and 2."
      ],
      "metadata": {
        "id": "vJdpHgvQMWiP"
      }
    },
    {
      "cell_type": "code",
      "source": [
        "print(a[0])\n",
        "print(a[2])"
      ],
      "metadata": {
        "colab": {
          "base_uri": "https://localhost:8080/"
        },
        "id": "IZm_vcuNMV0b",
        "outputId": "6fa642bd-0dd6-48a8-c5ae-d2cf2a5963de"
      },
      "execution_count": 2,
      "outputs": [
        {
          "output_type": "stream",
          "name": "stdout",
          "text": [
            "Ram\n",
            "Bangalore\n"
          ]
        }
      ]
    },
    {
      "cell_type": "markdown",
      "source": [
        "Negative indices are also allowed in Python. The last item in the list has -1 indices, similarly second\n",
        "last item has indices of -2 and so on."
      ],
      "metadata": {
        "id": "aUVvyx20M-p_"
      }
    },
    {
      "cell_type": "code",
      "source": [
        "print(a[-1])"
      ],
      "metadata": {
        "colab": {
          "base_uri": "https://localhost:8080/"
        },
        "id": "OnNf47WMNBHm",
        "outputId": "de69ec76-737b-40ec-dde9-138a142c214a"
      },
      "execution_count": 3,
      "outputs": [
        {
          "output_type": "stream",
          "name": "stdout",
          "text": [
            "Delhi\n"
          ]
        }
      ]
    },
    {
      "cell_type": "markdown",
      "source": [
        "Likewise, second last item in the list can be accessed by using the indices -2.\n",
        "\n",
        "### 2.3.2 Dictionary\n",
        "In the list, the indices are only integers. Dictionary has the capability to take any data type as indices. This feature of dictionary makes it very suitable, when the indices are name etc. For example, in hydrology the name of field stations and their corresponding variables are given for each station. Let us try to retrieve the value of variable by using list first, and then by using dictionary. We can use one list to store the name of stations, and one for the variable. First, we need to find the indices of station, and then use this indices to access the variable from the list of variables."
      ],
      "metadata": {
        "id": "mdv77h-LNUVN"
      }
    },
    {
      "cell_type": "code",
      "source": [
        "names = ['Delhi', 'Bangalore', 'Kolkata']\n",
        "rainfall = [0, 5, 10]\n",
        "print(rainfall[1])"
      ],
      "metadata": {
        "colab": {
          "base_uri": "https://localhost:8080/"
        },
        "id": "mNqDmsgtNUEF",
        "outputId": "22d3f89c-a024-4e36-d9cd-796a79dddf3e"
      },
      "execution_count": 8,
      "outputs": [
        {
          "output_type": "stream",
          "name": "stdout",
          "text": [
            "5\n"
          ]
        }
      ]
    },
    {
      "cell_type": "markdown",
      "source": [
        "Now, let us try this using dictionary."
      ],
      "metadata": {
        "id": "y7MdHlGJOluJ"
      }
    },
    {
      "cell_type": "code",
      "source": [
        "rainfall = {'Delhi':0, 'Bangalore':5, 'Kolkata':10}\n",
        "print(rainfall['Bangalore'])"
      ],
      "metadata": {
        "colab": {
          "base_uri": "https://localhost:8080/"
        },
        "id": "t5yxdR7KOtxw",
        "outputId": "b772a355-8aef-4bd1-a9e3-b3d43f21e42c"
      },
      "execution_count": 9,
      "outputs": [
        {
          "output_type": "stream",
          "name": "stdout",
          "text": [
            "5\n"
          ]
        }
      ]
    },
    {
      "cell_type": "markdown",
      "source": [
        "The same thing could have been done using list in one line, but dictionary provides a neat and clean way to do this.\n",
        "\n",
        "### 2.2.3 Tuple\n",
        "A tuple is a sequence of values, similar to list except that tuples are immutable (their value can not be modified)."
      ],
      "metadata": {
        "id": "dJgY1Z82Oy4z"
      }
    },
    {
      "cell_type": "code",
      "source": [
        "foo = 5,15,18\n",
        "print(foo[2])"
      ],
      "metadata": {
        "colab": {
          "base_uri": "https://localhost:8080/"
        },
        "id": "EVC4YlsLPVea",
        "outputId": "8dc7a22f-de4c-4704-8e09-f4720d1c432d"
      },
      "execution_count": 12,
      "outputs": [
        {
          "output_type": "stream",
          "name": "stdout",
          "text": [
            "18\n"
          ]
        }
      ]
    },
    {
      "cell_type": "markdown",
      "source": [
        "Let us try modifying an item:"
      ],
      "metadata": {
        "id": "EZemPBefPiUU"
      }
    },
    {
      "cell_type": "code",
      "source": [
        "foo[1] = 10"
      ],
      "metadata": {
        "colab": {
          "base_uri": "https://localhost:8080/",
          "height": 169
        },
        "id": "2Nc7nAVOPnaG",
        "outputId": "711cd573-0b13-456d-801f-dc3ab3e6fb65"
      },
      "execution_count": 13,
      "outputs": [
        {
          "output_type": "error",
          "ename": "TypeError",
          "evalue": "ignored",
          "traceback": [
            "\u001b[0;31m---------------------------------------------------------------------------\u001b[0m",
            "\u001b[0;31mTypeError\u001b[0m                                 Traceback (most recent call last)",
            "\u001b[0;32m<ipython-input-13-23e76439239e>\u001b[0m in \u001b[0;36m<module>\u001b[0;34m\u001b[0m\n\u001b[0;32m----> 1\u001b[0;31m \u001b[0mfoo\u001b[0m\u001b[0;34m[\u001b[0m\u001b[0;36m1\u001b[0m\u001b[0;34m]\u001b[0m \u001b[0;34m=\u001b[0m \u001b[0;36m10\u001b[0m\u001b[0;34m\u001b[0m\u001b[0;34m\u001b[0m\u001b[0m\n\u001b[0m",
            "\u001b[0;31mTypeError\u001b[0m: 'tuple' object does not support item assignment"
          ]
        }
      ]
    },
    {
      "cell_type": "markdown",
      "source": [
        "While trying to modify the items in the tuple, Python issues an error. Tuples are useful there is a need to specify some constants, and to make sure that these constants do not change. The immutable property of tuples ensures that during executions of the program the value of constants will not change.\n",
        "\n",
        "A tuple having only one item is defined by using the \",\" after this, e.g. :"
      ],
      "metadata": {
        "id": "hTKVug-zPrvK"
      }
    },
    {
      "cell_type": "code",
      "source": [
        "foo = 5\n",
        "type(foo)"
      ],
      "metadata": {
        "colab": {
          "base_uri": "https://localhost:8080/"
        },
        "id": "ntWLMjelP11x",
        "outputId": "bd250255-eb2f-4c3a-d61c-b976e6ac25ea"
      },
      "execution_count": 14,
      "outputs": [
        {
          "output_type": "execute_result",
          "data": {
            "text/plain": [
              "int"
            ]
          },
          "metadata": {},
          "execution_count": 14
        }
      ]
    },
    {
      "cell_type": "code",
      "source": [
        "foo = 5,\n",
        "type(foo)"
      ],
      "metadata": {
        "colab": {
          "base_uri": "https://localhost:8080/"
        },
        "id": "kgMHXYZ2P76l",
        "outputId": "66aba576-5dc7-4e79-ef42-485b77333bf1"
      },
      "execution_count": 15,
      "outputs": [
        {
          "output_type": "execute_result",
          "data": {
            "text/plain": [
              "tuple"
            ]
          },
          "metadata": {},
          "execution_count": 15
        }
      ]
    },
    {
      "cell_type": "markdown",
      "source": [
        "You might have noticed that without using the comma (,), Python does not take it as tuple. "
      ],
      "metadata": {
        "id": "AQNxjisyQB_Y"
      }
    },
    {
      "cell_type": "markdown",
      "source": [
        "### 2.2.4 Numpy.array\n",
        "NumericalPython (NumPy) is a library/package written mainly in C programming language, but application programming interface (API) is provided for Python. The library provided numpy.array\n",
        "data type, which is very useful in performing mathematical operation on array. It is the type of data, that we would be dealing most of the time. This library is not a part of the standard Python distribution, hence before using this, NumPy have to be installed in the system. We can check if\n",
        "NumPy is installed in our system or not, by using the following command:"
      ],
      "metadata": {
        "id": "NdCIo6WLQUon"
      }
    },
    {
      "cell_type": "code",
      "source": [
        "$ python -c'import numpy'"
      ],
      "metadata": {
        "id": "K-ZWDkXbQrfX"
      },
      "execution_count": null,
      "outputs": []
    },
    {
      "cell_type": "markdown",
      "source": [
        "If you are already into Python (e.g. in Google Colab), you can try importing the library inside Python such as:"
      ],
      "metadata": {
        "id": "nJi4-bB2QsZM"
      }
    },
    {
      "cell_type": "code",
      "source": [
        "import numpy"
      ],
      "metadata": {
        "id": "AzgAnd3OQzR0"
      },
      "execution_count": 16,
      "outputs": []
    },
    {
      "cell_type": "markdown",
      "source": [
        "If any of these command gives no output (no error), then it means that NumPy is installed."
      ],
      "metadata": {
        "id": "JSO08xwsQ5gg"
      }
    },
    {
      "cell_type": "markdown",
      "source": [
        "If a library is not installed in the system, you will see some message (error). Let us try to import *ambhas* library: "
      ],
      "metadata": {
        "id": "1VeqwxfjQnj2"
      }
    },
    {
      "cell_type": "code",
      "source": [
        "import ambhas"
      ],
      "metadata": {
        "colab": {
          "base_uri": "https://localhost:8080/",
          "height": 312
        },
        "id": "YFI5fH81RR4a",
        "outputId": "caa0db51-77d1-4454-9fe5-c0b795100d97"
      },
      "execution_count": 17,
      "outputs": [
        {
          "output_type": "error",
          "ename": "ModuleNotFoundError",
          "evalue": "ignored",
          "traceback": [
            "\u001b[0;31m---------------------------------------------------------------------------\u001b[0m",
            "\u001b[0;31mModuleNotFoundError\u001b[0m                       Traceback (most recent call last)",
            "\u001b[0;32m<ipython-input-17-ec6f6a6af5f5>\u001b[0m in \u001b[0;36m<module>\u001b[0;34m\u001b[0m\n\u001b[0;32m----> 1\u001b[0;31m \u001b[0;32mimport\u001b[0m \u001b[0mambhas\u001b[0m\u001b[0;34m\u001b[0m\u001b[0;34m\u001b[0m\u001b[0m\n\u001b[0m",
            "\u001b[0;31mModuleNotFoundError\u001b[0m: No module named 'ambhas'",
            "",
            "\u001b[0;31m---------------------------------------------------------------------------\u001b[0;32m\nNOTE: If your import is failing due to a missing package, you can\nmanually install dependencies using either !pip or !apt.\n\nTo view examples of installing some common dependencies, click the\n\"Open Examples\" button below.\n\u001b[0;31m---------------------------------------------------------------------------\u001b[0m\n"
          ],
          "errorDetails": {
            "actions": [
              {
                "action": "open_url",
                "actionText": "Open Examples",
                "url": "/notebooks/snippets/importing_libraries.ipynb"
              }
            ]
          }
        }
      ]
    },
    {
      "cell_type": "markdown",
      "source": [
        "This means, that *ambhas* is not installed in the system. You can install *ambhas* by following the steps provided in the section 1.3. \n",
        "\n",
        "The python -c'import numpy' is a way to run some simple code\n",
        "without invoking the python. This is useful when you want to do something small, quickly. This is very helpful when you want to check if some package is installed or not in your system.\n",
        "\n",
        "Before using any library, it should be imported into the program. The import can be used to import the library. There are three ways to import a complete library or some functions from the library. By importing complete library."
      ],
      "metadata": {
        "id": "MyZ9HIrQRPqg"
      }
    },
    {
      "cell_type": "code",
      "source": [
        "import numpy\n",
        "x = [1, 2, 5, 9.0, 15] # list containing only numbers (float or integers)\n",
        "type(x)\n",
        "\n",
        "x = numpy.array(x) # convert the list into numpy array\n",
        "type(x)"
      ],
      "metadata": {
        "id": "yRMy9bqVRqZL"
      },
      "execution_count": null,
      "outputs": []
    },
    {
      "cell_type": "markdown",
      "source": [
        "We imported the complete library numpy, and after doing so, whenever we need any function (i.e. array) from this library, we need to provide name along with the name of library (i.e.\n",
        "numpy.array). The array function converts a list of integers or/and float into numpy array. Often the library name are quiet long, and it can be abbreviated using as in the following manner.\n"
      ],
      "metadata": {
        "id": "QE92T6ahR2tc"
      }
    },
    {
      "cell_type": "code",
      "source": [
        "import numpy as np\n",
        "x = [1, 2, 5, 9.0, 15]\n",
        "x = np.array(x) # convert the list into numpy array\n",
        "type(x)"
      ],
      "metadata": {
        "colab": {
          "base_uri": "https://localhost:8080/"
        },
        "id": "sIpSWqCLR9NW",
        "outputId": "cb5fab2f-5ce9-4e61-d725-4cee02bc5eeb"
      },
      "execution_count": 19,
      "outputs": [
        {
          "output_type": "execute_result",
          "data": {
            "text/plain": [
              "numpy.ndarray"
            ]
          },
          "metadata": {},
          "execution_count": 19
        }
      ]
    },
    {
      "cell_type": "markdown",
      "source": [
        "If only few functions are needed then they can be imported by explicitly defining their name."
      ],
      "metadata": {
        "id": "IEnJ-r6hR9pd"
      }
    },
    {
      "cell_type": "code",
      "source": [
        "from numpy import array\n",
        "x = array(x) # convert the list into numpy array\n",
        "type(x)"
      ],
      "metadata": {
        "colab": {
          "base_uri": "https://localhost:8080/"
        },
        "id": "Kui0RxvRR9_H",
        "outputId": "74a8cc08-5132-4fc1-cb7f-fe4872b1f789"
      },
      "execution_count": 20,
      "outputs": [
        {
          "output_type": "execute_result",
          "data": {
            "text/plain": [
              "numpy.ndarray"
            ]
          },
          "metadata": {},
          "execution_count": 20
        }
      ]
    },
    {
      "cell_type": "markdown",
      "source": [
        "If all the functions are needed, and you do not want to use numpy or np before them, then you can import in the following way.\n"
      ],
      "metadata": {
        "id": "GIs1fP08R-NZ"
      }
    },
    {
      "cell_type": "code",
      "source": [
        "from numpy import *\n",
        "x = array(x) # convert the list into numpy array\n",
        "type(x)"
      ],
      "metadata": {
        "colab": {
          "base_uri": "https://localhost:8080/"
        },
        "id": "dbicefPcSeLA",
        "outputId": "73d4efc4-2a52-4074-cf5a-405504a6f134"
      },
      "execution_count": 21,
      "outputs": [
        {
          "output_type": "execute_result",
          "data": {
            "text/plain": [
              "numpy.ndarray"
            ]
          },
          "metadata": {},
          "execution_count": 21
        }
      ]
    },
    {
      "cell_type": "markdown",
      "source": [
        "Anything written after # is comment for program, and Python does not execute them. Comments are useful in making your code more readable. The comments can be in full line also. A numpy\n",
        "array is a homogeneous multidimensional array. It can hold only integer, only float, only complex numbers or only strings. If combination of integers and float are specified in\n",
        "numpy.ndarray, then integers are treated as floats. If combination of number and strings are used, then numbers are treated as strings. The data type of numpy.ndarray can be checked using its attribute dtype."
      ],
      "metadata": {
        "id": "GUE0niYnRoXy"
      }
    },
    {
      "cell_type": "code",
      "source": [
        "import numpy as np\n",
        "a = np.array([1,5,9.0,15]) # np.array can be defined directly also\n",
        "print(a.dtype)\n",
        "\n",
        "b = np.array([1,5,9,15]) # this is holding only integers\n",
        "print(b.dtype)\n",
        "\n",
        "c = np.array(['Delhi', 'Paris']) # this is holding strings\n",
        "print(c.dtype)\n",
        "\n",
        "d = np.array([5,'b'])\n",
        "print(d.dtype)\n",
        "print(d)"
      ],
      "metadata": {
        "colab": {
          "base_uri": "https://localhost:8080/"
        },
        "id": "8AQTr_j6T4-5",
        "outputId": "6c20282b-00c3-4445-a353-3c0a56566732"
      },
      "execution_count": 31,
      "outputs": [
        {
          "output_type": "stream",
          "name": "stdout",
          "text": [
            "float64\n",
            "int64\n",
            "<U5\n",
            "<U21\n",
            "['5' 'b']\n"
          ]
        }
      ]
    },
    {
      "cell_type": "markdown",
      "source": [
        "The mean of the array can be computed using method mean, in the following manner.\n"
      ],
      "metadata": {
        "id": "csOCb-3xUH0d"
      }
    },
    {
      "cell_type": "code",
      "source": [
        "import numpy as np\n",
        "x = np.array([1,5,9.0,15])\n",
        "x.sum()\n"
      ],
      "metadata": {
        "colab": {
          "base_uri": "https://localhost:8080/"
        },
        "id": "NIs9oL8RUI10",
        "outputId": "bfe53a37-161b-4ee4-f816-3e0cf7bc3575"
      },
      "execution_count": 22,
      "outputs": [
        {
          "output_type": "execute_result",
          "data": {
            "text/plain": [
              "30.0"
            ]
          },
          "metadata": {},
          "execution_count": 22
        }
      ]
    },
    {
      "cell_type": "markdown",
      "source": [
        "Did you notice the difference between calling attributes and methods? The methods perform some action on the object, and often action needs some input, so methods are called with brackets (). If there is some input to be given to method, it can be given inside brackets, if there is no input then\n",
        "empty brackets are used. Try using the methods (e.g. sum) without giving the bracket, you will see only some details about it, and no output."
      ],
      "metadata": {
        "id": "qvcjidPMTzGl"
      }
    },
    {
      "cell_type": "code",
      "source": [
        "print(x.sum)"
      ],
      "metadata": {
        "colab": {
          "base_uri": "https://localhost:8080/"
        },
        "id": "5xC-Qg_0Vj-5",
        "outputId": "606837c3-3f0b-48e1-fac6-064e7abfaf34"
      },
      "execution_count": 32,
      "outputs": [
        {
          "output_type": "stream",
          "name": "stdout",
          "text": [
            "<built-in method sum of numpy.ndarray object at 0x7f013db08f90>\n"
          ]
        }
      ]
    },
    {
      "cell_type": "markdown",
      "source": [
        "As Python is object oriented programming (OOP) language, and attributes and methods are used quiet commonly. It is better to know briefly about them before jumping into Python. Attributes represent properties of an object, and can be of any type, even the type of the object that contains it. methods represent what an object can do. An attribute can only have a value or a state, while a method can do something or perform an action."
      ],
      "metadata": {
        "id": "fWyD30tvVjA5"
      }
    }
  ]
}