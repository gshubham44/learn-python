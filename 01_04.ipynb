{
  "nbformat": 4,
  "nbformat_minor": 0,
  "metadata": {
    "colab": {
      "provenance": [],
      "authorship_tag": "ABX9TyM6YLGjMXlLuI8T49fICkRQ",
      "include_colab_link": true
    },
    "kernelspec": {
      "name": "python3",
      "display_name": "Python 3"
    },
    "language_info": {
      "name": "python"
    }
  },
  "cells": [
    {
      "cell_type": "markdown",
      "metadata": {
        "id": "view-in-github",
        "colab_type": "text"
      },
      "source": [
        "<a href=\"https://colab.research.google.com/github/tomersk/learn-python/blob/main/01_04.ipynb\" target=\"_parent\"><img src=\"https://colab.research.google.com/assets/colab-badge.svg\" alt=\"Open In Colab\"/></a>"
      ]
    },
    {
      "cell_type": "code",
      "execution_count": null,
      "metadata": {
        "id": "_lfUMP9F_MGm"
      },
      "outputs": [],
      "source": []
    },
    {
      "cell_type": "markdown",
      "source": [
        "## 1.4 Interactive Development Environment\n",
        "Simple text editors can be used to write Python programs, but these do not provide options\n",
        "for easy formatting of text, auto completion of text, and debugging options etc. IDE (Interactive Development Environment) provides many options to quickly format the program in Python way, and easily debug them. There are various IDE available for use e.g. PyDev, Spyder, IDLE, and many many others. A list of them can be found at http://wiki.python.org/moin/IntegratedDevelopmentEnvironments. I am using Spyder for my work, which is similar to MATLAB. The reason to use Spyder was since earlier I used to work on MATLAB, and Spyder is\n",
        "similar to it, so I found myself to be familiar with it. However, you can use any IDE, and after being familiar, it doesn’t matter which one you use.\n",
        "\n",
        "You can also use Cloud IDE such as Google Colab. You can read about it in section 1.2.6. "
      ],
      "metadata": {
        "id": "pmrJChOF_RUu"
      }
    }
  ]
}