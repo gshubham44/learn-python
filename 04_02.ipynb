{
  "nbformat": 4,
  "nbformat_minor": 0,
  "metadata": {
    "colab": {
      "provenance": [],
      "authorship_tag": "ABX9TyO6sVavP6EWN2QgsfY+doiP",
      "include_colab_link": true
    },
    "kernelspec": {
      "name": "python3",
      "display_name": "Python 3"
    },
    "language_info": {
      "name": "python"
    }
  },
  "cells": [
    {
      "cell_type": "markdown",
      "metadata": {
        "id": "view-in-github",
        "colab_type": "text"
      },
      "source": [
        "<a href=\"https://colab.research.google.com/github/tomersk/learn-python/blob/main/04_02.ipynb\" target=\"_parent\"><img src=\"https://colab.research.google.com/assets/colab-badge.svg\" alt=\"Open In Colab\"/></a>"
      ]
    },
    {
      "cell_type": "markdown",
      "source": [
        "## 4.2 Water Vapor\n",
        "Approximately, the saturation vapor pressure ($e_s$) is related to the air temperature ($T$) by the following equation,\n",
        "\n",
        "\\begin{equation}\n",
        "e_s = 611\\exp\\left( \\frac{17.27T}{ 237.3+T}   \\right)\u0012\n",
        "\\end{equation}\n",
        "\n",
        "where, $e_s$ is in pascals and $T$ is in degrees Celcius. Let us calculate the value of $e_s$ at T = 50."
      ],
      "metadata": {
        "id": "zq0E_9xzL3--"
      }
    },
    {
      "cell_type": "code",
      "source": [
        "import numpy as np\n",
        "T = 50\n",
        "es = 611*np.exp(17.27*T/(237.3+T))\n",
        "print(es)"
      ],
      "metadata": {
        "colab": {
          "base_uri": "https://localhost:8080/"
        },
        "id": "yJZ37kg0M9Ty",
        "outputId": "49265b30-30a8-451c-9b4e-e8445e03ba5e"
      },
      "execution_count": 7,
      "outputs": [
        {
          "output_type": "stream",
          "name": "stdout",
          "text": [
            "12340.799081027586\n"
          ]
        }
      ]
    },
    {
      "cell_type": "markdown",
      "source": [
        "Let us now plot the variation of $e_s$ versus T over the range of $−100 ≤ T ≤ 100$. The *plt.plot(x,y)* makes the line plot of *y* versus *x*, with default color of blue. The *plt.xlabel()* and *plt.ylabel()* are used to write labels on *x* and *y* axis, respectively. The input to *xlabel* and *ylabel* must be a string, or a variable which contains a string. The *plt.show()* displays the graph on computer screen."
      ],
      "metadata": {
        "id": "Ad6LTQj1NCCV"
      }
    },
    {
      "cell_type": "code",
      "execution_count": 8,
      "metadata": {
        "colab": {
          "base_uri": "https://localhost:8080/",
          "height": 297
        },
        "id": "zwQf8dLcLvfD",
        "outputId": "bf707ed3-a9b2-4fc8-8887-88316e17275a"
      },
      "outputs": [
        {
          "output_type": "display_data",
          "data": {
            "text/plain": [
              "<Figure size 432x288 with 1 Axes>"
            ],
            "image/png": "[encoded data removed]"
          },
          "metadata": {
            "needs_background": "light"
          }
        }
      ],
      "source": [
        "import matplotlib.pyplot as plt\n",
        "\n",
        "T = np.linspace(-100,100,50)\n",
        "es = 611*np.exp(17.27*T/(237.3+T))\n",
        "\n",
        "plt.plot(T,es)\n",
        "plt.xlabel('T (degree Celcius)')\n",
        "plt.ylabel('es (Pa)')\n",
        "plt.title('The variation of saturation vapor pressure ($e_s$) versus temperature ($T$)')\n",
        "plt.show()"
      ]
    },
    {
      "cell_type": "markdown",
      "source": [
        "This example demonstrates how to graphically visualize the\n",
        "variation of one variable with respect to the another variable, while former is explicit function of later."
      ],
      "metadata": {
        "id": "BxFgPl5fN6fE"
      }
    }
  ]
}