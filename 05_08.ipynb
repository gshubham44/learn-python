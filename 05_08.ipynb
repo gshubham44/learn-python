{
  "nbformat": 4,
  "nbformat_minor": 0,
  "metadata": {
    "colab": {
      "provenance": [],
      "authorship_tag": "ABX9TyOHLT9cXlU9UA1TAOVFQeUH",
      "include_colab_link": true
    },
    "kernelspec": {
      "name": "python3",
      "display_name": "Python 3"
    },
    "language_info": {
      "name": "python"
    }
  },
  "cells": [
    {
      "cell_type": "markdown",
      "metadata": {
        "id": "view-in-github",
        "colab_type": "text"
      },
      "source": [
        "<a href=\"https://colab.research.google.com/github/tomersk/learn-python/blob/main/05_08.ipynb\" target=\"_parent\"><img src=\"https://colab.research.google.com/assets/colab-badge.svg\" alt=\"Open In Colab\"/></a>"
      ]
    },
    {
      "cell_type": "markdown",
      "source": [
        "## 5.8 Polynomial regression\n",
        "We can do the polynomial regression using the np.polyfit. This provides the fitted coefficients. We can define the order of polynomial as third argument to the np.polyfit function. First, we are generating a second degree polynomial ($y = 1 + 2x − 3x^2$), then we are adding noise into it."
      ],
      "metadata": {
        "id": "Uuwao7ES5jiE"
      }
    },
    {
      "cell_type": "code",
      "execution_count": 1,
      "metadata": {
        "colab": {
          "base_uri": "https://localhost:8080/"
        },
        "id": "Cd1S4u4HqBMv",
        "outputId": "e8a54c47-f36d-4e1c-8b6e-37f642ef1bf6"
      },
      "outputs": [
        {
          "output_type": "stream",
          "name": "stdout",
          "text": [
            "[-3.10438382  3.59844774 -3.16883283]\n"
          ]
        }
      ],
      "source": [
        "import numpy as np\n",
        "# generate data\n",
        "x = np.linspace(0,10)\n",
        "y = 1 + 2*x - 3*x**2 + 15*np.random.randn(50)\n",
        "# fit the polynomial\n",
        "z = np.polyfit(x,y,2)\n",
        "print(z)"
      ]
    },
    {
      "cell_type": "markdown",
      "source": [
        "The parameters of polynomials as provided by *np.polyfit* function are quiet different from the one of true polynomial. Only the third parameter is computed reasonably. Other two parameters differs a lot compared to the true one. Let us look into the behaviour of fitted polynomials compared to the true polynomial. *np.poly1d* function is used to evaluate the\n",
        "polynomial using the fitted coefficient returned by np.polyfit. Below figure shows the resulted plot."
      ],
      "metadata": {
        "id": "8frQD1cl_8oc"
      }
    },
    {
      "cell_type": "code",
      "source": [
        "import matplotlib.pyplot as plt\n",
        "\n",
        "# evaluate polynomial\n",
        "p = np.poly1d(z)\n",
        "z_true = np.array([-3, 2, 1]) # coefficient of true polynomial\n",
        "p_true = np.poly1d(z_true) # true polynomial\n",
        "\n",
        "# plot\n",
        "plt.plot(x, y,'.r', label='noisy data')\n",
        "plt.plot(x, p_true(x), label='True curve')\n",
        "plt.plot(x, p(x), label='Fitted curve')\n",
        "plt.xlabel('x')\n",
        "plt.ylabel('y')\n",
        "plt.legend()\n",
        "plt.show()"
      ],
      "metadata": {
        "colab": {
          "base_uri": "https://localhost:8080/",
          "height": 279
        },
        "id": "kUgiqc_3Avkp",
        "outputId": "8236bb03-38bf-460e-dea5-7954cbd00b5d"
      },
      "execution_count": 2,
      "outputs": [
        {
          "output_type": "display_data",
          "data": {
            "text/plain": [
              "<Figure size 432x288 with 1 Axes>"
            ],
            "image/png": "[encoded data removed]"
          },
          "metadata": {
            "needs_background": "light"
          }
        }
      ]
    },
    {
      "cell_type": "markdown",
      "source": [
        "Though the fitted coefficients differed than real coefficients, but the fitted polynomial is quiet close\n",
        "to the true one. The parameter associated with second degree was computed quiet reasonably by the\n",
        "*np.polyfit*, this means that this is the most sensitive parameters compared to other one. Since when $x^2$ varies rom 0 to 100, it becomes more sensitivie as the variation due to $x$ is relatively low. For a different range of $x$, different parameters might be relatively more sensitive. "
      ],
      "metadata": {
        "id": "wjn9Aq90AyGE"
      }
    }
  ]
}