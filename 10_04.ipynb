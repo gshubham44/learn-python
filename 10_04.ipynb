{
  "nbformat": 4,
  "nbformat_minor": 0,
  "metadata": {
    "colab": {
      "provenance": [],
      "authorship_tag": "ABX9TyPPwrAlI/m368qc4NrvgU4Y",
      "include_colab_link": true
    },
    "kernelspec": {
      "name": "python3",
      "display_name": "Python 3"
    },
    "language_info": {
      "name": "python"
    }
  },
  "cells": [
    {
      "cell_type": "markdown",
      "metadata": {
        "id": "view-in-github",
        "colab_type": "text"
      },
      "source": [
        "<a href=\"https://colab.research.google.com/github/tomersk/learn-python/blob/main/10_04.ipynb\" target=\"_parent\"><img src=\"https://colab.research.google.com/assets/colab-badge.svg\" alt=\"Open In Colab\"/></a>"
      ]
    },
    {
      "cell_type": "markdown",
      "source": [
        "## 10.4 Bias Correction\n",
        "CDF matching is one of the commonly used approach for bias correction in hydrological data. For a hydrological variable x the method is written as,\n",
        "\n",
        "$ x_{m-adjusted} = F^{−1}_{o-c} \\left(F_{m-c}\\left(x_{m-p}\\right) \\right) $\n",
        "\n",
        "where, subscript $m$ is for model, $o$ is for observation, $c$ is for current, $p$ is for prediction and $F$ is the CDF. \n",
        "\n",
        "We will make bias correction using the bias_correction function of the ambhas.stats library. We begin with importing the library. Then we generate some random numbers to apply the bias corrections. We deliberately modify the mean of the modeled variable, so that the bias correction method can be compared. As we can see, the mean of the modeled prediction was 2, while the mean of observed data is approximately 0 before applying bias correction. The mean of the bias adjusted modeled prediction has become approximately 0 after applying the CDF based bias correction."
      ],
      "metadata": {
        "id": "FE0etMJcrvnJ"
      }
    },
    {
      "cell_type": "code",
      "source": [
        "import numpy as np\n",
        "from ambhas.stats import bias_correction\n",
        "oc = np.random.randn(100)\n",
        "mc = 5+np.random.randn(100)\n",
        "mp = 2+np.random.randn(1000)\n",
        "\n",
        "print(\"mean of observed current is %f\"%oc.mean())\n",
        "print(\"mean of modeled current is %f\"%mc.mean())\n",
        "print(\"mean of modeled prediction is %f\"%mp.mean())\n",
        "\n",
        "mp_adjusted = bias_correction(oc, mc, mp)\n",
        "print(\"mean of adjusted modeled prediction is %f\"%mp_adjusted.mean())"
      ],
      "metadata": {
        "colab": {
          "base_uri": "https://localhost:8080/"
        },
        "id": "0aS1cWC8w71N",
        "outputId": "6c8d3954-8ac6-4b57-cb6a-b89b1398e7d8"
      },
      "execution_count": 4,
      "outputs": [
        {
          "output_type": "stream",
          "name": "stdout",
          "text": [
            "mean of observed current is -0.122826\n",
            "mean of modeled current is 5.105387\n",
            "mean of modeled prediction is 2.034841\n",
            "mean of adjusted modeled prediction is 0.000000\n"
          ]
        },
        {
          "output_type": "stream",
          "name": "stderr",
          "text": [
            "/usr/local/lib/python3.7/dist-packages/ambhas/stats.py:56: RuntimeWarning: invalid value encountered in double_scalars\n",
            "  mp_adjusted[mp_adjusted<0])/(np.sum(mp_adjusted>0))\n"
          ]
        }
      ]
    }
  ]
}