{
  "nbformat": 4,
  "nbformat_minor": 0,
  "metadata": {
    "colab": {
      "provenance": [],
      "authorship_tag": "ABX9TyMUlizFIozjNgej5n2S6Y2E",
      "include_colab_link": true
    },
    "kernelspec": {
      "name": "python3",
      "display_name": "Python 3"
    },
    "language_info": {
      "name": "python"
    }
  },
  "cells": [
    {
      "cell_type": "markdown",
      "metadata": {
        "id": "view-in-github",
        "colab_type": "text"
      },
      "source": [
        "<a href=\"https://colab.research.google.com/github/tomersk/learn-python/blob/main/04_06.ipynb\" target=\"_parent\"><img src=\"https://colab.research.google.com/assets/colab-badge.svg\" alt=\"Open In Colab\"/></a>"
      ]
    },
    {
      "cell_type": "markdown",
      "source": [
        "## 4.6 Infiltration\n",
        "\n",
        "The cumulative infiltration given by Green-Ampt method is written as,\n",
        "\n",
        "$F(t) - \\psi \\Delta\\theta \\ln\\left(\u00121+ \\frac{F(t)}{ \\psi \\Delta\\theta}\u0013\\right) = Kt $, \n",
        "\n",
        "where, $F(t)$ is the cumulative infiltration after $t$ time, $\\psi$ is the suction head, $\\Delta\\theta$ is given as,\n",
        "\n",
        "$\\Delta\\theta = (1−Se)\\theta_e $, \n",
        "\n",
        "wherein, $S_e$ is the degree of saturation, and $\\theta_e$ is the effective porosity, $K$ is the hydraulic conductivity. To solve the equation using iterative procedure, the equation is rewritten as,\n",
        "\n",
        "$F(t) = \\psi \\Delta\\theta \\ln\\left(\u00121+ \\frac{F(t)}{ \\psi \\Delta\\theta}\u0013\\right) + Kt $.\n",
        "\n",
        "We use while function to iterate till we achieve required accuracy. The iterated value of F are stored\n",
        "using the append method. append appends the array by one one item, and puts the input variable\n",
        "into it."
      ],
      "metadata": {
        "id": "XHuhp6shUKsD"
      }
    },
    {
      "cell_type": "code",
      "execution_count": 2,
      "metadata": {
        "id": "TxqAvdtlT1Ts"
      },
      "outputs": [],
      "source": [
        "import numpy as np\n",
        "\n",
        "# define the variables\n",
        "theta_e = 0.486\n",
        "psi = 16.7\n",
        "K = 0.65\n",
        "S_e = 0.3\n",
        "t = 1\n",
        "\n",
        "#calculate dtheta\n",
        "dtheta = (1-S_e)*theta_e\n",
        "\n",
        "# initial guess of F\n",
        "F_old = K*t\n",
        "epsilon = 1\n",
        "F = []\n",
        "\n",
        "while epsilon > 1e-4:\n",
        "  F_new = psi*dtheta * np.log(1+F_old/(psi*dtheta)) + K*t\n",
        "  epsilon = F_new - F_old\n",
        "  F_old = F_new\n",
        "  F.append(F_new)"
      ]
    },
    {
      "cell_type": "markdown",
      "source": [
        "Now, we make a plot of the iterated value of $F$ to see how $F$ is getting updated with iterations. We\n",
        "are also using \"-ok\" in the plot function. The \"-o\" represents the continuous line with filled dots, and\n",
        "\"k\" tells that the color of plot is black. We are also specifying the font size for *xlabel* and *ylabel*.\n",
        "We have used '25' for *ylabel* and '20' for *xlabel*, just to demonstrate that different font sizes can\n",
        "be used for different texts. Of course, there is no need to define a different font size for ylabel and\n",
        "xlabel. The same argument fontsize can be used to define the font size for legend also."
      ],
      "metadata": {
        "id": "yyVLU4g2aqe8"
      }
    },
    {
      "cell_type": "code",
      "source": [
        "import matplotlib.pyplot as plt\n",
        "\n",
        "plt.plot(F,'-ok')\n",
        "plt.xlabel('Number of iteration',fontsize=25)\n",
        "plt.ylabel('F',fontsize=20)\n",
        "plt.show()"
      ],
      "metadata": {
        "colab": {
          "base_uri": "https://localhost:8080/",
          "height": 296
        },
        "id": "Okk-J_chbAgN",
        "outputId": "b5ad8df4-ec04-4082-a255-d8ac07352d0a"
      },
      "execution_count": 3,
      "outputs": [
        {
          "output_type": "display_data",
          "data": {
            "text/plain": [
              "<Figure size 432x288 with 1 Axes>"
            ],
            "image/png": "[encoded data removed]"
          },
          "metadata": {
            "needs_background": "light"
          }
        }
      ]
    },
    {
      "cell_type": "markdown",
      "source": [
        "Above figure shows the variation of the $F$ over time. The $F$ is becoming almost constant after approximately 12 iterations."
      ],
      "metadata": {
        "id": "gDQuttT-bKIX"
      }
    }
  ]
}