{
  "nbformat": 4,
  "nbformat_minor": 0,
  "metadata": {
    "colab": {
      "provenance": [],
      "authorship_tag": "ABX9TyOBWtgceyrM+KQseqkVs8qz",
      "include_colab_link": true
    },
    "kernelspec": {
      "name": "python3",
      "display_name": "Python 3"
    },
    "language_info": {
      "name": "python"
    }
  },
  "cells": [
    {
      "cell_type": "markdown",
      "metadata": {
        "id": "view-in-github",
        "colab_type": "text"
      },
      "source": [
        "<a href=\"https://colab.research.google.com/github/tomersk/learn-python/blob/main/04_07.ipynb\" target=\"_parent\"><img src=\"https://colab.research.google.com/assets/colab-badge.svg\" alt=\"Open In Colab\"/></a>"
      ]
    },
    {
      "cell_type": "markdown",
      "source": [
        "## 4.7 Surface water\n",
        "The flow depth in a rectangular channel is given by,\n",
        "\n",
        "$ Q = \\frac{1.49}{n} S_0^{1/2} \\frac{(By)^{5/3}}{(B+y)^{2/3}} $,\n",
        "\n",
        "where, $Q$ is the flow, $n$ is the Manning’s coefficient, $S_0$ is slope of water surface, $B$ is the width\n",
        "of channel, and $y$ is the flow depth. This is a nonlinear equation in $y$, and the explicit solution of\n",
        "this is not yet found. This can be solved iteratively like in the last section, or using methods like\n",
        "Newton-Raphson. In this, we will solve using the *fmin* function of the *Scipy.optimize* library.\n",
        "First we will import required libraries. Then we will define a function that takes the flow depth ($y$)\n",
        "as input and gives the error in the flow estimated based on this $y$ and the given $Q$. We are taking\n",
        "absolute value of error, other possible options are like square of error etc. After specifying the function, we can give this function as a input to *fmin* and some initial guess of the $y$."
      ],
      "metadata": {
        "id": "-Kvy8BUDWMfq"
      }
    },
    {
      "cell_type": "code",
      "source": [
        "# import required modules\n",
        "import numpy as np\n",
        "import matplotlib.pyplot as plt\n",
        "from scipy.optimize import fmin\n",
        "\n",
        "# define the variables\n",
        "n = 0.015\n",
        "S0 = 0.025\n",
        "Q = 9.26\n",
        "B = 2\n",
        "\n",
        "# define the flow function\n",
        "def flow(y):\n",
        "  Q_estiamted = (1.49/n)*(S0**0.5)*((B*y)**(5/3))/((B+y)**(2/3))\n",
        "  epsilon = np.abs(Q_estiamted - Q)\n",
        "  return(epsilon)\n",
        "\n",
        "y_optimum = fmin(flow,0.5)\n",
        "print(y_optimum)"
      ],
      "metadata": {
        "colab": {
          "base_uri": "https://localhost:8080/"
        },
        "id": "TKkA6d11XXxo",
        "outputId": "3f0f3ccb-3c75-475c-fc20-caf25b4f624e"
      },
      "execution_count": 2,
      "outputs": [
        {
          "output_type": "stream",
          "name": "stdout",
          "text": [
            "Optimization terminated successfully.\n",
            "         Current function value: 0.000078\n",
            "         Iterations: 13\n",
            "         Function evaluations: 26\n",
            "[0.52770386]\n"
          ]
        }
      ]
    },
    {
      "cell_type": "markdown",
      "source": [
        "fmin will give us the required y value. We can also get details of the iterations, and error value at\n",
        "final iterations. We use print function to see the details. The output is provided above.\n",
        "\n",
        "The optimization terminated successfully, i.e. the required accuracy was achieved within the default\n",
        "maximum number of iterations allowed. The output tells that it took 13 iterations to achieve the\n",
        "required accuracy, and that the function was evaluated 26 times in the process."
      ],
      "metadata": {
        "id": "4vBXdFsTX5-a"
      }
    }
  ]
}