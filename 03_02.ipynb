{
  "nbformat": 4,
  "nbformat_minor": 0,
  "metadata": {
    "colab": {
      "provenance": [],
      "authorship_tag": "ABX9TyOm+b/wNo2Pkkc2QpVZecwr",
      "include_colab_link": true
    },
    "kernelspec": {
      "name": "python3",
      "display_name": "Python 3"
    },
    "language_info": {
      "name": "python"
    }
  },
  "cells": [
    {
      "cell_type": "markdown",
      "metadata": {
        "id": "view-in-github",
        "colab_type": "text"
      },
      "source": [
        "<a href=\"https://colab.research.google.com/github/tomersk/learn-python/blob/main/03_02.ipynb\" target=\"_parent\"><img src=\"https://colab.research.google.com/assets/colab-badge.svg\" alt=\"Open In Colab\"/></a>"
      ]
    },
    {
      "cell_type": "markdown",
      "source": [
        "## 3.2 Useful attributes and methods\n",
        "The ndarray (array generated using numpy) provides attributes to perform commonly used task quickly. These attributes are used to quickly get properties of ndarray. So let us first generate some vector whose elements are normally distributed random numbers, and try these attributes. Here I am using normally distributed random variable to demonstrate, but these attributed can be used with any numpy array. We are generating a 2 dimensional vector of size 5×100."
      ],
      "metadata": {
        "id": "ZpYl-623Fq5K"
      }
    },
    {
      "cell_type": "code",
      "execution_count": 2,
      "metadata": {
        "id": "7iT0j2g6Fl_z"
      },
      "outputs": [],
      "source": [
        "import numpy as np\n",
        "foo = np.random.randn(5,100)"
      ]
    },
    {
      "cell_type": "markdown",
      "source": [
        "Let us check the number of dimension (not the size, or shape of the array). Number of dimension means how many dimensions are associated with array. For example, in mathematics terminology\n",
        "vector has one dimension, matrix has two dimension."
      ],
      "metadata": {
        "id": "v5PTv9aGY9tT"
      }
    },
    {
      "cell_type": "code",
      "source": [
        "foo.ndim"
      ],
      "metadata": {
        "colab": {
          "base_uri": "https://localhost:8080/"
        },
        "id": "K_NjiSnHZCqO",
        "outputId": "288c7795-4e06-492c-8fcb-eb8779f35ceb"
      },
      "execution_count": 3,
      "outputs": [
        {
          "output_type": "execute_result",
          "data": {
            "text/plain": [
              "2"
            ]
          },
          "metadata": {},
          "execution_count": 3
        }
      ]
    },
    {
      "cell_type": "markdown",
      "source": [
        "The dimension of the array is accessed by using shape attribute."
      ],
      "metadata": {
        "id": "SYrfQtkGZGpt"
      }
    },
    {
      "cell_type": "code",
      "source": [
        "foo.shape"
      ],
      "metadata": {
        "colab": {
          "base_uri": "https://localhost:8080/"
        },
        "id": "fXrSJM66ZMO9",
        "outputId": "67f98383-7600-49b9-d169-4e693da28cd7"
      },
      "execution_count": 4,
      "outputs": [
        {
          "output_type": "execute_result",
          "data": {
            "text/plain": [
              "(5, 100)"
            ]
          },
          "metadata": {},
          "execution_count": 4
        }
      ]
    },
    {
      "cell_type": "markdown",
      "source": [
        "The size attribute provides the total number of elements in the array. This is simply the multiplication of all the elements given by shape attributes."
      ],
      "metadata": {
        "id": "iyO8cErUZQe2"
      }
    },
    {
      "cell_type": "code",
      "source": [
        "foo.size"
      ],
      "metadata": {
        "colab": {
          "base_uri": "https://localhost:8080/"
        },
        "id": "YXCnRCoqZUmJ",
        "outputId": "4dc1af30-c24b-4cd5-fe89-9bd680d75eca"
      },
      "execution_count": 5,
      "outputs": [
        {
          "output_type": "execute_result",
          "data": {
            "text/plain": [
              "500"
            ]
          },
          "metadata": {},
          "execution_count": 5
        }
      ]
    },
    {
      "cell_type": "markdown",
      "source": [
        "The data type (i.e. float, integer etc.) is extracted using the attribute dtype."
      ],
      "metadata": {
        "id": "BjQFOZHpZYZ2"
      }
    },
    {
      "cell_type": "code",
      "source": [
        "foo.dtype"
      ],
      "metadata": {
        "colab": {
          "base_uri": "https://localhost:8080/"
        },
        "id": "IUbwcrTIZcNX",
        "outputId": "676ea7f1-d8f6-4061-a369-367f1b874dad"
      },
      "execution_count": 6,
      "outputs": [
        {
          "output_type": "execute_result",
          "data": {
            "text/plain": [
              "dtype('float64')"
            ]
          },
          "metadata": {},
          "execution_count": 6
        }
      ]
    },
    {
      "cell_type": "markdown",
      "source": [
        "This tells us that, the variable foo is float, and has 64 bits. The average or mean of the variable is computed by using mean method."
      ],
      "metadata": {
        "id": "I1T5AGnVZiS7"
      }
    },
    {
      "cell_type": "code",
      "source": [
        "foo.mean()"
      ],
      "metadata": {
        "colab": {
          "base_uri": "https://localhost:8080/"
        },
        "id": "nV8baHLKZm3s",
        "outputId": "d206c9c8-1814-4249-f94a-eed838c6ccc0"
      },
      "execution_count": 7,
      "outputs": [
        {
          "output_type": "execute_result",
          "data": {
            "text/plain": [
              "-0.039312086858885494"
            ]
          },
          "metadata": {},
          "execution_count": 7
        }
      ]
    },
    {
      "cell_type": "markdown",
      "source": [
        "This provides the mean of entire array (i.e. 500 elements in this case). Suppose we want to estimate the mean across some dimension say second (1) dimension, then in this case we need to provide additional parameter to mean, i.e. axis."
      ],
      "metadata": {
        "id": "87mnWGPzZrfd"
      }
    },
    {
      "cell_type": "code",
      "source": [
        "foo.mean(axis=1)"
      ],
      "metadata": {
        "colab": {
          "base_uri": "https://localhost:8080/"
        },
        "id": "3YL3RO8edNhj",
        "outputId": "5d006775-bae9-42a3-cf5a-9232e00cd39e"
      },
      "execution_count": 8,
      "outputs": [
        {
          "output_type": "execute_result",
          "data": {
            "text/plain": [
              "array([-0.03335701, -0.18414904,  0.01821773, -0.02060886,  0.02333674])"
            ]
          },
          "metadata": {},
          "execution_count": 8
        }
      ]
    },
    {
      "cell_type": "markdown",
      "source": [
        "The minimum, maximum, standard deviation and variance of the array are estimated using min, max,\n",
        "std, and var methods."
      ],
      "metadata": {
        "id": "__S3YIAidRid"
      }
    },
    {
      "cell_type": "code",
      "source": [
        "# to get the minimum vale\n",
        "print(foo.min())\n",
        "\n",
        "# to get the maximum value\n",
        "print(foo.max())\n",
        "\n",
        "\n",
        "# to get the standard deviation\n",
        "print(foo.std())\n",
        "\n",
        "# to get the variance\n",
        "print(foo.var())"
      ],
      "metadata": {
        "colab": {
          "base_uri": "https://localhost:8080/"
        },
        "id": "IrdO-ZIJdVbb",
        "outputId": "7ae1a961-8d91-4140-9846-18d92520300b"
      },
      "execution_count": 9,
      "outputs": [
        {
          "output_type": "stream",
          "name": "stdout",
          "text": [
            "-3.0375914406796123\n",
            "2.9676033955788377\n",
            "1.007070896321991\n",
            "1.0141917902187783\n"
          ]
        }
      ]
    },
    {
      "cell_type": "markdown",
      "source": [
        "Remember that the line starting with # represents the comments. Comments make it easier to read and understand the code. So put comments whenever you do something, which is not easy to\n",
        "interpret from the code.\n",
        "\n",
        "The trace of the matrix represent the sum of diagonal elements, and has meaning in case of square matrix. Python even allows to estimate the trace even when matrix is not square, and trace is computed by using the trace attributes."
      ],
      "metadata": {
        "id": "91B_1G0DdkLs"
      }
    },
    {
      "cell_type": "code",
      "source": [
        "foo.trace()"
      ],
      "metadata": {
        "colab": {
          "base_uri": "https://localhost:8080/"
        },
        "id": "-MOB0_52dpdb",
        "outputId": "2aa13e59-43f8-4830-ea9f-4a01c06bbb1b"
      },
      "execution_count": 10,
      "outputs": [
        {
          "output_type": "execute_result",
          "data": {
            "text/plain": [
              "0.20480917353005382"
            ]
          },
          "metadata": {},
          "execution_count": 10
        }
      ]
    },
    {
      "cell_type": "markdown",
      "source": [
        "There are number of attributes associated with each class, dir function is a useful tool in exploring the attributes and method associated with any variable, class, library etc. Let us see what all methods and attributes our variable foo have."
      ],
      "metadata": {
        "id": "fVhDGDpSdsiS"
      }
    },
    {
      "cell_type": "code",
      "source": [
        "# to get the list of all the attributes associated with foo variable\n",
        "dir(foo)"
      ],
      "metadata": {
        "colab": {
          "base_uri": "https://localhost:8080/"
        },
        "id": "OFu5iNsadxR9",
        "outputId": "54d8d402-17f8-42a1-9f65-9ea809f75ab6"
      },
      "execution_count": 11,
      "outputs": [
        {
          "output_type": "execute_result",
          "data": {
            "text/plain": [
              "['T',\n",
              " '__abs__',\n",
              " '__add__',\n",
              " '__and__',\n",
              " '__array__',\n",
              " '__array_finalize__',\n",
              " '__array_function__',\n",
              " '__array_interface__',\n",
              " '__array_prepare__',\n",
              " '__array_priority__',\n",
              " '__array_struct__',\n",
              " '__array_ufunc__',\n",
              " '__array_wrap__',\n",
              " '__bool__',\n",
              " '__class__',\n",
              " '__complex__',\n",
              " '__contains__',\n",
              " '__copy__',\n",
              " '__deepcopy__',\n",
              " '__delattr__',\n",
              " '__delitem__',\n",
              " '__dir__',\n",
              " '__divmod__',\n",
              " '__doc__',\n",
              " '__eq__',\n",
              " '__float__',\n",
              " '__floordiv__',\n",
              " '__format__',\n",
              " '__ge__',\n",
              " '__getattribute__',\n",
              " '__getitem__',\n",
              " '__gt__',\n",
              " '__hash__',\n",
              " '__iadd__',\n",
              " '__iand__',\n",
              " '__ifloordiv__',\n",
              " '__ilshift__',\n",
              " '__imatmul__',\n",
              " '__imod__',\n",
              " '__imul__',\n",
              " '__index__',\n",
              " '__init__',\n",
              " '__init_subclass__',\n",
              " '__int__',\n",
              " '__invert__',\n",
              " '__ior__',\n",
              " '__ipow__',\n",
              " '__irshift__',\n",
              " '__isub__',\n",
              " '__iter__',\n",
              " '__itruediv__',\n",
              " '__ixor__',\n",
              " '__le__',\n",
              " '__len__',\n",
              " '__lshift__',\n",
              " '__lt__',\n",
              " '__matmul__',\n",
              " '__mod__',\n",
              " '__mul__',\n",
              " '__ne__',\n",
              " '__neg__',\n",
              " '__new__',\n",
              " '__or__',\n",
              " '__pos__',\n",
              " '__pow__',\n",
              " '__radd__',\n",
              " '__rand__',\n",
              " '__rdivmod__',\n",
              " '__reduce__',\n",
              " '__reduce_ex__',\n",
              " '__repr__',\n",
              " '__rfloordiv__',\n",
              " '__rlshift__',\n",
              " '__rmatmul__',\n",
              " '__rmod__',\n",
              " '__rmul__',\n",
              " '__ror__',\n",
              " '__rpow__',\n",
              " '__rrshift__',\n",
              " '__rshift__',\n",
              " '__rsub__',\n",
              " '__rtruediv__',\n",
              " '__rxor__',\n",
              " '__setattr__',\n",
              " '__setitem__',\n",
              " '__setstate__',\n",
              " '__sizeof__',\n",
              " '__str__',\n",
              " '__sub__',\n",
              " '__subclasshook__',\n",
              " '__truediv__',\n",
              " '__xor__',\n",
              " 'all',\n",
              " 'any',\n",
              " 'argmax',\n",
              " 'argmin',\n",
              " 'argpartition',\n",
              " 'argsort',\n",
              " 'astype',\n",
              " 'base',\n",
              " 'byteswap',\n",
              " 'choose',\n",
              " 'clip',\n",
              " 'compress',\n",
              " 'conj',\n",
              " 'conjugate',\n",
              " 'copy',\n",
              " 'ctypes',\n",
              " 'cumprod',\n",
              " 'cumsum',\n",
              " 'data',\n",
              " 'diagonal',\n",
              " 'dot',\n",
              " 'dtype',\n",
              " 'dump',\n",
              " 'dumps',\n",
              " 'fill',\n",
              " 'flags',\n",
              " 'flat',\n",
              " 'flatten',\n",
              " 'getfield',\n",
              " 'imag',\n",
              " 'item',\n",
              " 'itemset',\n",
              " 'itemsize',\n",
              " 'max',\n",
              " 'mean',\n",
              " 'min',\n",
              " 'nbytes',\n",
              " 'ndim',\n",
              " 'newbyteorder',\n",
              " 'nonzero',\n",
              " 'partition',\n",
              " 'prod',\n",
              " 'ptp',\n",
              " 'put',\n",
              " 'ravel',\n",
              " 'real',\n",
              " 'repeat',\n",
              " 'reshape',\n",
              " 'resize',\n",
              " 'round',\n",
              " 'searchsorted',\n",
              " 'setfield',\n",
              " 'setflags',\n",
              " 'shape',\n",
              " 'size',\n",
              " 'sort',\n",
              " 'squeeze',\n",
              " 'std',\n",
              " 'strides',\n",
              " 'sum',\n",
              " 'swapaxes',\n",
              " 'take',\n",
              " 'tobytes',\n",
              " 'tofile',\n",
              " 'tolist',\n",
              " 'tostring',\n",
              " 'trace',\n",
              " 'transpose',\n",
              " 'var',\n",
              " 'view']"
            ]
          },
          "metadata": {},
          "execution_count": 11
        }
      ]
    },
    {
      "cell_type": "markdown",
      "source": [
        "The output of dir(foo) is very long - you do not have to understand each of the output as of now. The attributes/method starting with \"_\" are supposed to be the private attributes and are often not needed."
      ],
      "metadata": {
        "id": "YB18yJr8d0MI"
      }
    }
  ]
}