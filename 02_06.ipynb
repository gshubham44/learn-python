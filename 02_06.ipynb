{
  "nbformat": 4,
  "nbformat_minor": 0,
  "metadata": {
    "colab": {
      "provenance": [],
      "authorship_tag": "ABX9TyMHGZ1Vc3MtKQq0A2MPirFL",
      "include_colab_link": true
    },
    "kernelspec": {
      "name": "python3",
      "display_name": "Python 3"
    },
    "language_info": {
      "name": "python"
    }
  },
  "cells": [
    {
      "cell_type": "markdown",
      "metadata": {
        "id": "view-in-github",
        "colab_type": "text"
      },
      "source": [
        "<a href=\"https://colab.research.google.com/github/tomersk/learn-python/blob/main/02_06.ipynb\" target=\"_parent\"><img src=\"https://colab.research.google.com/assets/colab-badge.svg\" alt=\"Open In Colab\"/></a>"
      ]
    },
    {
      "cell_type": "markdown",
      "source": [
        "## 2.6 Control Flow\n",
        "\n",
        "If we want to do same task many times, restrict the execution of task only when some condition is met, **control flow** is the way to do it.\n",
        "\n",
        "### 2.6.1 for\n",
        "*for* is used to repeatedly executing a piece of code. It also can be used to iterate over some list. Suppose\n",
        "you have some list, and you want to square the each item in list and print."
      ],
      "metadata": {
        "id": "m7uRmpyJgj4a"
      }
    },
    {
      "cell_type": "code",
      "execution_count": 1,
      "metadata": {
        "colab": {
          "base_uri": "https://localhost:8080/"
        },
        "id": "gLzgG8U-e4zb",
        "outputId": "63381572-762b-4123-8f56-1e2616428415"
      },
      "outputs": [
        {
          "output_type": "stream",
          "name": "stdout",
          "text": [
            "25\n",
            "121\n",
            "196\n",
            "0\n",
            "36\n",
            "0\n",
            "64\n"
          ]
        }
      ],
      "source": [
        "foo = [5, 11, 14, 0, 6, 0, 8] # define the list\n",
        "for item in foo:\n",
        "  print(item**2)\n"
      ]
    },
    {
      "cell_type": "markdown",
      "source": [
        "To define which piece of code will be part of a **control flow**, we need to use indentation. Indentation refers to the spaces at the beginning of a code line. We can use any number of white space/s for indentation, however, we should follow the same intendation throughout the code.  \n",
        "\n",
        "Please note that while in other programming languages,  indentation is used for readability only, but in Python,  indentation is very important as it uses indentation to indicate a block of code.\n",
        "\n",
        "The item in the list can be iterated by defining another list having integers, and iterating over it. Let\n",
        "us try this way to perform the above task."
      ],
      "metadata": {
        "id": "srA3wixliujK"
      }
    },
    {
      "cell_type": "code",
      "source": [
        "foo = [5, 11, 14, 0, 6, 0, 8] # define the list\n",
        "a = range(7) # define the list having integers\n",
        "\n",
        "for item in a:\n",
        "  print(foo[item]**2)"
      ],
      "metadata": {
        "colab": {
          "base_uri": "https://localhost:8080/"
        },
        "id": "A8dg3EObio_K",
        "outputId": "c1505865-81c5-4fe9-b988-3cf8100642e0"
      },
      "execution_count": 2,
      "outputs": [
        {
          "output_type": "stream",
          "name": "stdout",
          "text": [
            "range(0, 7)\n",
            "25\n",
            "121\n",
            "196\n",
            "0\n",
            "36\n",
            "0\n",
            "64\n"
          ]
        }
      ]
    },
    {
      "cell_type": "markdown",
      "source": [
        "### 2.6.2 while\n",
        "\n",
        "*while* statement is used, when we want to keep on executing the some code unless some condition is met or violated. Suppose, we want to print some numbers ranging from 15 to 20, we could do like this."
      ],
      "metadata": {
        "id": "879A4M5-j4UR"
      }
    },
    {
      "cell_type": "code",
      "source": [
        "n = 15 # initialize the n\n",
        "while n<=20:\n",
        "  print(n)\n",
        "  n = n+1"
      ],
      "metadata": {
        "colab": {
          "base_uri": "https://localhost:8080/"
        },
        "id": "2T4TXlTmj-Q-",
        "outputId": "8b23ea29-619e-4806-d070-bd44d58acfd8"
      },
      "execution_count": 4,
      "outputs": [
        {
          "output_type": "stream",
          "name": "stdout",
          "text": [
            "15\n",
            "16\n",
            "17\n",
            "18\n",
            "19\n",
            "20\n"
          ]
        }
      ]
    },
    {
      "cell_type": "markdown",
      "source": [
        "### 2.6.3 if\n",
        "*if* statement executes some portion of the code, if the conditions are met, otherwise it skips that\n",
        "portion. Suppose you have some list, and you want to compute its inverse, but want to skip if the entry in list is zero:"
      ],
      "metadata": {
        "id": "V7ylGPmZkCDZ"
      }
    },
    {
      "cell_type": "code",
      "source": [
        "foo = [5, 11, 14, 0, 6, 0, 8] # define an array\n",
        "\n",
        "for item in foo:\n",
        "  if item is not 0:\n",
        "    print(1/item)"
      ],
      "metadata": {
        "colab": {
          "base_uri": "https://localhost:8080/"
        },
        "id": "Dy5fck8rkBpo",
        "outputId": "1c157664-8d8b-498c-96d8-4c1bf5b28c0e"
      },
      "execution_count": 5,
      "outputs": [
        {
          "output_type": "stream",
          "name": "stdout",
          "text": [
            "0.2\n",
            "0.09090909090909091\n",
            "0.07142857142857142\n",
            "0.16666666666666666\n",
            "0.125\n"
          ]
        }
      ]
    },
    {
      "cell_type": "markdown",
      "source": [
        "The *if-else* allows alternative portions of code to execute depending upon the condition. In *if-else* only one portion of code is executed from the given alternatives. Suppose in the previous example, you want to issue some statement when there is 0 in the list."
      ],
      "metadata": {
        "id": "07ISxLBMzgx1"
      }
    },
    {
      "cell_type": "code",
      "source": [
        "foo = [5, 11, 14, 0, 6, 0, 8] # define the array\n",
        "\n",
        "for item in foo:\n",
        "  if item is not 0:\n",
        "    print(1.0/item)\n",
        "  else:\n",
        "    print('0 found in list')"
      ],
      "metadata": {
        "colab": {
          "base_uri": "https://localhost:8080/"
        },
        "id": "vWO4SFrlzzdI",
        "outputId": "16e4e979-e71e-479b-ebfe-a305bc563cba"
      },
      "execution_count": 7,
      "outputs": [
        {
          "output_type": "stream",
          "name": "stdout",
          "text": [
            "0.2\n",
            "0.09090909090909091\n",
            "0.07142857142857142\n",
            "0 found in list\n",
            "0.16666666666666666\n",
            "0 found in list\n",
            "0.125\n"
          ]
        }
      ]
    },
    {
      "cell_type": "markdown",
      "source": [
        "if-elif-else is used when depending upon the condition, you want to execute some portion of code. You can specify as many conditions you want, and their corresponding code to execute. Lets take one example, suppose we have one list, and we want to print some statement if the item in list is negative, positive or 0."
      ],
      "metadata": {
        "id": "tCYvjlanzxej"
      }
    },
    {
      "cell_type": "code",
      "source": [
        "foo = [5, -11, 14, 0, -6, 0, 8] # define the array\n",
        "\n",
        "for item in foo:\n",
        "  if item < 0:\n",
        "    print('item is negative')\n",
        "  elif(item>0):\n",
        "    print('item is positive')\n",
        "  else:\n",
        "    print('item is 0')"
      ],
      "metadata": {
        "colab": {
          "base_uri": "https://localhost:8080/"
        },
        "id": "MlO8EVPU0MZ7",
        "outputId": "670840cb-e356-48df-c656-75a1de31fa21"
      },
      "execution_count": 8,
      "outputs": [
        {
          "output_type": "stream",
          "name": "stdout",
          "text": [
            "item is positive\n",
            "item is negative\n",
            "item is positive\n",
            "item is 0\n",
            "item is negative\n",
            "item is 0\n",
            "item is positive\n"
          ]
        }
      ]
    },
    {
      "cell_type": "markdown",
      "source": [
        "### 2.6.4 break\n",
        "The *break* statement, breaks out of the loop. Suppose you want to print all the items in the list, but you want to stop the loop if you encounter 0."
      ],
      "metadata": {
        "id": "fV_7yl7PkHUr"
      }
    },
    {
      "cell_type": "code",
      "source": [
        "for item in foo:\n",
        "  if item==0:\n",
        "    print('zero found in the list, stopping iterations')\n",
        "    break\n",
        "  else:\n",
        "    print(item)"
      ],
      "metadata": {
        "colab": {
          "base_uri": "https://localhost:8080/"
        },
        "id": "sefyjysK0ndN",
        "outputId": "d99e081d-4c08-4576-877e-e099e9dad0cd"
      },
      "execution_count": 9,
      "outputs": [
        {
          "output_type": "stream",
          "name": "stdout",
          "text": [
            "5\n",
            "-11\n",
            "14\n",
            "zero found in the list, stopping iterations\n"
          ]
        }
      ]
    },
    {
      "cell_type": "markdown",
      "source": [
        "The break statement becomes useful when you want to want if something strange happens to your program, and in that condition you want to stop the execution."
      ],
      "metadata": {
        "id": "T7c4rh2w0xqP"
      }
    },
    {
      "cell_type": "markdown",
      "source": [
        "### 2.6.5 continue\n",
        "The continue statement provides opportunity to jump out of the current loop (iteration) when some condition is met. Suppose you do not want to print items in the list which are negative."
      ],
      "metadata": {
        "id": "LSssQ5tWkPSS"
      }
    },
    {
      "cell_type": "code",
      "source": [
        "foo = [5, -11, 14, 0, -6, 0, 8] # define the array\n",
        "\n",
        "for item in foo:\n",
        "  if item<0:\n",
        "    continue\n",
        "  print(item)"
      ],
      "metadata": {
        "colab": {
          "base_uri": "https://localhost:8080/"
        },
        "id": "58P0yZWE1CRP",
        "outputId": "abed6084-f57b-4deb-f2d2-bca5e8e23218"
      },
      "execution_count": 10,
      "outputs": [
        {
          "output_type": "stream",
          "name": "stdout",
          "text": [
            "5\n",
            "14\n",
            "0\n",
            "0\n",
            "8\n"
          ]
        }
      ]
    },
    {
      "cell_type": "markdown",
      "source": [
        "### 2.6.6 pass\n",
        "The *pass* statement does nothing. It can be used when a statement is required syntactically but the\n",
        "program requires no action."
      ],
      "metadata": {
        "id": "lCneltU-kQDf"
      }
    },
    {
      "cell_type": "code",
      "source": [
        "foo = [5, -11, 14, 0, -6, 0, 8] # define the array\n",
        "\n",
        "for item in foo:\n",
        "  pass"
      ],
      "metadata": {
        "id": "Zlz7UCB01a2q"
      },
      "execution_count": 11,
      "outputs": []
    },
    {
      "cell_type": "markdown",
      "source": [
        "This is often used, when you are developing your code, and intent to put something later. If you leave without pass, Python will issue the error."
      ],
      "metadata": {
        "id": "WUzqDR7G1beN"
      }
    }
  ]
}