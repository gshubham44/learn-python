{
  "nbformat": 4,
  "nbformat_minor": 0,
  "metadata": {
    "colab": {
      "provenance": [],
      "authorship_tag": "ABX9TyODPVspuw1kTHTm3MNpgItT",
      "include_colab_link": true
    },
    "kernelspec": {
      "name": "python3",
      "display_name": "Python 3"
    },
    "language_info": {
      "name": "python"
    }
  },
  "cells": [
    {
      "cell_type": "markdown",
      "metadata": {
        "id": "view-in-github",
        "colab_type": "text"
      },
      "source": [
        "<a href=\"https://colab.research.google.com/github/tomersk/learn-python/blob/main/04_09.ipynb\" target=\"_parent\"><img src=\"https://colab.research.google.com/assets/colab-badge.svg\" alt=\"Open In Colab\"/></a>"
      ]
    },
    {
      "cell_type": "markdown",
      "source": [
        "## 4.9 Delta T\n",
        "\n",
        "In spraying, pesticides are mixed with more than 90% of the water and hence evaporation plays very important role. Delta T is an indication of the water evaporation. A lower value of Delta T means lower evaporation. \n",
        "\n",
        "Delta T is defined as the dry bulb temperature minus the wet bulb temperature. We need measurements of RH (relative humidity) and air (dry bulb) temperature to compute Delta T."
      ],
      "metadata": {
        "id": "JHrxcglfcjRn"
      }
    },
    {
      "cell_type": "code",
      "execution_count": 3,
      "metadata": {
        "colab": {
          "base_uri": "https://localhost:8080/"
        },
        "id": "wYVeGHIltXfh",
        "outputId": "e05912d2-bd79-4303-847b-ac82aac19390"
      },
      "outputs": [
        {
          "output_type": "stream",
          "name": "stdout",
          "text": [
            "9.140479070827855\n"
          ]
        }
      ],
      "source": [
        "import numpy as np\n",
        "RH = 27 # relative humidity in %\n",
        "T = 18 # air temperature in degree Celcius\n",
        "Tw = T*np.arctan(0.151977*(RH+8.313659)**0.5) + np.arctan(T+RH) - np.arctan(RH - 1.676331) + 0.00391838*(RH)**(3/2)*np.arctan(0.023101*RH) -4.686035\n",
        "delta_t = T-Tw\n",
        "print(delta_t)"
      ]
    },
    {
      "cell_type": "markdown",
      "source": [
        "Let us take all possible values of $RH$ and $T$ and plot the region for which spraying is preferred. Below example, takes the values of $T$ from 0 to 50, take the values of RH from 1 to 100, and compute Delta T. For a value of Delta T between 2 and 8, spraying is preferred and between 8 and 10, conditions are marginal, for any other value, spraying should be avoided. "
      ],
      "metadata": {
        "id": "4D_IWClxhUlT"
      }
    },
    {
      "cell_type": "code",
      "source": [
        "import matplotlib.pyplot as plt\n",
        "\n",
        "T,RH = np.meshgrid(np.linspace(0,50), np.linspace(1,100))\n",
        "\n",
        "def compute_delta_t(RH,T):\n",
        "  Tw = T*np.arctan(0.151977*(RH+8.313659)**0.5) + np.arctan(T+RH) - np.arctan(RH - 1.676331) + 0.00391838*(RH)**(3/2)*np.arctan(0.023101*RH) -4.686035\n",
        "  delta_t = T-Tw\n",
        "  return(delta_t)\n",
        "\n",
        "delta_t = compute_delta_t(RH,T)\n",
        "\n",
        "plt.contourf(T,RH,delta_t, levels=[2,8,10])\n",
        "plt.colorbar()\n",
        "plt.xlabel('T', fontsize=20)\n",
        "plt.ylabel('RH', fontsize=20)\n",
        "plt.show()"
      ],
      "metadata": {
        "colab": {
          "base_uri": "https://localhost:8080/",
          "height": 292
        },
        "id": "Uz-T-c2keT0e",
        "outputId": "09fa7c47-819a-4acf-99af-e90630c6cb4a"
      },
      "execution_count": 14,
      "outputs": [
        {
          "output_type": "display_data",
          "data": {
            "text/plain": [
              "<Figure size 432x288 with 2 Axes>"
            ],
            "image/png": "[encoded data removed]"
          },
          "metadata": {
            "needs_background": "light"
          }
        }
      ]
    },
    {
      "cell_type": "markdown",
      "source": [
        "In the above figure, blue color indicates optimal condition and light green colour indicates marginal conditions for spraying. "
      ],
      "metadata": {
        "id": "p0SX2bYDh-tc"
      }
    }
  ]
}