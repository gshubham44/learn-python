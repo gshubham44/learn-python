{
  "nbformat": 4,
  "nbformat_minor": 0,
  "metadata": {
    "colab": {
      "provenance": [],
      "authorship_tag": "ABX9TyNKVsAjr3VocO5gjJzLDTJS",
      "include_colab_link": true
    },
    "kernelspec": {
      "name": "python3",
      "display_name": "Python 3"
    },
    "language_info": {
      "name": "python"
    }
  },
  "cells": [
    {
      "cell_type": "markdown",
      "metadata": {
        "id": "view-in-github",
        "colab_type": "text"
      },
      "source": [
        "<a href=\"https://colab.research.google.com/github/tomersk/learn-python/blob/main/05_06.ipynb\" target=\"_parent\"><img src=\"https://colab.research.google.com/assets/colab-badge.svg\" alt=\"Open In Colab\"/></a>"
      ]
    },
    {
      "cell_type": "markdown",
      "source": [
        "## 5.6 Measure of statistical dependence\n",
        "Often we are interested in knowing if two hydrological variables are dependant or not. In this section,\n",
        "it will be described to check their statistical dependency. If two variable are statistically dependent,\n",
        "it does not mean that they are physically also dependent. First we will generate two variables having\n",
        "different relationship between them. Few with perfect relationship, and few with some noise added.\n",
        "In the following example, we are creating six variables:\n",
        "\n",
        "*   Perfect linear relationship ($y = a + bx$),\n",
        "*   Linear relationship with some noise ($y = a+bx+\\epsilon$),\n",
        "*   Quadratic relationship which is monotonic ($y = x^2$),\n",
        "*   Quadratic relationship with some noise ($y = x^2 + \\epsilon$),\n",
        "*   Quadratic relationship but this one which is not monotonic ($y = (x−5)^2$), and\n",
        "*   Noise added to previous one ($y = (x−5)^2 + \\epsilon$).\n",
        "\n",
        "Below figure shows these variables. Out of the six variable, three have perfect relationship, and three\n",
        "has some noise. We would expect our measure of statistical dependence to reveal this."
      ],
      "metadata": {
        "id": "50N3BJe95Q98"
      }
    },
    {
      "cell_type": "code",
      "execution_count": 5,
      "metadata": {
        "colab": {
          "base_uri": "https://localhost:8080/",
          "height": 265
        },
        "id": "RYTy2PG_p0LK",
        "outputId": "97fe235d-c066-4e40-f8c1-bebfa1d66d28"
      },
      "outputs": [
        {
          "output_type": "display_data",
          "data": {
            "text/plain": [
              "<Figure size 432x288 with 6 Axes>"
            ],
            "image/png": "[encoded data removed]"
          },
          "metadata": {
            "needs_background": "light"
          }
        }
      ],
      "source": [
        "import numpy as np\n",
        "import matplotlib.pyplot as plt\n",
        "\n",
        "x = np.linspace(0,10)\n",
        "y1 = 2*x\n",
        "y2 = y1 + 2*np.random.randn(50)\n",
        "y3 = x**2\n",
        "y4 = y3 + 2*np.random.randn(50)\n",
        "y5 = (x-5)**2\n",
        "y6 = y5 + 2*np.random.randn(50)\n",
        "\n",
        "plt.subplot(2,3,1)\n",
        "plt.plot(x, y1, '.')\n",
        "plt.text(2,15,'(a)')\n",
        "\n",
        "plt.subplot(2,3,2)\n",
        "plt.plot(x, y2, '.')\n",
        "plt.text(2,15,'(b)')\n",
        "\n",
        "plt.subplot(2,3,3)\n",
        "plt.plot(x, y3, '.')\n",
        "plt.text(2,80,'(c)')\n",
        "\n",
        "plt.subplot(2,3,4)\n",
        "plt.plot(x, y4, '.')\n",
        "plt.text(2,50,'(d)')\n",
        "\n",
        "plt.subplot(2,3,5)\n",
        "plt.plot(x, y5, '.')\n",
        "plt.text(2,20,'(e)')\n",
        "\n",
        "plt.subplot(2,3,6)\n",
        "plt.plot(x, y6, '.')\n",
        "plt.text(2,25,'(f)')\n",
        "plt.show()"
      ]
    },
    {
      "cell_type": "markdown",
      "source": [
        "Unfortunately there is no measure to reveal the strength of relationship in case on non-linearty. The reason for this is that we can have any form of non linear relationship which is not possible for measure to quantity. Having said that, there are some measure which work well in some case. We will explore few of them. First begin with Pearson’s correlation coefficient, which provides the\n",
        "strength of linear relationship. st.pearsonr function can be used to compute Pearson’s correlation\n",
        "coefficient. This function also gives the p-value, which can be used to quantity the significance of\n",
        "the relationship. We are using % operator for formatting the output. .2f tells to print the output till\n",
        "second decimal places."
      ],
      "metadata": {
        "id": "zbcuLRpw9cr_"
      }
    },
    {
      "cell_type": "code",
      "source": [
        "import scipy.stats as st\n",
        "r1, p1 = st.pearsonr(x,y1)\n",
        "r2, p2 = st.pearsonr(x,y2)\n",
        "r3, p3 = st.pearsonr(x,y3)\n",
        "r4, p4 = st.pearsonr(x,y4)\n",
        "r5, p5 = st.pearsonr(x,y5)\n",
        "r6, p6 = st.pearsonr(x,y6)\n",
        "\n",
        "# print r's\n",
        "print('%.2f %.2f %.2f %.2f %.2f %.2f'%(r1,r2,r3,r4,r5,r6))"
      ],
      "metadata": {
        "colab": {
          "base_uri": "https://localhost:8080/"
        },
        "id": "drpxWwqu-poN",
        "outputId": "8aab3408-f83f-4939-e404-165d9cdfa389"
      },
      "execution_count": 6,
      "outputs": [
        {
          "output_type": "stream",
          "name": "stdout",
          "text": [
            "1.00 0.95 0.97 0.97 0.00 0.01\n"
          ]
        }
      ]
    },
    {
      "cell_type": "markdown",
      "source": [
        "We get 1.0 for first case, and a value slightly lesser than 1.0 for second case, because we perturbed the relationship. In third case, we get a value of 0.97, while in reality the relationship is perfect though not linear. The value is 0 in fifth case, even though the relationship is perfect. So we can\n",
        "conclude that Pearson’s correlation coefficient is good only to measure the linear relationship. Now we will compute Spearman’s correlation coefficient for all these six cases using *st.spearman*."
      ],
      "metadata": {
        "id": "yYlNI_aG-3Cl"
      }
    },
    {
      "cell_type": "code",
      "source": [
        "rho1, p1 = st.spearmanr(x,y1)\n",
        "rho2, p2 = st.spearmanr(x,y2)\n",
        "rho3, p3 = st.spearmanr(x,y3)\n",
        "rho4, p4 = st.spearmanr(x,y4)\n",
        "rho5, p5 = st.spearmanr(x,y5)\n",
        "rho6, p6 = st.spearmanr(x,y6)\n",
        "\n",
        "# print rho's\n",
        "print('%.2f %.2f %.2f %.2f %.2f %.2f'%(rho1,rho2,rho3,rho4,rho5,rho6))"
      ],
      "metadata": {
        "colab": {
          "base_uri": "https://localhost:8080/"
        },
        "id": "yCDowgJT_NIV",
        "outputId": "0e16f372-831f-47bb-af87-7401e4062e6b"
      },
      "execution_count": 7,
      "outputs": [
        {
          "output_type": "stream",
          "name": "stdout",
          "text": [
            "1.00 0.95 1.00 0.99 0.01 0.01\n"
          ]
        }
      ]
    },
    {
      "cell_type": "markdown",
      "source": [
        "Spearman’s correlation coefficient is providing the similar output like one by Spearman’s except that\n",
        "it is able to recognize the relationship in third and fourth case better. In the third and fourth case,\n",
        "the relationship was non-linear but monotonic. Spearman’s correlation coefficient is useful measure\n",
        "when the data has monotonic behaviour. But this is also not working properly in case when the\n",
        "relationship is well defined, but not monotonic. Kendall’s tau correlation coefficient is a statistics to\n",
        "measure the rank correlation. Kendall’s tau can be computed using the st.kendalltau function."
      ],
      "metadata": {
        "id": "dCETI2nE_YA0"
      }
    },
    {
      "cell_type": "code",
      "source": [
        "tau1, p1 = st.kendalltau(x,y1)\n",
        "tau2, p2 = st.kendalltau(x,y2)\n",
        "tau3, p3 = st.kendalltau(x,y3)\n",
        "tau4, p4 = st.kendalltau(x,y4)\n",
        "tau5, p5 = st.kendalltau(x,y5)\n",
        "tau6, p6 = st.kendalltau(x,y6)\n",
        "\n",
        "# print tau's\n",
        "print('%.2f %.2f %.2f %.2f %.2f %.2f'%(tau1,tau2,tau3,tau4,tau5,tau6))"
      ],
      "metadata": {
        "colab": {
          "base_uri": "https://localhost:8080/"
        },
        "id": "lpXGgDGS_cy8",
        "outputId": "a82178e3-fc14-4933-c831-4868081de07f"
      },
      "execution_count": 8,
      "outputs": [
        {
          "output_type": "stream",
          "name": "stdout",
          "text": [
            "1.00 0.81 1.00 0.95 0.01 0.00\n"
          ]
        }
      ]
    },
    {
      "cell_type": "markdown",
      "source": [
        "This provides measure similar to that of Spearman’s correlation coefficient, and is unable to reveal non-monotonic relationship that we have in fifth and sixth case. However, in the case of monotonic perfect relationship (i.e. case 3), it is able to capture the strenght of relationship perfectly."
      ],
      "metadata": {
        "id": "fPiH41dp_mVL"
      }
    }
  ]
}