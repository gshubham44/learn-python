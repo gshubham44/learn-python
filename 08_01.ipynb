{
  "nbformat": 4,
  "nbformat_minor": 0,
  "metadata": {
    "colab": {
      "provenance": [],
      "authorship_tag": "ABX9TyO+lFnhpLfNa3BJxwyDPWnA",
      "include_colab_link": true
    },
    "kernelspec": {
      "name": "python3",
      "display_name": "Python 3"
    },
    "language_info": {
      "name": "python"
    }
  },
  "cells": [
    {
      "cell_type": "markdown",
      "metadata": {
        "id": "view-in-github",
        "colab_type": "text"
      },
      "source": [
        "<a href=\"https://colab.research.google.com/github/tomersk/learn-python/blob/main/08_01.ipynb\" target=\"_parent\"><img src=\"https://colab.research.google.com/assets/colab-badge.svg\" alt=\"Open In Colab\"/></a>"
      ]
    },
    {
      "cell_type": "markdown",
      "source": [
        "# 8. Input-Output\n",
        "## 8.1 xls\n",
        "The data.xls file contains the data of soil moisture estimated from the AMSR-E platform. You can open the xls file and have a look at its content. In this file we have data in two sheets, Ascending and Descending which corresponds to satellite direction. Each sheet contains the time series data for various grids point. Missing data is assigned a number of 999.9. In this section we will read data of one station for all the time, modify the data which is missing, and write in another xls file. We will be using xlsrd library to read data from xls file, and xlwt to write the data to xls file. The xlrd does not read xlsx data file, you should convert the xlsx type of file into xls before reading."
      ],
      "metadata": {
        "id": "MkZxrZhS8d97"
      }
    },
    {
      "cell_type": "code",
      "execution_count": null,
      "metadata": {
        "colab": {
          "base_uri": "https://localhost:8080/"
        },
        "id": "V03QPWz98Z8G",
        "outputId": "7a8e6d41-bac6-4ca3-d6db-9c68c96f6a5b"
      },
      "outputs": [
        {
          "output_type": "stream",
          "name": "stdout",
          "text": [
            "Drive already mounted at /content/gdrive; to attempt to forcibly remount, call drive.mount(\"/content/gdrive\", force_remount=True).\n"
          ]
        }
      ],
      "source": [
        "from google.colab import drive\n",
        "import xlrd\n",
        "import numpy as np\n",
        "\n",
        "drive.mount(\"/content/gdrive\")\n",
        "\n",
        "fname = \"/content/gdrive/My Drive/Colab Notebooks/LearnPython/data/data.xls\""
      ]
    },
    {
      "cell_type": "markdown",
      "source": [
        "We create book object by passing the name of xls file to xlrd.open_workbook. The sheet from which we need to read the data is specified using the sheet_by_name."
      ],
      "metadata": {
        "id": "FCSui5IY93tm"
      }
    },
    {
      "cell_type": "code",
      "source": [
        "book = xlrd.open_workbook(fname)\n",
        "sheet = book.sheet_by_name('Ascending')"
      ],
      "metadata": {
        "id": "EywS1_yy9wO0"
      },
      "execution_count": null,
      "outputs": []
    },
    {
      "cell_type": "markdown",
      "source": [
        "The number of columns and rows in sheets can be checked by using the nrows and ncols attributes respectively."
      ],
      "metadata": {
        "id": "GgSRZLGG-nrn"
      }
    },
    {
      "cell_type": "code",
      "source": [
        "print(sheet.nrows)\n",
        "print(sheet.ncols)"
      ],
      "metadata": {
        "colab": {
          "base_uri": "https://localhost:8080/"
        },
        "id": "B-L8r_B3-qPL",
        "outputId": "1dc185cd-2e81-4a6c-8c61-e6c835542630"
      },
      "execution_count": null,
      "outputs": [
        {
          "output_type": "stream",
          "name": "stdout",
          "text": [
            "1100\n",
            "39\n"
          ]
        }
      ]
    },
    {
      "cell_type": "markdown",
      "source": [
        "Our sheet’s first two rows are heading of table and latitude and longitude, and hence the length of time series data is two lesser than the number of rows. First we create an empty array to store the data, and then we read the data cell by cell using the cell_value. We will be reading the data of grid having latitude equal to 12.4958 and longitude equal to 75.7484, which is in fourth column (indices start with zero)."
      ],
      "metadata": {
        "id": "UqXu2joh-vqz"
      }
    },
    {
      "cell_type": "code",
      "source": [
        "sm = np.empty(sheet.nrows-2)\n",
        "year = np.empty(sheet.nrows-2, int)\n",
        "month = np.empty(sheet.nrows-2, int)\n",
        "day = np.empty(sheet.nrows-2, int)\n",
        "for i in range(sm.shape[0]):\n",
        "  sm[i] = sheet.cell_value(i+2,27)\n",
        "  year[i] = sheet.cell_value(i+2,0)\n",
        "  month[i] = sheet.cell_value(i+2,1)\n",
        "  day[i] = sheet.cell_value(i+2,2)\n",
        "\n",
        "# check the output\n",
        "print(sm)"
      ],
      "metadata": {
        "colab": {
          "base_uri": "https://localhost:8080/"
        },
        "id": "N-f9aJJz-xuE",
        "outputId": "3b6eb93d-e03c-4099-8e3b-57b2da5586d9"
      },
      "execution_count": null,
      "outputs": [
        {
          "output_type": "stream",
          "name": "stdout",
          "text": [
            "[ 12.6 999.9  13.2 ...  12.1  12.7  12.8]\n"
          ]
        }
      ]
    },
    {
      "cell_type": "markdown",
      "source": [
        "We can define \"no data\" as \"NaN\""
      ],
      "metadata": {
        "id": "LdbyLOlyFIgm"
      }
    },
    {
      "cell_type": "code",
      "source": [
        "sm[sm==999.9] = np.nan\n",
        "print(sm)"
      ],
      "metadata": {
        "colab": {
          "base_uri": "https://localhost:8080/"
        },
        "id": "aEMV0jChFDOo",
        "outputId": "92729dde-d4cb-4642-dba8-429e101012d2"
      },
      "execution_count": null,
      "outputs": [
        {
          "output_type": "stream",
          "name": "stdout",
          "text": [
            "[12.6  nan 13.2 ... 12.1 12.7 12.8]\n"
          ]
        }
      ]
    },
    {
      "cell_type": "markdown",
      "source": [
        "Now the soil moisture data has nan instead of 999.9 to denote missing values. We will write this soil moisture data into xls file using xlwt library. First we open a workbook, then we add a sheet by name using add_sheet. After this we start writing entries cell by cell. Finally, we save the worksheet using book.save."
      ],
      "metadata": {
        "id": "vVoebZ5DFUFO"
      }
    },
    {
      "cell_type": "code",
      "source": [
        "import xlwt\n",
        "\n",
        "fname = \"/content/gdrive/My Drive/Colab Notebooks/LearnPython/data/data1.xls\"\n",
        "\n",
        "book = xlwt.Workbook()\n",
        "sheet = book.add_sheet('Ascending')\n",
        "sheet.write(0,0, 'Year')\n",
        "sheet.write(0,1, 'Month')\n",
        "sheet.write(0,2, 'Day')\n",
        "sheet.write(0,3, 'Latitude')\n",
        "sheet.write(1,3, 'Longitude')\n",
        "\n",
        "for i in range(len(sm)):\n",
        "  sheet.write(i+2, 4, sm[i])\n",
        "  sheet.write(i+2, 0, int(year[i]))\n",
        "  sheet.write(i+2, 1, int(month[i]))\n",
        "  sheet.write(i+2, 2, int(day[i]))\n",
        "  book.save(fname)"
      ],
      "metadata": {
        "id": "326zBKMYFdD9"
      },
      "execution_count": null,
      "outputs": []
    },
    {
      "cell_type": "markdown",
      "source": [
        "You can open the output xls file in Excel (or similar tool) and check the written output.\n",
        "\n",
        "I have written a library ambhas.xls which provides relatively easy way to read and write the xls data. Library is reproduced below for easy use."
      ],
      "metadata": {
        "id": "l8lXIzEcGdsC"
      }
    },
    {
      "cell_type": "code",
      "source": [
        "import numpy as np\n",
        "import os\n",
        "\n",
        "class xlsread():\n",
        "    \"\"\"\n",
        "    A class to read data from xls file\n",
        "    based on the 'xlrd'\n",
        "    \n",
        "    Example:\n",
        "            fname = '/home/tomer/rain_projection/raw_data/a2_0.5.xls'\n",
        "            foo = xlsread(fname)\n",
        "            var = foo.get_cells('a3:a5', 'Sheet1')\n",
        "    \"\"\"\n",
        "    \n",
        "    def __init__(self, fname):\n",
        "        self.fname = fname\n",
        "        book = xlrd.open_workbook(self.fname)\n",
        "        self.sheet_names = book.sheet_names()\n",
        "        self.book = book\n",
        "                \n",
        "    def get_cells(self, cell_range, sheet, dtype='nparray'):\n",
        "        \"\"\"\n",
        "        cell_range: a single cell i.e. 'a2'\n",
        "                    range of cells i.e. 'a2:f5'\n",
        "        sheet:  name of the sheet, must be string\n",
        "        dtype: datatype\n",
        "               nparray --> numpy array (default)\n",
        "               list --> a list \n",
        "        \"\"\"\n",
        "        book = self.book\n",
        "        sheet = book.sheet_by_name(sheet)\n",
        "        \n",
        "        if ':' not in cell_range:\n",
        "            foo1 = cell_range\n",
        "            row,col = self.__cell2ind__(foo1)\n",
        "            data = sheet.cell_value(row,col)\n",
        "        else:\n",
        "            foo1, foo2 = cell_range.split(':')\n",
        "            row1,col1 = self.__cell2ind__(foo1)\n",
        "            row2,col2 = self.__cell2ind__(foo2)\n",
        "            \n",
        "            if row2<row1:\n",
        "                raise Exception('row_start should be <= row_end')\n",
        "            if col2<col1:\n",
        "                raise Exception('col_start should be <= col_end')\n",
        "            \n",
        "            data = []\n",
        "            for i in range(row1,row2+1):\n",
        "                data_row = []\n",
        "                for j in range(col1,col2+1):\n",
        "                    if sheet.cell_value(i,j): # test if the cell is empty\n",
        "                        data_row.append(sheet.cell_value(i,j))\n",
        "                    else: \n",
        "                        if sheet.cell_value(i,j) == 0:\n",
        "                            # if the cell is zero fill with zeros\n",
        "                            data_row.append(sheet.cell_value(i,j))\n",
        "                        else:\n",
        "                            # if cell is empty fill with nan\n",
        "                            data_row.append(np.nan)\n",
        "                    \n",
        "                data.append(data_row)\n",
        "        \n",
        "        if dtype == 'nparray':\n",
        "            data = np.array(data)\n",
        "        elif dtype == 'list':\n",
        "            pass\n",
        "        else:\n",
        "            raise Exception('value error in dtype')\n",
        "            \n",
        "        return data\n",
        "\n",
        "    def __cell2ind__(self,foo):\n",
        "        \"\"\"\n",
        "        given the cell number i.e. (AA100)\n",
        "        returns the row and column of cell in indices format i.e. 0, 10\n",
        "        \"\"\"\n",
        "        \n",
        "        # if the column is less than Z\n",
        "        foo_str = foo[0].lower()\n",
        "        col = ord(foo_str)-ord('a')\n",
        "        \n",
        "        # if the column is more than Z, i.e. AA\n",
        "        try:\n",
        "            row = int(foo[1:])-1\n",
        "        except:\n",
        "            row = int(foo[2:])-1\n",
        "            foo_str = foo[1].lower()\n",
        "            col = (col+1)*26+ ord(foo_str)-ord('a')\n",
        "        \n",
        "        return row, col\n",
        "\n",
        "class xlswrite():\n",
        "    \"\"\"\n",
        "    This saves the array in xls format\n",
        "\n",
        "    Example:\n",
        "    var = np.array([[5,10,12],[2,5,6]])\n",
        "    xls_out_file = xlswrite(var, 'f10', 'Sheet1')\n",
        "    fname = '/home/tomer/data.xls'\n",
        "    xls_out_file.save(fname)\n",
        "    \"\"\"\n",
        "    \n",
        "    def __init__(self, data, cell_start, sheet):\n",
        "        self.data = data\n",
        "        self.cell_start = cell_start\n",
        "        \n",
        "        # initialize the xlwt     \n",
        "        book = xlwt.Workbook()\n",
        "        sheet = book.add_sheet(sheet)\n",
        "        \n",
        "        # convert into row and col        \n",
        "        row, col = self.__cell2ind__(cell_start)\n",
        "        \n",
        "        if isinstance(data, str)  or isinstance(data, float) or isinstance(data,int):\n",
        "            sheet.write(row,col,data)\n",
        "                \n",
        "        if data.ndim == 1:\n",
        "            for i in range(data.shape[0]):\n",
        "                sheet.write(row+i,col, data[i])\n",
        "                \n",
        "        else:\n",
        "            for i in range(data.shape[0]):\n",
        "                for j in range(data.shape[1]):\n",
        "                    sheet.write(row+i, col+j, data[i,j])\n",
        "        \n",
        "        self.book = book\n",
        "    \n",
        "    def save(self, fname):\n",
        "        self.book.save(fname)\n",
        "    \n",
        "    def __cell2ind__(self, foo):\n",
        "        \"\"\"\n",
        "        given the cell number i.e. (AA100)\n",
        "        returns the row and column of cell in indices format i.e. 0,10\n",
        "        \"\"\"\n",
        "        \n",
        "        # if the column is less than Z\n",
        "        foo_str = foo[0].lower()\n",
        "        col = ord(foo_str)-ord('a')\n",
        "        \n",
        "        # if the column is more than Z, i.e. AA\n",
        "        try:\n",
        "            row = int(foo[1:])-1\n",
        "        except:\n",
        "            row = int(foo[2:])-1\n",
        "            foo_str = foo[1].lower()\n",
        "            col = (col+1)*26+ ord(foo_str)-ord('a')\n",
        "        \n",
        "        return row,col\n",
        "\n",
        "class xlswrite2(xlswrite):\n",
        "    \"\"\"\n",
        "    This saves the array in xls format\n",
        "\n",
        "    Example:\n",
        "    var = np.array([[5,10,12],[2,5,6]])\n",
        "    fname = '/home/tomer/data.xls'    \n",
        "    xls_out_file = xlswrite2(fname)\n",
        "    xls_out_file.write(var, 'f10', 'Sheet1')\n",
        "    xls_out_file.save()\n",
        "    \"\"\"\n",
        "    \n",
        "    def __init__(self, fname):\n",
        "        self.fname = fname\n",
        "                \n",
        "        # initialize the xlwt     \n",
        "        self.book = xlwt.Workbook()\n",
        "        self.sheet_names = []\n",
        "    \n",
        "    def write(self, data, cell_start, sheet, dates=False, orientation='row'):\n",
        "        \"\"\"\n",
        "        Input:\n",
        "            orientation: {row,col}\n",
        "        \"\"\"\n",
        "        book = self.book\n",
        "\n",
        "        if dates:\n",
        "            xf = xlwt.easyxf(num_format_str='DD/MM/YYYY')\n",
        "\n",
        "        if sheet not in self.sheet_names:\n",
        "            worksheet = book.add_sheet(sheet)\n",
        "            self.sheet_names.append(sheet)\n",
        "        else:\n",
        "            worksheet = book.get_sheet(self.sheet_names.index(sheet))\n",
        "\n",
        "\n",
        "        # convert into row and col        \n",
        "        row, col = self.__cell2ind__(cell_start)\n",
        "\n",
        "        if isinstance(data, str)  or isinstance(data, float) or isinstance(data,int):\n",
        "            self._write_cell(worksheet, row, col, data, dates)\n",
        "\n",
        "        elif isinstance(data, np.ndarray):\n",
        "            if data.ndim == 1:\n",
        "                for i in range(data.shape[0]):\n",
        "                    self._write_cell(worksheet, row+i, col, data[i], dates)\n",
        "            else:\n",
        "                for i in range(data.shape[0]):\n",
        "                    for j in range(data.shape[1]):\n",
        "                        self._write_cell(worksheet, row+i, col+j, data[i,j], dates)\n",
        "\n",
        "        elif isinstance(data, list):\n",
        "            for i in range(len(data)):\n",
        "                if orientation == 'row':\n",
        "                    self._write_cell(worksheet, row+i, col, data[i], dates)\n",
        "                elif orientation == 'col':\n",
        "                    self._write_cell(worksheet, row, col+i, data[i], dates)\n",
        "                else:\n",
        "                    print(\"Orientation has to be either 'row' or 'col' \")\n",
        "\n",
        "    def _write_cell(self, worksheet, row_cell, col_cell, data_cell, dates):\n",
        "        if dates:\n",
        "            xf = xlwt.easyxf(num_format_str='DD/MM/YYYY')\n",
        "            worksheet.write(row_cell, col_cell, data_cell, xf)\n",
        "        else:\n",
        "            worksheet.write(row_cell, col_cell, data_cell)\n",
        "\n",
        "    def save(self):\n",
        "        self.book.save(self.fname)"
      ],
      "metadata": {
        "id": "jB3IBrSFHAFu"
      },
      "execution_count": null,
      "outputs": []
    },
    {
      "cell_type": "markdown",
      "source": [
        "Let us use *xlsread* Class defined above to read the data from *xls* file in the following way."
      ],
      "metadata": {
        "id": "wwmhySn_Han6"
      }
    },
    {
      "cell_type": "code",
      "source": [
        "fname = \"/content/gdrive/My Drive/Colab Notebooks/LearnPython/data/data.xls\"\n",
        "foo = xlsread(fname)\n",
        "data = foo.get_cells('a3:a5', 'Ascending')\n",
        "print(data)"
      ],
      "metadata": {
        "colab": {
          "base_uri": "https://localhost:8080/"
        },
        "id": "uZ1gudnyH7ju",
        "outputId": "250767f2-62b8-4a66-e049-5626b69bc4fc"
      },
      "execution_count": null,
      "outputs": [
        {
          "output_type": "stream",
          "name": "stdout",
          "text": [
            "[[2007.]\n",
            " [2008.]\n",
            " [2008.]]\n"
          ]
        }
      ]
    },
    {
      "cell_type": "markdown",
      "source": [
        "The data to xls file is written in the following way. The data which is written should be a numpy array."
      ],
      "metadata": {
        "id": "lCCcMFgeIReD"
      }
    },
    {
      "cell_type": "code",
      "source": [
        "fname = \"/content/gdrive/My Drive/Colab Notebooks/LearnPython/data/data2.xls\"\n",
        "\n",
        "foo = xlswrite(data, 'a3', 'Ascending')\n",
        "foo.save(fname)"
      ],
      "metadata": {
        "id": "IQliBek-IUfh"
      },
      "execution_count": null,
      "outputs": []
    },
    {
      "cell_type": "markdown",
      "source": [
        "As this library depends upon the xlrd, it also does not read xlsx data file, and you should convert the xlsx type of file into xls before reading."
      ],
      "metadata": {
        "id": "jbapfX0MIgID"
      }
    }
  ]
}