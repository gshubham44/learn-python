{
  "nbformat": 4,
  "nbformat_minor": 0,
  "metadata": {
    "colab": {
      "provenance": [],
      "authorship_tag": "ABX9TyPo97bDgaCN+vLg4+C76YpC",
      "include_colab_link": true
    },
    "kernelspec": {
      "name": "python3",
      "display_name": "Python 3"
    },
    "language_info": {
      "name": "python"
    }
  },
  "cells": [
    {
      "cell_type": "markdown",
      "metadata": {
        "id": "view-in-github",
        "colab_type": "text"
      },
      "source": [
        "<a href=\"https://colab.research.google.com/github/tomersk/learn-python/blob/main/06_09.ipynb\" target=\"_parent\"><img src=\"https://colab.research.google.com/assets/colab-badge.svg\" alt=\"Open In Colab\"/></a>"
      ]
    },
    {
      "cell_type": "markdown",
      "source": [
        "## 6.9 Raster and vector operations\n",
        "\n",
        "So far we studied the use of raster and vector seperately. However, in reality, we need to combine both for our work. Let us do some commonly used combined operations on our data.\n",
        "\n",
        "We will begin by extracting the raster data at few point locations. Let us first compute NDVI on the same dataset used in the previous section. Let us first install *rasterio* library."
      ],
      "metadata": {
        "id": "2o_YSicNWrpM"
      }
    },
    {
      "cell_type": "code",
      "source": [
        "!pip install rasterio #install the required library for this section"
      ],
      "metadata": {
        "colab": {
          "base_uri": "https://localhost:8080/"
        },
        "id": "fXJtlmh4bvMr",
        "outputId": "b2a483b0-9179-421f-c2ee-fc75cbaba5ba"
      },
      "execution_count": 9,
      "outputs": [
        {
          "output_type": "stream",
          "name": "stdout",
          "text": [
            "Looking in indexes: https://pypi.org/simple, https://us-python.pkg.dev/colab-wheels/public/simple/\n",
            "Collecting rasterio\n",
            "  Downloading rasterio-1.2.10-cp37-cp37m-manylinux1_x86_64.whl (19.3 MB)\n",
            "\u001b[K     |████████████████████████████████| 19.3 MB 367 kB/s \n",
            "\u001b[?25hCollecting click-plugins\n",
            "  Downloading click_plugins-1.1.1-py2.py3-none-any.whl (7.5 kB)\n",
            "Collecting cligj>=0.5\n",
            "  Downloading cligj-0.7.2-py3-none-any.whl (7.1 kB)\n",
            "Collecting affine\n",
            "  Downloading affine-2.3.1-py2.py3-none-any.whl (16 kB)\n",
            "Requirement already satisfied: certifi in /usr/local/lib/python3.7/dist-packages (from rasterio) (2022.6.15)\n",
            "Requirement already satisfied: attrs in /usr/local/lib/python3.7/dist-packages (from rasterio) (22.1.0)\n",
            "Requirement already satisfied: numpy in /usr/local/lib/python3.7/dist-packages (from rasterio) (1.21.6)\n",
            "Requirement already satisfied: setuptools in /usr/local/lib/python3.7/dist-packages (from rasterio) (57.4.0)\n",
            "Requirement already satisfied: click>=4.0 in /usr/local/lib/python3.7/dist-packages (from rasterio) (7.1.2)\n",
            "Collecting snuggs>=1.4.1\n",
            "  Downloading snuggs-1.4.7-py3-none-any.whl (5.4 kB)\n",
            "Requirement already satisfied: pyparsing>=2.1.6 in /usr/local/lib/python3.7/dist-packages (from snuggs>=1.4.1->rasterio) (3.0.9)\n",
            "Installing collected packages: snuggs, cligj, click-plugins, affine, rasterio\n",
            "Successfully installed affine-2.3.1 click-plugins-1.1.1 cligj-0.7.2 rasterio-1.2.10 snuggs-1.4.7\n"
          ]
        }
      ]
    },
    {
      "cell_type": "markdown",
      "source": [
        "### 6.9.1 Extracting the data from a raster"
      ],
      "metadata": {
        "id": "9aR_ylaUiMvm"
      }
    },
    {
      "cell_type": "code",
      "execution_count": 10,
      "metadata": {
        "colab": {
          "base_uri": "https://localhost:8080/"
        },
        "id": "SbS94qOqWqT6",
        "outputId": "41f71866-1e8c-4fcc-f764-a5e2fca0a2b6"
      },
      "outputs": [
        {
          "output_type": "stream",
          "name": "stdout",
          "text": [
            "Drive already mounted at /content/gdrive; to attempt to forcibly remount, call drive.mount(\"/content/gdrive\", force_remount=True).\n",
            "<open DatasetReader name='/content/gdrive/My Drive/Colab Notebooks/LearnPython/data/ndvi.tif' mode='r'>\n"
          ]
        }
      ],
      "source": [
        "# import the required library\n",
        "import matplotlib.pyplot as plt\n",
        "from google.colab import drive\n",
        "import rasterio\n",
        "\n",
        "drive.mount('/content/gdrive')\n",
        "\n",
        "# read the ndvi data\n",
        "file_name = \"/content/gdrive/My Drive/Colab Notebooks/LearnPython/data/ndvi.tif\"\n",
        "src = rasterio.open(file_name)"
      ]
    },
    {
      "cell_type": "markdown",
      "source": [
        "Let us generate some random coordinates to extract the data. Remember the coordinates should follow the same projection. Please note that here we are generating random location, in a real life case, you might be having location of your interest to extract the data."
      ],
      "metadata": {
        "id": "2OWco44xXqrk"
      }
    },
    {
      "cell_type": "code",
      "source": [
        "import numpy as np\n",
        "\n",
        "print(src.bounds)\n",
        "xmin = src.bounds[0]\n",
        "ymin = src.bounds[1]\n",
        "xmax = src.bounds[2]\n",
        "ymax = src.bounds[3]\n",
        "\n",
        "coord_x = xmin + (xmax-xmin)*np.random.rand(50) # This is longitude\n",
        "coord_y = ymin + (ymax-ymin)*np.random.rand(50) # This is latitude\n",
        "\n",
        "plt.scatter(coord_x, coord_y)\n",
        "plt.show()"
      ],
      "metadata": {
        "colab": {
          "base_uri": "https://localhost:8080/",
          "height": 283
        },
        "id": "fcfk-xLTX9mQ",
        "outputId": "ce31449e-d015-4b2e-c177-75b795ef190b"
      },
      "execution_count": 17,
      "outputs": [
        {
          "output_type": "stream",
          "name": "stdout",
          "text": [
            "BoundingBox(left=76.5, bottom=11.7, right=76.7, top=11.85)\n"
          ]
        },
        {
          "output_type": "display_data",
          "data": {
            "text/plain": [
              "<Figure size 432x288 with 1 Axes>"
            ],
            "image/png": "[encoded data removed]"
          },
          "metadata": {
            "needs_background": "light"
          }
        }
      ]
    },
    {
      "cell_type": "markdown",
      "source": [
        "We will be using *rasterio*'s *index* function to convert our xy (longitude and latitude) into row and column for the raster and then extract values."
      ],
      "metadata": {
        "id": "vbdXXDLcgEhL"
      }
    },
    {
      "cell_type": "code",
      "source": [
        "ndvi_sample = np.empty(len(coord_x),)\n",
        "for i in range(len(ndvi_sample)):\n",
        "    x = coord_x[i]\n",
        "    y = coord_y[i]\n",
        "    row, col = src.index(x,y)\n",
        "    ndvi_sample[i] = src.read(1)[row,col]\n",
        "\n",
        "print(ndvi_sample)"
      ],
      "metadata": {
        "colab": {
          "base_uri": "https://localhost:8080/"
        },
        "id": "fpXngjTdaOzr",
        "outputId": "fcfe7a1b-23a6-40e2-c8a8-e0d14002c45e"
      },
      "execution_count": 32,
      "outputs": [
        {
          "output_type": "stream",
          "name": "stdout",
          "text": [
            "[0.47435898 0.39726028 0.48453608 0.41968912 0.45454547 0.36263737\n",
            " 0.43209878 0.48453608 0.17127071 0.48387095 0.2923077  0.49685535\n",
            " 0.34065935 0.44680852 0.2596685  0.15625    0.43589744 0.25106382\n",
            " 0.5        0.54146343 0.49685535 0.45333335 0.47222221 0.21052632\n",
            " 0.49044585 0.31753555 0.32075471 0.33953488 0.53374231 0.47019866\n",
            " 0.47169811 0.48427674 0.34210527 0.33673468 0.4556213  0.17171717\n",
            " 0.47712418 0.63470322 0.25242719 0.17647059 0.19266056 0.47826087\n",
            " 0.503268   0.27472529 0.43181819 0.43023255 0.31578946 0.50943398\n",
            " 0.17171717 0.39712918]\n"
          ]
        }
      ]
    },
    {
      "cell_type": "markdown",
      "source": [
        "### 6.9.2 Clipping\n",
        "(need a shapefile to clip)\n",
        "Clip a raster\n"
      ],
      "metadata": {
        "id": "xkh8NakhXMgm"
      }
    }
  ]
}