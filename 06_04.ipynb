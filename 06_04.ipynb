{
  "nbformat": 4,
  "nbformat_minor": 0,
  "metadata": {
    "colab": {
      "provenance": [],
      "authorship_tag": "ABX9TyPVp11yldKCPewDqXZkKiVT",
      "include_colab_link": true
    },
    "kernelspec": {
      "name": "python3",
      "display_name": "Python 3"
    },
    "language_info": {
      "name": "python"
    }
  },
  "cells": [
    {
      "cell_type": "markdown",
      "metadata": {
        "id": "view-in-github",
        "colab_type": "text"
      },
      "source": [
        "<a href=\"https://colab.research.google.com/github/tomersk/learn-python/blob/main/06_04.ipynb\" target=\"_parent\"><img src=\"https://colab.research.google.com/assets/colab-badge.svg\" alt=\"Open In Colab\"/></a>"
      ]
    },
    {
      "cell_type": "markdown",
      "source": [
        "## 6.4 Writing Vector\n",
        "Shapefile (.shp) format is quiet commonly used type of vector data. Let us write one shapefile. To write shapefile, we will be using the package ogr. OGR is a part of the GDAL library. OGR deals with the vector formats, while GDAL main library is for raster formats. A list of format supported by OGR along with their code name to be used while creating driver, is given at http://www.gdal.org/ogr/ogr_formats.html. Let us say, we want to make a shapefile having location of the four cities and their name. The details of cities are as:\n",
        "\n",
        "\n",
        "Name       Latitude   Longitude\n",
        "Bijnor     29.4        78.1\n",
        "Delhi      28.6        77.2\n",
        "Bangalore  13.0        77.8\n",
        "Berambadi  11.8        76.6\n",
        "\n",
        "We begin with importing ogr library and defining the location and names of the cities."
      ],
      "metadata": {
        "id": "J5Rdo-5CeshK"
      }
    },
    {
      "cell_type": "code",
      "source": [
        "import ogr\n",
        "lat = [29.4,28.6,13.0,11.8]\n",
        "lon = [78.1,77.2,77.8,76.6]\n",
        "name = ['Bijnor', 'Delhi', 'Bangalore', 'Berambadi']"
      ],
      "metadata": {
        "id": "Lv_e4CA2hR_X"
      },
      "execution_count": 2,
      "outputs": []
    },
    {
      "cell_type": "markdown",
      "source": [
        "Now, we define the name of driver (ESRI Shapefile), and create the data source.\n",
        "driver.CrateDataSource defines the name of the folder where data will be saved.\n",
        "ds.CreateLayer defines the name of the shapefile along with the geometry type (point in this\n",
        "case). Then we define, field name as ’Name’ and say that it is a string type having a maximum width of 16."
      ],
      "metadata": {
        "id": "siAdriyBfhor"
      }
    },
    {
      "cell_type": "code",
      "source": [
        "from google.colab import drive\n",
        "import ogr\n",
        "\n",
        "#drive.mount('/content/gdrive')\n",
        "\n",
        "driver = ogr.GetDriverByName(\"ESRI Shapefile\")\n",
        "data_dir = \"/content/gdrive/My Drive/Colab Notebooks/LearnPython/data/\"\n",
        "ds = driver.CreateDataSource(data_dir)\n",
        "layer = ds.CreateLayer('location', geom_type=ogr.wkbPoint)\n",
        "field_defn = ogr.FieldDefn('Name', ogr.OFTString )\n",
        "field_defn.SetWidth(16)\n",
        "print(layer)\n",
        "layer.CreateField(field_defn)"
      ],
      "metadata": {
        "colab": {
          "base_uri": "https://localhost:8080/",
          "height": 222
        },
        "id": "T2ffsV03iAQG",
        "outputId": "ef5468b1-109d-448d-fb3b-8af41e0032c2"
      },
      "execution_count": 5,
      "outputs": [
        {
          "output_type": "stream",
          "name": "stdout",
          "text": [
            "None\n"
          ]
        },
        {
          "output_type": "error",
          "ename": "AttributeError",
          "evalue": "ignored",
          "traceback": [
            "\u001b[0;31m---------------------------------------------------------------------------\u001b[0m",
            "\u001b[0;31mAttributeError\u001b[0m                            Traceback (most recent call last)",
            "\u001b[0;32m<ipython-input-5-098b5fc54c81>\u001b[0m in \u001b[0;36m<module>\u001b[0;34m\u001b[0m\n\u001b[1;32m     11\u001b[0m \u001b[0mfield_defn\u001b[0m\u001b[0;34m.\u001b[0m\u001b[0mSetWidth\u001b[0m\u001b[0;34m(\u001b[0m\u001b[0;36m16\u001b[0m\u001b[0;34m)\u001b[0m\u001b[0;34m\u001b[0m\u001b[0;34m\u001b[0m\u001b[0m\n\u001b[1;32m     12\u001b[0m \u001b[0mprint\u001b[0m\u001b[0;34m(\u001b[0m\u001b[0mlayer\u001b[0m\u001b[0;34m)\u001b[0m\u001b[0;34m\u001b[0m\u001b[0;34m\u001b[0m\u001b[0m\n\u001b[0;32m---> 13\u001b[0;31m \u001b[0mlayer\u001b[0m\u001b[0;34m.\u001b[0m\u001b[0mCreateField\u001b[0m\u001b[0;34m(\u001b[0m\u001b[0mfield_defn\u001b[0m\u001b[0;34m)\u001b[0m\u001b[0;34m\u001b[0m\u001b[0;34m\u001b[0m\u001b[0m\n\u001b[0m",
            "\u001b[0;31mAttributeError\u001b[0m: 'NoneType' object has no attribute 'CreateField'"
          ]
        }
      ]
    },
    {
      "cell_type": "markdown",
      "source": [
        "Now, we have the basic information ready, and we can start adding the information about cities\n",
        "(name and location). First we create a feature to store the information about city. Then, we add the\n",
        "name of the city in the ’Name’ field. After this, we say that it is point type, and we add its longitude\n",
        "and latitude. At last, we destroy the feature and data source, so that nothing else can be done with\n",
        "them, and our data is saved properly."
      ],
      "metadata": {
        "id": "Bgtg7haiiRmc"
      }
    },
    {
      "cell_type": "code",
      "source": [
        "i = 0\n",
        "for i in range(len(name)):\n",
        "  feature = ogr.Feature(layer.GetLayerDefn())\n",
        "  feature.SetField('Name', name[i])\n",
        "  pt = ogr.Geometry(ogr.wkbPoint)\n",
        "  pt.SetPoint_2D(0, lon[i], lat[i])\n",
        "  feature.SetGeometry(pt)\n",
        "  layer.CreateFeature(feature)\n",
        "  feature.Destroy()\n",
        "  ds.Destroy()"
      ],
      "metadata": {
        "colab": {
          "base_uri": "https://localhost:8080/",
          "height": 240
        },
        "id": "v5oa0hTKiUJ-",
        "outputId": "1ba2bfab-60c7-41fb-ca1a-8c0b8a76a52c"
      },
      "execution_count": 3,
      "outputs": [
        {
          "output_type": "error",
          "ename": "NameError",
          "evalue": "ignored",
          "traceback": [
            "\u001b[0;31m---------------------------------------------------------------------------\u001b[0m",
            "\u001b[0;31mNameError\u001b[0m                                 Traceback (most recent call last)",
            "\u001b[0;32m<ipython-input-3-e7434d0b7fa6>\u001b[0m in \u001b[0;36m<module>\u001b[0;34m\u001b[0m\n\u001b[1;32m      1\u001b[0m \u001b[0mi\u001b[0m \u001b[0;34m=\u001b[0m \u001b[0;36m0\u001b[0m\u001b[0;34m\u001b[0m\u001b[0;34m\u001b[0m\u001b[0m\n\u001b[1;32m      2\u001b[0m \u001b[0;32mfor\u001b[0m \u001b[0mi\u001b[0m \u001b[0;32min\u001b[0m \u001b[0mrange\u001b[0m\u001b[0;34m(\u001b[0m\u001b[0mlen\u001b[0m\u001b[0;34m(\u001b[0m\u001b[0mname\u001b[0m\u001b[0;34m)\u001b[0m\u001b[0;34m)\u001b[0m\u001b[0;34m:\u001b[0m\u001b[0;34m\u001b[0m\u001b[0;34m\u001b[0m\u001b[0m\n\u001b[0;32m----> 3\u001b[0;31m   \u001b[0mfeature\u001b[0m \u001b[0;34m=\u001b[0m \u001b[0mogr\u001b[0m\u001b[0;34m.\u001b[0m\u001b[0mFeature\u001b[0m\u001b[0;34m(\u001b[0m\u001b[0mlayer\u001b[0m\u001b[0;34m.\u001b[0m\u001b[0mGetLayerDefn\u001b[0m\u001b[0;34m(\u001b[0m\u001b[0;34m)\u001b[0m\u001b[0;34m)\u001b[0m\u001b[0;34m\u001b[0m\u001b[0;34m\u001b[0m\u001b[0m\n\u001b[0m\u001b[1;32m      4\u001b[0m   \u001b[0mfeature\u001b[0m\u001b[0;34m.\u001b[0m\u001b[0mSetField\u001b[0m\u001b[0;34m(\u001b[0m\u001b[0;34m'Name'\u001b[0m\u001b[0;34m,\u001b[0m \u001b[0mname\u001b[0m\u001b[0;34m[\u001b[0m\u001b[0mi\u001b[0m\u001b[0;34m]\u001b[0m\u001b[0;34m)\u001b[0m\u001b[0;34m\u001b[0m\u001b[0;34m\u001b[0m\u001b[0m\n\u001b[1;32m      5\u001b[0m   \u001b[0mprint\u001b[0m\u001b[0;34m(\u001b[0m\u001b[0mfeature\u001b[0m\u001b[0;34m)\u001b[0m\u001b[0;34m\u001b[0m\u001b[0;34m\u001b[0m\u001b[0m\n",
            "\u001b[0;31mNameError\u001b[0m: name 'layer' is not defined"
          ]
        }
      ]
    },
    {
      "cell_type": "markdown",
      "source": [
        "Our vector file (shapefile) is saved and can be visualized in any GIS tool, or we can use in Python also which we wil learn later."
      ],
      "metadata": {
        "id": "3NLKlVkiL8-k"
      }
    }
  ]
}