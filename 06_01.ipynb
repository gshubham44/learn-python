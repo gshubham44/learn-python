{
  "nbformat": 4,
  "nbformat_minor": 0,
  "metadata": {
    "colab": {
      "provenance": [],
      "authorship_tag": "ABX9TyOHhUrmyi9m9oKucBgIwVj/",
      "include_colab_link": true
    },
    "kernelspec": {
      "name": "python3",
      "display_name": "Python 3"
    },
    "language_info": {
      "name": "python"
    }
  },
  "cells": [
    {
      "cell_type": "markdown",
      "metadata": {
        "id": "view-in-github",
        "colab_type": "text"
      },
      "source": [
        "<a href=\"https://colab.research.google.com/github/tomersk/learn-python/blob/main/06_01.ipynb\" target=\"_parent\"><img src=\"https://colab.research.google.com/assets/colab-badge.svg\" alt=\"Open In Colab\"/></a>"
      ]
    },
    {
      "cell_type": "markdown",
      "source": [
        "# 6 Spatial Data\n",
        "\n",
        "## 6.1 Types of spatial data\n",
        "Raster and vector are the two basic data structures for storing and manipulating images and graphics\n",
        "data in GIS (Geographic Information Systems). Raster image comes in the form of individual\n",
        "pixels, and each spatial location or resolution element has a pixel associated where the pixel value\n",
        "indicates the attribute, such as color, elevation, or an ID number. Vector data comes in the form of\n",
        "points and lines, that are geometrically and mathematically associated. Points are stored using the\n",
        "coordinates, for example, a two-dimensional point is stored as ($x$, $y$). Lines are stored as a series of\n",
        "point pairs, where each pair represents a straight line segment, for example, ($x_1$, $y_1$) and ($x_2$, $y_2$)\n",
        "indicating a line from ($x_1$, $y_1$) to ($x_2$, $y_2$).\n",
        "We will create some raster data using some mathematical function, and then also add noise into\n",
        "it. We will keep both the data (with noise, and without noise) for future use. *np.mgrid* is used to create gridded points. The data is plotted using *plt.matshow* function, which is a simple function to visualize a two dimensional array. Below figures show the data without and with noise. The data without noise shows a systematic behaviour, while it is blurred\n",
        "in the data added with noise."
      ],
      "metadata": {
        "id": "TpmvwiEgMwjF"
      }
    },
    {
      "cell_type": "code",
      "source": [
        "import numpy as np\n",
        "# generate some synthetic data\n",
        "X, Y = np.mgrid[0:101, 0:101]\n",
        "data = np.sin((X**2 + Y**2)/25)\n",
        "data_noisy = data + np.random.random(X.shape)\n",
        "\n",
        "# plot the data\n",
        "plt.matshow(data)\n",
        "plt.colorbar()\n",
        "plt.title(\"Synthetic data without noise\")\n",
        "plt.show()\n",
        "\n",
        "plt.matshow(data_noisy)\n",
        "plt.colorbar(shrink=0.5)\n",
        "plt.title(\"Synthetic data perturbed with noise\")\n",
        "plt.show()"
      ],
      "metadata": {
        "id": "ksul51FJNUuf"
      },
      "execution_count": null,
      "outputs": []
    },
    {
      "cell_type": "markdown",
      "source": [
        "We can also generate a vector data with using some points. Below figure shows the vector data."
      ],
      "metadata": {
        "id": "_xqxlCDwNrad"
      }
    },
    {
      "cell_type": "code",
      "source": [
        "# vector data\n",
        "vector_x = [10,7,24,16,15,10]\n",
        "vector_y = [10,23,20,14,7,10]\n",
        "\n",
        "#plot vector data\n",
        "plt.plot(vector_x, vector_y)\n",
        "plt.axis((5,25,5,25))\n",
        "plt.show()"
      ],
      "metadata": {
        "id": "7FqEscjxOIYb"
      },
      "execution_count": null,
      "outputs": []
    },
    {
      "cell_type": "markdown",
      "source": [
        "The geospatial data can be classified into two major parts. In the first part we have information about some feature, like a two dimensional array showing the spatial variation in elevation etc. In the second part, we have information about the co-ordinates of the data. A typical processing chain\n",
        "for geo-spatial data is given in below flow chart. We have the geospatial data, and we extract the feature information and co-ordinate information separately, then we process them separately, and finally after processing we again combine them. The processing for feature information could be some\n",
        "mathematical operation, and for co-ordinate information, it could some co-ordinate transformation etc.\n",
        "\n",
        "![Flow chart](https://drive.google.com/uc?export=view&id=1OjEnt4XYIWcemtn7dvtu2TNVIQc_68ND)"
      ],
      "metadata": {
        "id": "cwNB8anQOQ6W"
      }
    }
  ]
}