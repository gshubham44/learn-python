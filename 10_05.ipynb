{
  "nbformat": 4,
  "nbformat_minor": 0,
  "metadata": {
    "colab": {
      "provenance": [],
      "authorship_tag": "ABX9TyPVbE4jsdPyvdrOyABupbhs",
      "include_colab_link": true
    },
    "kernelspec": {
      "name": "python3",
      "display_name": "Python 3"
    },
    "language_info": {
      "name": "python"
    }
  },
  "cells": [
    {
      "cell_type": "markdown",
      "metadata": {
        "id": "view-in-github",
        "colab_type": "text"
      },
      "source": [
        "<a href=\"https://colab.research.google.com/github/tomersk/learn-python/blob/main/10_05.ipynb\" target=\"_parent\"><img src=\"https://colab.research.google.com/assets/colab-badge.svg\" alt=\"Open In Colab\"/></a>"
      ]
    },
    {
      "cell_type": "markdown",
      "source": [
        "## 10.5 PCA\n",
        "Principal component analysis (PCA) is a tool to reduce the dimensionality of the data. Sometimes few dimension have significant correlation among each other, which is to say that they share almost the same information, in such case even if we reduce such dimension, almost the same information will be preserved. We will use the *sklearn.decomposition.PCA* to perform the PCA. First we generate the data and looks at its correlation."
      ],
      "metadata": {
        "id": "YW8422xFx2Gm"
      }
    },
    {
      "cell_type": "code",
      "execution_count": 20,
      "metadata": {
        "colab": {
          "base_uri": "https://localhost:8080/",
          "height": 274
        },
        "id": "MTloL1T7xqiC",
        "outputId": "dc8e31f0-e651-4e56-bc2f-356227b9f7a3"
      },
      "outputs": [
        {
          "output_type": "stream",
          "name": "stderr",
          "text": [
            "/usr/local/lib/python3.7/dist-packages/ipykernel_launcher.py:12: RuntimeWarning: covariance is not positive-semidefinite.\n",
            "  if sys.path[0] == '':\n"
          ]
        },
        {
          "output_type": "display_data",
          "data": {
            "text/plain": [
              "<Figure size 288x288 with 2 Axes>"
            ],
            "image/png": "[encoded data removed]"
          },
          "metadata": {
            "needs_background": "light"
          }
        }
      ],
      "source": [
        "import numpy as np\n",
        "import matplotlib.pyplot as plt\n",
        "from sklearn.decomposition import PCA\n",
        "\n",
        "# change the default parameters of the plot\n",
        "params = {'font.size': 17}\n",
        "plt.rcParams.update(params)\n",
        "\n",
        "# let us generate 4 dimensional data set\n",
        "mean = 10*np.random.rand(4)\n",
        "cov = np.random.rand(4,4)\n",
        "data = np.random.multivariate_normal(mean,cov,100) \n",
        "names = ['A', 'B', 'C', 'D']\n",
        "\n",
        "plt.matshow(np.corrcoef(data.T), vmax=1, vmin=0)\n",
        "plt.colorbar(shrink=0.6)\n",
        "plt.xticks(range(4), names)\n",
        "plt.yticks(range(4), names)\n",
        "plt.show()"
      ]
    },
    {
      "cell_type": "markdown",
      "source": [
        "Above figure shows the correlation among the dimension of the data. The off diagonal correlation is non-zero, it means the PCA can reduce the dimensionality, higher the off-diagonal entries, more PCA will be able to reduce the dimensionality of the data.\n"
      ],
      "metadata": {
        "id": "zObIH1H75390"
      }
    },
    {
      "cell_type": "code",
      "source": [
        "# we perform PCA with all (4) components\n",
        "# in general we can pick up only few components depending upon the explained variance\n",
        "pca = PCA(n_components=4)\n",
        "data1 = pca.fit_transform(data)"
      ],
      "metadata": {
        "id": "6Cj0Rnco3mx3"
      },
      "execution_count": 21,
      "outputs": []
    },
    {
      "cell_type": "markdown",
      "source": [
        "We can check its correlation. Below figure shows the correlation of the scaled/new data. Off-diagonal element of the correlation matrix are zero, which means the data is orthogonal now. That is why this is also called Empirical Orthogonal Function in hydrology."
      ],
      "metadata": {
        "id": "q_tTJv8n6VQ0"
      }
    },
    {
      "cell_type": "code",
      "source": [
        "plt.matshow(np.corrcoef(data1.T), vmax=1, vmin=0)\n",
        "plt.colorbar(shrink=0.6)\n",
        "plt.xticks(range(4), names)\n",
        "plt.yticks(range(4), names)\n",
        "plt.show()"
      ],
      "metadata": {
        "colab": {
          "base_uri": "https://localhost:8080/",
          "height": 238
        },
        "id": "U7Nal3ZW6bqa",
        "outputId": "93212f76-d1f9-43ab-d8c8-0a100581e697"
      },
      "execution_count": 22,
      "outputs": [
        {
          "output_type": "display_data",
          "data": {
            "text/plain": [
              "<Figure size 288x288 with 2 Axes>"
            ],
            "image/png": "[encoded data removed]"
          },
          "metadata": {
            "needs_background": "light"
          }
        }
      ]
    },
    {
      "cell_type": "markdown",
      "source": [
        "We can look at the explained variance. Last component is explaining very small mount of variance and can be dropped without loosing much of the data."
      ],
      "metadata": {
        "id": "ykUOpMka6ry_"
      }
    },
    {
      "cell_type": "code",
      "source": [
        "data_var = pca.explained_variance_ratio_\n",
        "\n",
        "plt.bar(range(4), data_var)\n",
        "plt.ylabel(\"Variance explained\")\n",
        "plt.show()"
      ],
      "metadata": {
        "colab": {
          "base_uri": "https://localhost:8080/",
          "height": 273
        },
        "id": "5apNnKcR6uyY",
        "outputId": "9a0cb170-2ebe-4a3f-aae7-7c6fb1e345d1"
      },
      "execution_count": 26,
      "outputs": [
        {
          "output_type": "display_data",
          "data": {
            "text/plain": [
              "<Figure size 432x288 with 1 Axes>"
            ],
            "image/png": "[encoded data removed]"
          },
          "metadata": {
            "needs_background": "light"
          }
        }
      ]
    }
  ]
}