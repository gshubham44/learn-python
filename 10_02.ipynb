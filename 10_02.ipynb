{
  "nbformat": 4,
  "nbformat_minor": 0,
  "metadata": {
    "colab": {
      "provenance": [],
      "authorship_tag": "ABX9TyNisSQD/tRespIk5J7OgOda",
      "include_colab_link": true
    },
    "kernelspec": {
      "name": "python3",
      "display_name": "Python 3"
    },
    "language_info": {
      "name": "python"
    }
  },
  "cells": [
    {
      "cell_type": "markdown",
      "metadata": {
        "id": "view-in-github",
        "colab_type": "text"
      },
      "source": [
        "<a href=\"https://colab.research.google.com/github/tomersk/learn-python/blob/main/10_02.ipynb\" target=\"_parent\"><img src=\"https://colab.research.google.com/assets/colab-badge.svg\" alt=\"Open In Colab\"/></a>"
      ]
    },
    {
      "cell_type": "markdown",
      "source": [
        "## 10.2 Multivariate distribution\n",
        "So far, we have generated random variables with only univariate distribution. In this section we will be generating multivariate nominally distributed random variable by specifying the mean and covariance matrix to np.random.multivariate_normal."
      ],
      "metadata": {
        "id": "B9F0YPxOHgaD"
      }
    },
    {
      "cell_type": "code",
      "execution_count": null,
      "metadata": {
        "id": "nqfrnssVHAPk"
      },
      "outputs": [],
      "source": [
        "mean = [0,5]\n",
        "cov = [[1,0.4],[0.4,1]]\n",
        "data = np.random.multivariate_normal(mean,cov,5000)"
      ]
    },
    {
      "cell_type": "markdown",
      "source": [
        "We can check its mean and covariance."
      ],
      "metadata": {
        "id": "BtmoPSfNHn0Q"
      }
    },
    {
      "cell_type": "code",
      "source": [
        "print(data.mean(axis=0))\n",
        "print(np.corrcoef(data.T))"
      ],
      "metadata": {
        "id": "I0Dz8K6tHp0j"
      },
      "execution_count": null,
      "outputs": []
    },
    {
      "cell_type": "markdown",
      "source": [
        "We see that generated random variable had mean and covariance close to the specified input."
      ],
      "metadata": {
        "id": "FbqAxBrAHtdu"
      }
    }
  ]
}