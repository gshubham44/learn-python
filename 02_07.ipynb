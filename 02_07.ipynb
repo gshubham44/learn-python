{
  "nbformat": 4,
  "nbformat_minor": 0,
  "metadata": {
    "colab": {
      "provenance": [],
      "authorship_tag": "ABX9TyPIc1XTZIRAlG7YVNQzuVgA",
      "include_colab_link": true
    },
    "kernelspec": {
      "name": "python3",
      "display_name": "Python 3"
    },
    "language_info": {
      "name": "python"
    }
  },
  "cells": [
    {
      "cell_type": "markdown",
      "metadata": {
        "id": "view-in-github",
        "colab_type": "text"
      },
      "source": [
        "<a href=\"https://colab.research.google.com/github/tomersk/learn-python/blob/main/02_07.ipynb\" target=\"_parent\"><img src=\"https://colab.research.google.com/assets/colab-badge.svg\" alt=\"Open In Colab\"/></a>"
      ]
    },
    {
      "cell_type": "markdown",
      "source": [
        "# 2.7 Function\n",
        "\n",
        "Function is a some sequence of statements that does some processing. When you define a function,\n",
        "you specify the name and the sequence of statements. Later, you can call the function by name.\n",
        "\n",
        "There are many built in functions in the Python, and each library provides some functions. You can also specify your functions. When you need to do some task many times, it is better to define function to do that task, and later call the function. The thumb rule is that, whenever you feel to\n",
        "define one function define it."
      ],
      "metadata": {
        "id": "DJtqiSr2gqgr"
      }
    },
    {
      "cell_type": "markdown",
      "source": [
        "### 2.7.1 In-built functions\n",
        "Python has some in-built functions, some of them we have already used."
      ],
      "metadata": {
        "id": "YeDWmfxjkY9k"
      }
    },
    {
      "cell_type": "code",
      "execution_count": 2,
      "metadata": {
        "colab": {
          "base_uri": "https://localhost:8080/"
        },
        "id": "kh9oIcDGe9WA",
        "outputId": "6d3d2aad-9d2a-4086-b490-76bfeeed9ff5"
      },
      "outputs": [
        {
          "output_type": "stream",
          "name": "stdout",
          "text": [
            "<class 'list'>\n",
            "7\n",
            "14\n"
          ]
        }
      ],
      "source": [
        "foo = [5, -11, 14, 0, -6, 0, 8] # define an array\n",
        "print(type(foo))\n",
        "print(len(foo))\n",
        "print(max(foo))"
      ]
    },
    {
      "cell_type": "markdown",
      "source": [
        "Here, *type*, *len*, and *max* are in-built functions, which returns the type, length of the list, and maximum\n",
        "value in the list, respectively"
      ],
      "metadata": {
        "id": "S4RrTqkEtGZq"
      }
    },
    {
      "cell_type": "markdown",
      "source": [
        "### 2.7.2 User defines functions\n",
        "If you do not find the function that you intent to use, you can define one. In fact, it is a good practice to define functions whenever they are needed, it increase the readability of the codes. A function definition specifies the name of a new function and the sequence of statements that execute when the function is called. Suppose, you want to define a function which adds the 2 into the input."
      ],
      "metadata": {
        "id": "yQgUx-k7kZk5"
      }
    },
    {
      "cell_type": "code",
      "source": [
        "def add2(temp):\n",
        "  return(temp+2)\n",
        "\n",
        "add2(5)"
      ],
      "metadata": {
        "colab": {
          "base_uri": "https://localhost:8080/"
        },
        "id": "XL4_PH11utm-",
        "outputId": "3b8c8676-8509-4f46-f6c6-762a0149959d"
      },
      "execution_count": 3,
      "outputs": [
        {
          "output_type": "execute_result",
          "data": {
            "text/plain": [
              "7"
            ]
          },
          "metadata": {},
          "execution_count": 3
        }
      ]
    },
    {
      "cell_type": "markdown",
      "source": [
        "For functions also, we need to follow the indentation. In the above function, we are using two whitespace for the indentation. When we do not use indentation, it tells Python, that now the function is completed. The *return* defines the output from the function. *return* is optional, some functions may not return anything."
      ],
      "metadata": {
        "id": "hNkvOjAbvCvB"
      }
    },
    {
      "cell_type": "code",
      "source": [
        "import numpy as np\n",
        "foo = np.array( [5, -11, 14, 0, -6, 0, 8]) # define an array\n",
        "new_foo = add2(foo)\n",
        "print(new_foo)"
      ],
      "metadata": {
        "colab": {
          "base_uri": "https://localhost:8080/"
        },
        "id": "47WrrNOAvA1b",
        "outputId": "09180b8a-5b1d-4fdf-8bfa-2af3dbfbf17e"
      },
      "execution_count": 4,
      "outputs": [
        {
          "output_type": "stream",
          "name": "stdout",
          "text": [
            "[ 7 -9 16  2 -4  2 10]\n"
          ]
        }
      ]
    },
    {
      "cell_type": "markdown",
      "source": [
        "Function can take any input type and can return any output type. Here, the input and output are numpy array. "
      ],
      "metadata": {
        "id": "fHv5bj_yvd64"
      }
    },
    {
      "cell_type": "code",
      "source": [
        "foo = [5, -11, 14, 0, -6, 0, 8] # define the array\n",
        "\n",
        "def add2(temp):\n",
        "  print(temp[-1]+2) # add 2 to only the last entry in the list\n",
        "\n",
        "print(add2(foo))\n",
        "\n",
        "new_foo = add2(foo)\n",
        "print(new_foo)"
      ],
      "metadata": {
        "colab": {
          "base_uri": "https://localhost:8080/"
        },
        "id": "DamZTqmeu6Ma",
        "outputId": "c45a2bd0-2f93-43ec-93f7-6b4c311f649d"
      },
      "execution_count": 6,
      "outputs": [
        {
          "output_type": "stream",
          "name": "stdout",
          "text": [
            "10\n",
            "None\n",
            "10\n",
            "None\n"
          ]
        }
      ]
    },
    {
      "cell_type": "markdown",
      "source": [
        "This is clear from this example that functions need not to return any values. Like in this example,\n",
        "function only print the last entry of the list after adding 2 to it, and returns none."
      ],
      "metadata": {
        "id": "nmvhYOK-kdAI"
      }
    }
  ]
}