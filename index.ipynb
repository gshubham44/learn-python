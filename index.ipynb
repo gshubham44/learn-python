{
  "nbformat": 4,
  "nbformat_minor": 0,
  "metadata": {
    "colab": {
      "provenance": [],
      "mount_file_id": "16_iC9WEqPsNm0DVlpxiWo8aJ3TrJ6ueg",
      "authorship_tag": "ABX9TyOAn+mIowIq4GQlF5EqIiEN",
      "include_colab_link": true
    },
    "kernelspec": {
      "name": "python3",
      "display_name": "Python 3"
    },
    "language_info": {
      "name": "python"
    }
  },
  "cells": [
    {
      "cell_type": "markdown",
      "metadata": {
        "id": "view-in-github",
        "colab_type": "text"
      },
      "source": [
        "<a href=\"https://colab.research.google.com/github/tomersk/learn-python/blob/main/index.ipynb\" target=\"_parent\"><img src=\"https://colab.research.google.com/assets/colab-badge.svg\" alt=\"Open In Colab\"/></a>"
      ]
    },
    {
      "cell_type": "markdown",
      "source": [
        "# Python Data Science Handbook in Agtech\n",
        "\n",
        "Version 1.0.0\n",
        "\n",
        "*Sat Kumar Tomer*"
      ],
      "metadata": {
        "id": "91ygDi8mJGca"
      }
    },
    {
      "cell_type": "markdown",
      "source": [
        "History:\n",
        "*   0.0.0: First edition of Python in Hydrology in November, 2011.\n",
        "*   0.1.0: Added sections on variogram analysis, Kriging, bias correction, and calling external commands from\n",
        "Python in January, 2012.\n",
        "*   0.2.0: Fully edited the book in June, 2013.\n",
        "*   1.0.0: Updated and moved the book to Google Colab in September, 2022.\n",
        "\n",
        "The book was originally in the form of a LATEX source code. Current version of the book is written in Google Colab. The latest source code for the book is available from https://github.com/tomersk/learn-python"
      ],
      "metadata": {
        "id": "UbLsKmQtOrSR"
      }
    },
    {
      "cell_type": "markdown",
      "source": [
        "# Table of Contents\n",
        "\n",
        "## [Preface](https://github.com/tomersk/learn-python/blob/main/00_00_preface.ipynb)\n",
        "\n",
        "## [1. Getting Started](01.00-IPython-Beyond-Normal-Python.ipynb)\n",
        "\n",
        "### [1.1 Why Python?]()\n",
        "### 1.2.\tPython Installation \n",
        "### 1.3.\tInstall additional packages \n",
        "### 1.4.\tInteractive Development Environment \n",
        "### 1.5.\tExecute the program \n",
        "### 1.6.\tType of errors \n",
        "### 1.7.\tThe first program \n",
        "\n",
        "## 2.\tA bit of Python\n",
        "### 2.1.\tData type \n",
        "### 2.2.\tData structures \n",
        "### 2.3.\tChoosing the name of variable \n",
        "### 2.4.\tOperators and operands \n",
        "### 2.5.\tExpressions \n",
        "### 2.6.\tControl Flow \n",
        "### 2.7.\tFunction \n",
        "### 2.8.\tPlotting \n",
        "\n",
        "## 3.\tArray\n",
        "### 3.1.\tGenerating sequential arrays\n",
        "### 3.2.\tUseful attributes and methods \n",
        "### 3.3.\tIndexing \n",
        "### 3.4.\tArray Manipulation\n",
        "\n",
        "## 4.\tDataframe\n",
        "### 4.1.\tIntroduction\n",
        "### 4.2.\tIndexing in Dataframe\n",
        "### 4.3.\tTime series analysis using Dataframes\n",
        "\n",
        "## 5.\tBasic applications in Hydrology\n",
        "### 5.1.\tIntroduction \n",
        "### 5.2.\tWater Vapor\n",
        "### 5.3.\tPrecipitable Water in atmospheric column\n",
        "### 5.4.\tPrecipitation \n",
        "### 5.5.\tRainfall \n",
        "### 5.6.\tEvaporation \n",
        "### 5.7.\tInfiltration \n",
        "### 5.8.\tSurface water \n",
        "### 5.9.\tRiver Routing–Muskingum method \n",
        "\n",
        "## 6.\tAdvanced application in Hydrology (python-based modelling packages)\n",
        "### 6.1.\tAMBHAS\n",
        "### 6.2.\tPastas (Groundwater)\n",
        "\n",
        "## 7.\tStatistics\n",
        "### 7.1.\tEmpirical distributions \n",
        "### 7.2.\tTheoretical distributions \n",
        "### 7.3.\tThe t-test \n",
        "### 7.4.\tKS test \n",
        "### 7.5.\tThe chi square test \n",
        "### 7.6.\tMann-Kendall Test and Sen’s Slope\n",
        "### 7.7.\tMeasure of statistical dependence\n",
        "### 7.8.\tLinear regression \n",
        "### 7.9.\tPolynomial regression \n",
        "### 7.10.\tInterpolation \n",
        "### 7.11.\tAutocorrelation \n",
        "### 7.12.\tUncertainty Intervals\n",
        "\n",
        "## 8.\tSpatial Data (gdal and ogr incorporated into osgeo library)\n",
        "### 8.1.\tTypes of spatial data \n",
        "### 8.2.\tGeoinformation \n",
        "### 8.3.\tWriting Raster \n",
        "### 8.4.\tWriting Vector \n",
        "### 8.5.\tReading the raster \n",
        "### 8.6.\tRead the vector \n",
        "### 8.7.\tFiltering \n",
        "### 8.8.\tNDVI \n",
        "### 8.9.\tRaster and Vector operations: Clipping, extract values to point etc.\n",
        "\n",
        "## 9.\tPlotting\n",
        "### 9.1.\tDate axis \n",
        "### 9.2.\tBar charts \n",
        "### 9.3.\tPie charts \n",
        "### 9.4.\t2D plots \n",
        "### 9.5.\t3 D plots \n",
        "### 9.6.\tBox-plot \n",
        "### 9.7.\tQ-Q plot \n",
        "### 9.8.\tplotyy \n",
        "### 9.9.\tAnnotation \n",
        "### 9.10.\tBasemap \n",
        "### 9.11.\tShared axis \n",
        "### 9.12.\tSubplot \n",
        "\n",
        "## 10.\tInput-Output (Using pandas dataframe)\n",
        "### 10.1.\txls \n",
        "### 10.2.\tText file \n",
        "### 10.3.\tNetCDF \n",
        "### 10.4.\tPickle \n",
        "\n",
        "## 11.\tNumerical Modelling\n",
        "### 11.1.\tIntegration \n",
        "### 11.2.\tODE \n",
        "### 11.3.\tParameter Estimation\n",
        "\n",
        "## 12.\tAdvance statistics\n",
        "### 12.1.\tcopula \n",
        "### 12.2.\tMultivariate distribution\n",
        "\n",
        "## 13.\t Install library\n",
        "### 13.1.\tBasemap"
      ],
      "metadata": {
        "id": "LCgmDGPONTNW"
      }
    },
    {
      "cell_type": "code",
      "execution_count": null,
      "metadata": {
        "id": "2j-SEIs5JCVF"
      },
      "outputs": [],
      "source": []
    }
  ]
}