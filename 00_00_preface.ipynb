{
  "nbformat": 4,
  "nbformat_minor": 0,
  "metadata": {
    "colab": {
      "provenance": [],
      "collapsed_sections": [],
      "include_colab_link": true
    },
    "kernelspec": {
      "name": "python3",
      "display_name": "Python 3"
    },
    "language_info": {
      "name": "python"
    }
  },
  "cells": [
    {
      "cell_type": "markdown",
      "metadata": {
        "id": "view-in-github",
        "colab_type": "text"
      },
      "source": [
        "<a href=\"https://colab.research.google.com/github/tomersk/learn-python/blob/main/00_00_preface.ipynb\" target=\"_parent\"><img src=\"https://colab.research.google.com/assets/colab-badge.svg\" alt=\"Open In Colab\"/></a>"
      ]
    },
    {
      "cell_type": "markdown",
      "source": [
        "#History\n",
        "\n",
        "I started using Python in July 2010. I was looking for a programming language, which is:\n",
        "*    open source,\n",
        "*    capable of combining many codes/modules/softwares,\n",
        "*    easy to learn, and\n",
        "*    help is available on the internet. \n",
        "\n",
        "I came across Python and Perl, even though there might be many more options available. I googled the use of Python and Perl in the field of general scientific usage, hydrology, Geographic Information System (GIS), and statistics etc. Basically, I tried to search for the examples I thought I might be facing in the future. \n",
        "\n",
        "I somehow felt Python had more help related to my field and felt it to be the language of my need. I did not know at that time if my conclusions (in the areas mentioned above) about the Python versus Perl were true or not? But, now I am certain of making a good choice as I feel happy for choosing the Python for my work. Python has evolved a lot in the last decade and has become much more valuable for the kind of work I am into and find it to be fulfilling my requirements completely.\n",
        "\n",
        "After getting a lot of help from open source community, I felt that I should also make a small contribution into the free world. I tried to contribute in few areas, but could not go ahead because of my less knowledge in those areas. After spending extensive one year with Python, I thought to make some contribution into Python world. I wrote few small packages for the Python, and started writing this book.\n",
        "\n",
        "I tried the book to keep it very simple as I would like to have read some Python book. If you find something complicated, do let me know, I will try my best to simplify it. \n",
        "\n",
        "I hope that you will find this book helpful and enjoyable.\n",
        "\n",
        "\n",
        "Sat Kumar Tomer \n",
        "Bangalore, India\n",
        "\n",
        "\n",
        "Sat Kumar Tomer did PhD from the Department of Civil Engineering at Indian Institute of Science, Bangalore, India. He did post-doc from CESBIO, Toulouse, France and co-founder of Satyukt Analytics Pvt Ltd. "
      ],
      "metadata": {
        "id": "nW-uxA89Q1ET"
      }
    },
    {
      "cell_type": "markdown",
      "source": [
        "#Acknowledgements\n",
        "\n",
        "I am thankful to you for reading the book, and hope to receive feedback from you.\n",
        "\n",
        "I am thankful to Allen B. Downey who provided the latex source code of his books, which helped me in formatting the book in a better way. Apart from it, he has written a nice history for his book titled ‘Think Python: How to Think Like a Computer Scientist’, which encouraged me for writing this book. And, I adapted many sentences from his book, mainly the basic about Python.\n",
        "\n",
        "I am thankful to the Free Software Foundation for developing the GNU Free Documentation License. I am thankful to Green Tea Press.\n",
        "\n",
        "I am thankful to my friends Ganjendara Yadav, Himanshu Joshi, and Shobhit Khatyan for their continuous support.\n",
        "\n",
        "#Suggestions/corrections\n",
        "If you have a suggestion or correction, you are more than welcome to drop an email at satkumartomer@gmail.com."
      ],
      "metadata": {
        "id": "Cj82DpOKT1P2"
      }
    }
  ]
}