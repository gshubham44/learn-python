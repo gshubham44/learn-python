{
  "nbformat": 4,
  "nbformat_minor": 0,
  "metadata": {
    "colab": {
      "provenance": [],
      "collapsed_sections": [],
      "include_colab_link": true
    },
    "kernelspec": {
      "name": "python3",
      "display_name": "Python 3"
    },
    "language_info": {
      "name": "python"
    }
  },
  "cells": [
    {
      "cell_type": "markdown",
      "metadata": {
        "id": "view-in-github",
        "colab_type": "text"
      },
      "source": [
        "<a href=\"https://colab.research.google.com/github/tomersk/learn-python/blob/main/00_00_preface.ipynb\" target=\"_parent\"><img src=\"https://colab.research.google.com/assets/colab-badge.svg\" alt=\"Open In Colab\"/></a>"
      ]
    },
    {
      "cell_type": "markdown",
      "source": [
        "#History\n",
        "\n",
        "I started using Python in July 2010. I was looking for a programming language, which is:\n",
        "*    open source,\n",
        "*    capable of combining many codes/modules/softwares,\n",
        "*    easy to learn, and\n",
        "*    help is available on the internet. \n",
        "\n",
        "I came across Python and Perl, even though there might be many more options available. I googled the use of Python and Perl in the field of general scientific usage, hydrology, Geographic Information System (GIS), and statistics etc. Basically, I tried to search for the examples I thought I might be facing in the future. \n",
        "\n",
        "I somehow felt Python had more help related to my field and felt it to be the language of my need. I did not know at that time if my conclusions (in the areas mentioned above) about the Python versus Perl were true or not? But, now I am certain of making a good choice as I feel happy for choosing the Python for my work. Python has evolved a lot in the last decade and has become much more valuable for the kind of work I am into and find it to be fulfilling my requirements completely.\n",
        "\n",
        "After getting a lot of help from open source community, I felt that I should also make a small contribution into the free world. I tried to contribute in few areas, but could not go ahead because of my less knowledge in those areas. After spending extensive one year with Python, I thought to make some contribution into Python world. I wrote few small packages for the Python, and started writing this book.\n",
        "\n",
        "I tried the book to keep it very simple as I would like to have read some Python book. If you find something complicated, do let me know, I will try my best to simplify it. \n",
        "\n",
        "I hope that you will find this book helpful and enjoyable.\n",
        "\n",
        "\n",
        "Sat Kumar Tomer \n",
        "Bangalore, India\n",
        "\n",
        "\n",
        "Sat Kumar Tomer did PhD from the Department of Civil Engineering at Indian Institute of Science, Bangalore, India. He did post-doc from CESBIO, Toulouse, France and co-founder of Satyukt Analytics Pvt Ltd. "
      ],
      "metadata": {
        "id": "nW-uxA89Q1ET"
      }
    },
    {
      "cell_type": "markdown",
      "source": [
        "#Acknowledgements\n",
        "\n",
        "I am thankful to you for reading the book, and hope to receive feedback from you.\n",
        "\n",
        "I am thankful to Allen B. Downey who provided the latex source code of his books, which helped me in formatting the book in a better way. Apart from it, he has written a nice history for his book titled ‘Think Python: How to Think Like a Computer Scientist’, which encouraged me for writing this book. And, I adapted many sentences from his book, mainly the basic about Python.\n",
        "\n",
        "I am thankful to the Free Software Foundation for developing the GNU Free Documentation License. I am thankful to Green Tea Press.\n",
        "\n",
        "I am thankful to my friends Ganjendara Yadav, Himanshu Joshi, and Shobhit Khatyan for their continuous support.\n",
        "\n",
        "#Suggestions/corrections\n",
        "If you have a suggestion or correction, you are more than welcome to drop an email at satkumartomer@gmail.com."
      ],
      "metadata": {
        "id": "Cj82DpOKT1P2"
      }
    },
    {
      "cell_type": "markdown",
      "source": [
        "Contents\n",
        "Preface\n",
        "1.\tGetting started\n",
        "1.1.\tWhy Python?\n",
        "1.2.\tPython Installation \n",
        "1.3.\tInstall additional packages \n",
        "1.4.\tInteractive Development Environment \n",
        "1.5.\tExecute the program \n",
        "1.6.\tType of errors \n",
        "1.7.\tThe first program \n",
        "2.\tA bit of Python\n",
        "2.1.\tData type \n",
        "2.2.\tData structures \n",
        "2.3.\tChoosing the name of variable \n",
        "2.4.\tOperators and operands \n",
        "2.5.\tExpressions \n",
        "2.6.\tControl Flow \n",
        "2.7.\tFunction \n",
        "2.8.\tPlotting \n",
        "3.\tArray\n",
        "3.1.\tGenerating sequential arrays\n",
        "3.2.\tUseful attributes and methods \n",
        "3.3.\tIndexing \n",
        "3.4.\tArray Manipulation\n",
        "4.\tDataframe\n",
        "4.1.\tIntroduction\n",
        "4.2.\tIndexing in Dataframe\n",
        "4.3.\tTime series analysis using Dataframes\n",
        "5.\tBasic applications in Hydrology\n",
        "5.1.\tIntroduction \n",
        "5.2.\tWater Vapor\n",
        "5.3.\tPrecipitable Water in atmospheric column\n",
        "5.4.\tPrecipitation \n",
        "5.5.\tRainfall \n",
        "5.6.\tEvaporation \n",
        "5.7.\tInfiltration \n",
        "5.8.\tSurface water \n",
        "5.9.\tRiver Routing–Muskingum method \n",
        "6.\tAdvanced application in Hydrology (python-based modelling packages)\n",
        "6.1.\tAMBHAS\n",
        "6.2.\tPastas (Groundwater)\n",
        "7.\tStatistics\n",
        "7.1.\tEmpirical distributions \n",
        "7.2.\tTheoretical distributions \n",
        "7.3.\tThe t-test \n",
        "7.4.\tKS test \n",
        "7.5.\tThe chi square test \n",
        "7.6.\tMann-Kendall Test and Sen’s Slope\n",
        "7.7.\tMeasure of statistical dependence\n",
        "7.8.\tLinear regression \n",
        "7.9.\tPolynomial regression \n",
        "7.10.\tInterpolation \n",
        "7.11.\tAutocorrelation \n",
        "7.12.\tUncertainty Intervals\n",
        "8.\tSpatial Data (gdal and ogr incorporated into osgeo library)\n",
        "8.1.\tTypes of spatial data \n",
        "8.2.\tGeoinformation \n",
        "8.3.\tWriting Raster \n",
        "8.4.\tWriting Vector \n",
        "8.5.\tReading the raster \n",
        "8.6.\tRead the vector \n",
        "8.7.\tFiltering \n",
        "8.8.\tNDVI \n",
        "8.9.\tRaster and Vector operations: Clipping, extract values to point etc.\n",
        "9.\tPlotting\n",
        "9.1.\tDate axis \n",
        "9.2.\tBar charts \n",
        "9.3.\tPie charts \n",
        "9.4.\t2D plots \n",
        "9.5.\t3 D plots \n",
        "9.6.\tBox-plot \n",
        "9.7.\tQ-Q plot \n",
        "9.8.\tplotyy \n",
        "9.9.\tAnnotation \n",
        "9.10.\tBasemap \n",
        "9.11.\tShared axis \n",
        "9.12.\tSubplot \n",
        "10.\tInput-Output (Using pandas dataframe)\n",
        "10.1.\txls \n",
        "10.2.\tText file \n",
        "10.3.\tNetCDF \n",
        "10.4.\tPickle \n",
        "11.\tNumerical Modelling\n",
        "11.1.\tIntegration \n",
        "11.2.\tODE \n",
        "11.3.\tParameter Estimation\n",
        "12.\tAdvance statistics\n",
        "12.1.\tcopula \n",
        "12.2.\tMultivariate distribution\n",
        "13.\t Install library\n",
        "13.1.\tBasemap\n"
      ],
      "metadata": {
        "id": "VdNrdp58NAJg"
      }
    }
  ]
}