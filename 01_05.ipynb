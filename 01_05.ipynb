{
  "nbformat": 4,
  "nbformat_minor": 0,
  "metadata": {
    "colab": {
      "provenance": [],
      "authorship_tag": "ABX9TyNlysESsV9z0k3txPKZTJuw",
      "include_colab_link": true
    },
    "kernelspec": {
      "name": "python3",
      "display_name": "Python 3"
    },
    "language_info": {
      "name": "python"
    }
  },
  "cells": [
    {
      "cell_type": "markdown",
      "metadata": {
        "id": "view-in-github",
        "colab_type": "text"
      },
      "source": [
        "<a href=\"https://colab.research.google.com/github/tomersk/learn-python/blob/main/01_05.ipynb\" target=\"_parent\"><img src=\"https://colab.research.google.com/assets/colab-badge.svg\" alt=\"Open In Colab\"/></a>"
      ]
    },
    {
      "cell_type": "markdown",
      "source": [
        "## 1.5 Execute the Program\n",
        "\n",
        "Python is an interpreted language as the programs are executed by an interpreter. There are two ways to use the interpreter: interactive mode and script mode. In the interactive mode, you type Python programs (after invoking the python, which is done by typing python in a terminal or command window) and interpreter prints the result, e.g. we do 1+1 in it."
      ],
      "metadata": {
        "id": "xSVhK6R7BCpS"
      }
    },
    {
      "cell_type": "code",
      "execution_count": 1,
      "metadata": {
        "colab": {
          "base_uri": "https://localhost:8080/"
        },
        "id": "0rjCf_AKAusv",
        "outputId": "db210f2d-cda4-4977-c1f8-a811917ac58c"
      },
      "outputs": [
        {
          "output_type": "execute_result",
          "data": {
            "text/plain": [
              "2"
            ]
          },
          "metadata": {},
          "execution_count": 1
        }
      ],
      "source": [
        "$ python\n",
        ">>> 1 + 1\n",
        "2"
      ]
    },
    {
      "cell_type": "markdown",
      "source": [
        "When you invoked Python, you will also see other details like version of Python.\n",
        "\n",
        "The chevron, >>>, is the prompt which interpreter uses to indicate that it is ready. If you type 1 + 1, the interpreter replies 2. Alternatively, you can store code in a file and use the interpreter to execute the contents of the file, which is called a script. By convention, Python scripts have names\n",
        "that end with .pt. Suppose, you have named you script as my script.pt, and you want to execute it, in a Unix/Linux shell, you would do:"
      ],
      "metadata": {
        "id": "JZiBbSIwBcy7"
      }
    },
    {
      "cell_type": "code",
      "source": [
        "$ python myscript.py"
      ],
      "metadata": {
        "id": "qkVfktPOBzkN"
      },
      "execution_count": null,
      "outputs": []
    },
    {
      "cell_type": "markdown",
      "source": [
        "or, you can give your script executable permission and simply run the script. The syntax to do is:"
      ],
      "metadata": {
        "id": "TYHbCUcOB0v-"
      }
    },
    {
      "cell_type": "code",
      "source": [
        "$ chmod +x myscript.py\n",
        "$ ./myscript.py"
      ],
      "metadata": {
        "id": "GTG5vBgfB3P4"
      },
      "execution_count": null,
      "outputs": []
    },
    {
      "cell_type": "markdown",
      "source": [
        "In KDE’s, the details of executing scripts are different. You can find instructions for your environment at the Python website python.org.\n",
        "\n",
        "Working in interactive mode is convenient for testing small pieces of code because you can type and execute them immediately. But for anything more than a few lines, you should save your code as a script so you can modify and execute it in the future.\n",
        "\n",
        "In Colab, there are two modes:\n",
        "*   Code\n",
        "*   Text\n",
        "\n",
        "In the *Code* mode, you can type Python code and you can run the section of code by clicking on Play icon provided in the left. In the *Text* mode, you can write any text for the explaination which Python will not run. You can click on *+ Code* or *+Text* to add a new section for it. \n",
        "\n"
      ],
      "metadata": {
        "id": "GCWmlJflB5q0"
      }
    }
  ]
}