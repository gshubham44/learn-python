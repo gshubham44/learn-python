{
  "nbformat": 4,
  "nbformat_minor": 0,
  "metadata": {
    "colab": {
      "provenance": [],
      "authorship_tag": "ABX9TyNJizmmyNvTW8YO7aY3Nz9L",
      "include_colab_link": true
    },
    "kernelspec": {
      "name": "python3",
      "display_name": "Python 3"
    },
    "language_info": {
      "name": "python"
    }
  },
  "cells": [
    {
      "cell_type": "markdown",
      "metadata": {
        "id": "view-in-github",
        "colab_type": "text"
      },
      "source": [
        "<a href=\"https://colab.research.google.com/github/tomersk/learn-python/blob/main/09_01.ipynb\" target=\"_parent\"><img src=\"https://colab.research.google.com/assets/colab-badge.svg\" alt=\"Open In Colab\"/></a>"
      ]
    },
    {
      "cell_type": "markdown",
      "source": [
        "# 9 Numerical Modelling\n",
        "\n",
        "## 9.1 Integration\n",
        "Suppose we want to integrate some function and the function can not be integrated analytically, then we go for numerical integration. To check if our numerical integration shcems is working properly or not, we integrate the function for which analytical solution is available and then we compare our solution. So let us begin with function of one variable. Suppose, we have function $f (x) = x$ to integrate over limit 0 to 10. We know from mathematics that the answer is 50. Let us now try numerical methods about the solution. We will use integrate library of scipy. For simple function we an use lambad function instead of def to define the function. The function *integrate.quad* perform our task. It returns the integration and error in integration."
      ],
      "metadata": {
        "id": "tssPDz212YV0"
      }
    },
    {
      "cell_type": "code",
      "execution_count": 5,
      "metadata": {
        "colab": {
          "base_uri": "https://localhost:8080/"
        },
        "id": "UsPeDjdezTkL",
        "outputId": "7d64466c-4f2c-4f9b-a0e9-ceb392ff5f86"
      },
      "outputs": [
        {
          "output_type": "stream",
          "name": "stdout",
          "text": [
            "50.0 5.551115123125783e-13\n"
          ]
        }
      ],
      "source": [
        "from scipy import integrate\n",
        "import numpy as np\n",
        "y_fun = lambda x: x\n",
        "y,err = integrate.quad(y_fun,0,10)\n",
        "print(y, err)"
      ]
    },
    {
      "cell_type": "markdown",
      "source": [
        "We get the 50.0 as answer which is exactly the analytical solution, and also it says that error is the solution is very low. It could be by chance, that we get accurate solution from the numerical scheme. So let us try one more function, this time exponential. We will integrate f(x) = exp(−x) over 0 to ∞."
      ],
      "metadata": {
        "id": "YWZ-nVWg3JCp"
      }
    },
    {
      "cell_type": "code",
      "source": [
        "y_func = lambda x: np.exp(-x)\n",
        "y = integrate.quad(y_func, 0, np.inf)\n",
        "print(y)"
      ],
      "metadata": {
        "colab": {
          "base_uri": "https://localhost:8080/"
        },
        "id": "9T8-S-TA3MhU",
        "outputId": "dc64b2ca-99c8-42a7-99ed-462026fdb371"
      },
      "execution_count": 6,
      "outputs": [
        {
          "output_type": "stream",
          "name": "stdout",
          "text": [
            "(1.0000000000000002, 5.842606742906004e-11)\n"
          ]
        }
      ]
    },
    {
      "cell_type": "markdown",
      "source": [
        "We see that the solution is very near to the analytical solution (1.0). These function had only the vari- able as input, but we may want to have additional parameter in the function, e.g. f (x) = ex p(−ax, and assume a = 0.5 for this example. The integrate.quad provides options for providing additional argument also."
      ],
      "metadata": {
        "id": "Ev1ZxCAN3aFT"
      }
    },
    {
      "cell_type": "code",
      "source": [
        "f = lambda x,a : np.exp(-a*x)\n",
        "y, err = integrate.quad(f, 0, 1, args=(0.5,))\n",
        "print(y)"
      ],
      "metadata": {
        "colab": {
          "base_uri": "https://localhost:8080/"
        },
        "id": "xP3usgBH3hKa",
        "outputId": "f592c7b2-a472-4589-ba8b-7e10f5cc652c"
      },
      "execution_count": 7,
      "outputs": [
        {
          "output_type": "stream",
          "name": "stdout",
          "text": [
            "0.786938680574733\n"
          ]
        }
      ]
    }
  ]
}