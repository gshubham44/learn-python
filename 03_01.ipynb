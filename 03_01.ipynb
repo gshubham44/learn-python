{
  "nbformat": 4,
  "nbformat_minor": 0,
  "metadata": {
    "colab": {
      "provenance": [],
      "authorship_tag": "ABX9TyOWfcQdK9Ocmbpbcb4q43xH",
      "include_colab_link": true
    },
    "kernelspec": {
      "name": "python3",
      "display_name": "Python 3"
    },
    "language_info": {
      "name": "python"
    }
  },
  "cells": [
    {
      "cell_type": "markdown",
      "metadata": {
        "id": "view-in-github",
        "colab_type": "text"
      },
      "source": [
        "<a href=\"https://colab.research.google.com/github/tomersk/learn-python/blob/main/03_01.ipynb\" target=\"_parent\"><img src=\"https://colab.research.google.com/assets/colab-badge.svg\" alt=\"Open In Colab\"/></a>"
      ]
    },
    {
      "cell_type": "markdown",
      "source": [
        "# 3 Array and dataframe\n",
        "\n",
        "When we need to store more than one value of a variable e.g. daily temperature over a long time period, or data over space and sometime in space and time, we can make use of array to store this data. Array can be more than 1-dimensional. \n",
        "\n",
        "When we store multiple variables, DataFrame are a useful structure.\n",
        "\n",
        "## 3.1 Generating sequential arrays\n",
        "Often we need vectors whose elements follow a simple order, for example a vector containing elements:\n",
        "*   [10, 11, 12, 13], or \n",
        "*   [5, 10, 15, 20], or\n",
        "*   [1.0, 1.2, 1.4, 1.6, 1.8, 2.0]. \n",
        "\n",
        "We see that in these vectors, items follow some simple order, so it would be nicer if there are easy way to define these kinds of vectors. Some of the way to create these vectors are following: \n",
        "\n",
        "### 3.1.1 linspace\n",
        "If we are interested in generating the vector, whose elements are uniformly spaced and we know the upper, lower limit and the number of elements, then in that case linspace is the preferred choice."
      ],
      "metadata": {
        "id": "T68NFlxX_Vii"
      }
    },
    {
      "cell_type": "code",
      "source": [
        "import numpy as np\n",
        "np.linspace(0, 2, 9)"
      ],
      "metadata": {
        "colab": {
          "base_uri": "https://localhost:8080/"
        },
        "id": "PnUTBOWwARuo",
        "outputId": "f606f4af-2d56-46bd-e144-e68e245c5b5e"
      },
      "execution_count": 1,
      "outputs": [
        {
          "output_type": "execute_result",
          "data": {
            "text/plain": [
              "array([0.  , 0.25, 0.5 , 0.75, 1.  , 1.25, 1.5 , 1.75, 2.  ])"
            ]
          },
          "metadata": {},
          "execution_count": 1
        }
      ]
    },
    {
      "cell_type": "markdown",
      "source": [
        "Because linspace lies in numpy library, so first we have imported the library and have given it an abbreviated name. Then we call the linspace with lower limit, upper limit and the number of element to be generated. In this example, 0 is the lower limit, 2 is the upper limit, and number of elements are 9. \n",
        "\n",
        "Let us generate one more vector to understand more about this function, this time we take lower limit as 0, upper limit as $2\\pi$, and number of elements to be 100."
      ],
      "metadata": {
        "id": "2AC3HirPBxZi"
      }
    },
    {
      "cell_type": "code",
      "execution_count": 4,
      "metadata": {
        "colab": {
          "base_uri": "https://localhost:8080/"
        },
        "id": "SLMjVnjp_TYA",
        "outputId": "905fb436-9b18-4636-b7c1-f519ef47d66b"
      },
      "outputs": [
        {
          "output_type": "stream",
          "name": "stdout",
          "text": [
            "[0.         0.06346652 0.12693304 0.19039955 0.25386607 0.31733259\n",
            " 0.38079911 0.44426563 0.50773215 0.57119866 0.63466518 0.6981317\n",
            " 0.76159822 0.82506474 0.88853126 0.95199777 1.01546429 1.07893081\n",
            " 1.14239733 1.20586385 1.26933037 1.33279688 1.3962634  1.45972992\n",
            " 1.52319644 1.58666296 1.65012947 1.71359599 1.77706251 1.84052903\n",
            " 1.90399555 1.96746207 2.03092858 2.0943951  2.15786162 2.22132814\n",
            " 2.28479466 2.34826118 2.41172769 2.47519421 2.53866073 2.60212725\n",
            " 2.66559377 2.72906028 2.7925268  2.85599332 2.91945984 2.98292636\n",
            " 3.04639288 3.10985939 3.17332591 3.23679243 3.30025895 3.36372547\n",
            " 3.42719199 3.4906585  3.55412502 3.61759154 3.68105806 3.74452458\n",
            " 3.8079911  3.87145761 3.93492413 3.99839065 4.06185717 4.12532369\n",
            " 4.1887902  4.25225672 4.31572324 4.37918976 4.44265628 4.5061228\n",
            " 4.56958931 4.63305583 4.69652235 4.75998887 4.82345539 4.88692191\n",
            " 4.95038842 5.01385494 5.07732146 5.14078798 5.2042545  5.26772102\n",
            " 5.33118753 5.39465405 5.45812057 5.52158709 5.58505361 5.64852012\n",
            " 5.71198664 5.77545316 5.83891968 5.9023862  5.96585272 6.02931923\n",
            " 6.09278575 6.15625227 6.21971879 6.28318531]\n"
          ]
        }
      ],
      "source": [
        "x = np.linspace(0, 2*np.pi, 100)\n",
        "print(x)"
      ]
    },
    {
      "cell_type": "markdown",
      "source": [
        "By default the number of elements are 50, so if we do not specify the number of elements, we get 50 elements with equal spacing. We can use len function to get the length of any array."
      ],
      "metadata": {
        "id": "wNa0w8VCCHAp"
      }
    },
    {
      "cell_type": "code",
      "source": [
        "foo = np.linspace(0,1)\n",
        "len(foo)"
      ],
      "metadata": {
        "colab": {
          "base_uri": "https://localhost:8080/"
        },
        "id": "aSuOE_brCS74",
        "outputId": "a8fbec2e-4c40-46f4-e616-0c17d96f7056"
      },
      "execution_count": 5,
      "outputs": [
        {
          "output_type": "execute_result",
          "data": {
            "text/plain": [
              "50"
            ]
          },
          "metadata": {},
          "execution_count": 5
        }
      ]
    },
    {
      "cell_type": "markdown",
      "source": [
        "### 3.1.2 arange\n",
        "Suppose again we want to generate a vector whose elements are uniformly spaced, but this time we do not know the number of elements, we just know the increment between elements. In such situation arange is used. arange also requires lower and upper bounds. In the following example we are generating the vector having lower element as 10, upper element as 30 and having an increment of 30. So from the knowledge of linspace we will do something like this.\n"
      ],
      "metadata": {
        "id": "aiNqnIOdCZK4"
      }
    },
    {
      "cell_type": "code",
      "source": [
        "np.arange(10, 30, 5)"
      ],
      "metadata": {
        "colab": {
          "base_uri": "https://localhost:8080/"
        },
        "id": "ewP_baz8CgWg",
        "outputId": "ceacf5c2-95f6-449e-ed86-4617c6bbef86"
      },
      "execution_count": 6,
      "outputs": [
        {
          "output_type": "execute_result",
          "data": {
            "text/plain": [
              "array([10, 15, 20, 25])"
            ]
          },
          "metadata": {},
          "execution_count": 6
        }
      ]
    },
    {
      "cell_type": "markdown",
      "source": [
        "Oh! What happened? Why did Python not print 30. Because arange function does not include second argument in the elements. So we want to print upto 30, we would do."
      ],
      "metadata": {
        "id": "zs9ZsXpQCn88"
      }
    },
    {
      "cell_type": "code",
      "source": [
        "np.arange(10, 31, 5)"
      ],
      "metadata": {
        "colab": {
          "base_uri": "https://localhost:8080/"
        },
        "id": "AYtTSoNKCvSe",
        "outputId": "90da6c9c-5e89-4ec4-d614-6e4b98355df4"
      },
      "execution_count": 7,
      "outputs": [
        {
          "output_type": "execute_result",
          "data": {
            "text/plain": [
              "array([10, 15, 20, 25, 30])"
            ]
          },
          "metadata": {},
          "execution_count": 7
        }
      ]
    },
    {
      "cell_type": "markdown",
      "source": [
        "This time we get the required output. The arange can also take a float increment. Let us generate some vector with lower bound of 0, upper bound of 2 and with an increment of 0.3."
      ],
      "metadata": {
        "id": "rz3Bkw_5CxMG"
      }
    },
    {
      "cell_type": "code",
      "source": [
        "np.arange(0, 2, 0.3) # it accepts float arguments"
      ],
      "metadata": {
        "colab": {
          "base_uri": "https://localhost:8080/"
        },
        "id": "a0CZQ4y4C5k1",
        "outputId": "1757cffc-e20a-4c8d-fa23-cfb67676cdae"
      },
      "execution_count": 8,
      "outputs": [
        {
          "output_type": "execute_result",
          "data": {
            "text/plain": [
              "array([0. , 0.3, 0.6, 0.9, 1.2, 1.5, 1.8])"
            ]
          },
          "metadata": {},
          "execution_count": 8
        }
      ]
    },
    {
      "cell_type": "markdown",
      "source": [
        "In the case of float increment also, the maximum value of generated elements is lesser than the second argument given to the arange.\n",
        "\n",
        "### 3.1.3 zeros\n",
        "zeros is used when we want to generate all the items in vector as 0."
      ],
      "metadata": {
        "id": "oWSvrwK3C8My"
      }
    },
    {
      "cell_type": "code",
      "source": [
        "foo = np.zeros(5)\n",
        "print(foo)"
      ],
      "metadata": {
        "colab": {
          "base_uri": "https://localhost:8080/"
        },
        "id": "G4907gLQDREu",
        "outputId": "71591076-5664-4a99-80aa-93ca4e8bcb4b"
      },
      "execution_count": 9,
      "outputs": [
        {
          "output_type": "stream",
          "name": "stdout",
          "text": [
            "[0. 0. 0. 0. 0.]\n"
          ]
        }
      ]
    },
    {
      "cell_type": "markdown",
      "source": [
        "### 3.1.4 ones\n",
        "ones is used when all the required elements in vector are 1. Let us say, we want to generate a variable foo which has all the elements equal to one, and has the dimension of 3×2."
      ],
      "metadata": {
        "id": "VOaJeU-3DZaF"
      }
    },
    {
      "cell_type": "code",
      "source": [
        "foo = np.ones((3,2))\n",
        "foo"
      ],
      "metadata": {
        "colab": {
          "base_uri": "https://localhost:8080/"
        },
        "id": "XntwkEnQEVWY",
        "outputId": "f2742c32-3fff-44c5-8efe-d7226de3aa94"
      },
      "execution_count": 10,
      "outputs": [
        {
          "output_type": "execute_result",
          "data": {
            "text/plain": [
              "array([[1., 1.],\n",
              "       [1., 1.],\n",
              "       [1., 1.]])"
            ]
          },
          "metadata": {},
          "execution_count": 10
        }
      ]
    },
    {
      "cell_type": "markdown",
      "source": [
        "Remember that if the number of dimensions are more than one, the dimension are given as tuple, e.g. (2,5).\n",
        "\n",
        "\n",
        "### 3.1.5 empty\n",
        "*empty* is useful in initializing the variables. This assigns the garbage values to the elements, which are to be modified/updated later."
      ],
      "metadata": {
        "id": "At59jspYEZYc"
      }
    },
    {
      "cell_type": "code",
      "source": [
        "foo = np.empty((2,5))\n",
        "foo"
      ],
      "metadata": {
        "colab": {
          "base_uri": "https://localhost:8080/"
        },
        "id": "JZiOiQJqEqWe",
        "outputId": "bd6f1982-56ad-4bc5-b87b-bdfe42ec4d35"
      },
      "execution_count": 11,
      "outputs": [
        {
          "output_type": "execute_result",
          "data": {
            "text/plain": [
              "array([[1.27430123e-316, 1.77863633e-322, 0.00000000e+000,\n",
              "        0.00000000e+000, 0.00000000e+000],\n",
              "       [2.23289529e+180, 1.74254942e-076, 4.95643980e-090,\n",
              "        6.28756268e-066, 3.99473231e-315]])"
            ]
          },
          "metadata": {},
          "execution_count": 11
        }
      ]
    },
    {
      "cell_type": "markdown",
      "source": [
        "Additionally in zeros, ones, empty, the data type (e.g. int, float etc.) also can be defined."
      ],
      "metadata": {
        "id": "NJJFpQqFEvSx"
      }
    },
    {
      "cell_type": "code",
      "source": [
        "foo = np.empty((2,5),int)\n",
        "foo"
      ],
      "metadata": {
        "colab": {
          "base_uri": "https://localhost:8080/"
        },
        "id": "DV6K58T9ExoE",
        "outputId": "82a90600-d280-42c1-aad8-d0d3e0863e64"
      },
      "execution_count": 12,
      "outputs": [
        {
          "output_type": "execute_result",
          "data": {
            "text/plain": [
              "array([[           25792144,                  36,                   0,\n",
              "                          0,                   0],\n",
              "       [7305181858796548918, 3473451130437056301, 3270793523756872760,\n",
              "        3631361885789761844,           808542821]])"
            ]
          },
          "metadata": {},
          "execution_count": 12
        }
      ]
    },
    {
      "cell_type": "markdown",
      "source": [
        "You can see that all the elements of foo are now integer, even though the values are useless.\n",
        "\n",
        "### 3.1.6 rand\n",
        "*rand* is used to generate uniformly distributed random variables over the range of 0 to 1."
      ],
      "metadata": {
        "id": "hjavygi6E1Vh"
      }
    },
    {
      "cell_type": "code",
      "source": [
        "foo = np.random.rand(3,2)\n",
        "foo"
      ],
      "metadata": {
        "colab": {
          "base_uri": "https://localhost:8080/"
        },
        "id": "5NaLhy1nE_fA",
        "outputId": "f032ede2-c83b-4605-c9d5-8fd33fc6f19e"
      },
      "execution_count": 13,
      "outputs": [
        {
          "output_type": "execute_result",
          "data": {
            "text/plain": [
              "array([[0.0603704 , 0.24580037],\n",
              "       [0.2110914 , 0.96110024],\n",
              "       [0.9935456 , 0.33570921]])"
            ]
          },
          "metadata": {},
          "execution_count": 13
        }
      ]
    },
    {
      "cell_type": "markdown",
      "source": [
        "### 3.1.7 randn\n",
        "*randn* is used to generate random variable having normal distribution with mean equal to zero and variance equal to one."
      ],
      "metadata": {
        "id": "aut8_RDVFGHv"
      }
    },
    {
      "cell_type": "code",
      "source": [
        "foo = np.random.randn(2,4)\n",
        "foo"
      ],
      "metadata": {
        "colab": {
          "base_uri": "https://localhost:8080/"
        },
        "id": "s9zpNPDGFNsG",
        "outputId": "8b18527a-0478-4ee6-a101-966e5413ed9d"
      },
      "execution_count": 14,
      "outputs": [
        {
          "output_type": "execute_result",
          "data": {
            "text/plain": [
              "array([[ 0.90902554,  0.43302782, -0.38472946, -0.56662238],\n",
              "       [ 0.08164287,  0.30499331,  1.934709  , -0.60454243]])"
            ]
          },
          "metadata": {},
          "execution_count": 14
        }
      ]
    }
  ]
}