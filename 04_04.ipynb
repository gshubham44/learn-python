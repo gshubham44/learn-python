{
  "nbformat": 4,
  "nbformat_minor": 0,
  "metadata": {
    "colab": {
      "provenance": [],
      "authorship_tag": "ABX9TyMxBm34j3soJp1nIp1ZNS4m",
      "include_colab_link": true
    },
    "kernelspec": {
      "name": "python3",
      "display_name": "Python 3"
    },
    "language_info": {
      "name": "python"
    }
  },
  "cells": [
    {
      "cell_type": "markdown",
      "metadata": {
        "id": "view-in-github",
        "colab_type": "text"
      },
      "source": [
        "<a href=\"https://colab.research.google.com/github/tomersk/learn-python/blob/main/04_04.ipynb\" target=\"_parent\"><img src=\"https://colab.research.google.com/assets/colab-badge.svg\" alt=\"Open In Colab\"/></a>"
      ]
    },
    {
      "cell_type": "markdown",
      "source": [
        "## 4.4 Rainfall\n",
        "Often, we are given a rainfall recorded by a rain gauge which provides the rainfall depths recorded\n",
        "for successive interval in time, and we want to compute the cumulative rainfall. In this example first\n",
        "we shall create rainfall using the random numbers, and we shall also create time variable having\n",
        "values [0,5,10, ...., 100]."
      ],
      "metadata": {
        "id": "vsMei8HwwRfG"
      }
    },
    {
      "cell_type": "code",
      "execution_count": 7,
      "metadata": {
        "colab": {
          "base_uri": "https://localhost:8080/"
        },
        "id": "rXN3EeAYwOxL",
        "outputId": "b93dceab-ea9f-4331-f7ff-05da953474e1"
      },
      "outputs": [
        {
          "output_type": "stream",
          "name": "stdout",
          "text": [
            "[  0.   5.  10.  15.  20.  25.  30.  35.  40.  45.  50.  55.  60.  65.\n",
            "  70.  75.  80.  85.  90.  95. 100.]\n",
            "[0.02276488 0.75542823 0.43092886 0.88481388 0.41044052 0.75200369\n",
            " 0.07323813 0.36800546 0.95668845 0.39954    0.19557684 0.66412831\n",
            " 0.09269119 0.14747645 0.5021737  0.8434781  0.14245455 0.33039849\n",
            " 0.76478078 0.90601023 0.0845472 ]\n"
          ]
        }
      ],
      "source": [
        "import numpy as np\n",
        "time = np.linspace(0,100,21) # create time variable\n",
        "print(time)\n",
        "\n",
        "rainfall = np.random.rand(21) # generate rainfall\n",
        "print(rainfall)"
      ]
    },
    {
      "cell_type": "markdown",
      "source": [
        "Now we make a bar plot using the plt.bar(), for the rainfall which depicts temporal behaviour of\n",
        "the rainfall."
      ],
      "metadata": {
        "id": "V6LPdcFHwnCT"
      }
    },
    {
      "cell_type": "code",
      "source": [
        "import matplotlib.pyplot as plt\n",
        "\n",
        "plt.bar(time,rainfall)\n",
        "plt.xlabel('Time')\n",
        "plt.ylabel('Incremental rainfall')\n",
        "plt.show()"
      ],
      "metadata": {
        "colab": {
          "base_uri": "https://localhost:8080/",
          "height": 282
        },
        "id": "sXiHctduwqt9",
        "outputId": "806661a1-09c0-49c7-c143-2312311d7903"
      },
      "execution_count": 8,
      "outputs": [
        {
          "output_type": "display_data",
          "data": {
            "text/plain": [
              "<Figure size 432x288 with 1 Axes>"
            ],
            "image/png": "[encoded data removed]"
          },
          "metadata": {
            "needs_background": "light"
          }
        }
      ]
    },
    {
      "cell_type": "markdown",
      "source": [
        "We can use *plt.savefig* to store the file in our system. The plt.show() shows the graph on computer screen, which can be saved later, while the plt.savefig() saves the graphs in computer, which can be viewed after opening the file. It is just matter of taste, what you like, optionally both can be done on same graph. I prefer to just display when working in *Google colab*, but when I am working locally in my system, I prefer to save the figures in the computer and then see them.\n",
        "\n",
        "The cumulative sum is calculated by using the cumsum function of the numpy library."
      ],
      "metadata": {
        "id": "Z9FxkNfXxpvD"
      }
    },
    {
      "cell_type": "code",
      "source": [
        "cum_rainfall = np.cumsum(rainfall)\n",
        "print(cum_rainfall)"
      ],
      "metadata": {
        "colab": {
          "base_uri": "https://localhost:8080/"
        },
        "id": "I101nytry5pE",
        "outputId": "7e3db6af-c0f0-49a2-ba9e-8089123c5e80"
      },
      "execution_count": 9,
      "outputs": [
        {
          "output_type": "stream",
          "name": "stdout",
          "text": [
            "[0.02276488 0.77819311 1.20912198 2.09393585 2.50437637 3.25638006\n",
            " 3.3296182  3.69762366 4.65431211 5.05385211 5.24942894 5.91355725\n",
            " 6.00624844 6.15372489 6.65589859 7.49937669 7.64183123 7.97222972\n",
            " 8.7370105  9.64302072 9.72756792]\n"
          ]
        }
      ]
    },
    {
      "cell_type": "markdown",
      "source": [
        "Now we plot the cumulative rainfall. The resulted cumulative rainfall is shown below. The *plt.clf()* clears the current figure, and is quiet useful when making multiples plots, and there is any existing plot in the python memory. Just don’t use the *clf* if you are working in your system locally, and notice the difference."
      ],
      "metadata": {
        "id": "tEHyAxJBy_57"
      }
    },
    {
      "cell_type": "code",
      "source": [
        "plt.clf()\n",
        "plt.plot(time,cum_rainfall)\n",
        "plt.xlabel('Time')\n",
        "plt.ylabel('Cummulative rainfall')\n",
        "plt.show()"
      ],
      "metadata": {
        "colab": {
          "base_uri": "https://localhost:8080/",
          "height": 279
        },
        "id": "hJ3ppfYuzQXx",
        "outputId": "41681a82-c76c-4086-b796-e7e2dfff7ad4"
      },
      "execution_count": 10,
      "outputs": [
        {
          "output_type": "display_data",
          "data": {
            "text/plain": [
              "<Figure size 432x288 with 1 Axes>"
            ],
            "image/png": "[encoded data removed]"
          },
          "metadata": {
            "needs_background": "light"
          }
        }
      ]
    },
    {
      "cell_type": "markdown",
      "source": [
        "Usually, we are given the rainfall at some rain gauges, and we want to make the isohyete (contour) plot of the rainfall. To demonstrate this situation, fist we shall generate locations (x,y) and rainfall for ten stations using random numbers. The generated locations of the rain gauges is shown below."
      ],
      "metadata": {
        "id": "tKWjgUZpzurH"
      }
    },
    {
      "cell_type": "code",
      "source": [
        "import numpy as np\n",
        "import matplotlib.pyplot as plt\n",
        "\n",
        "#genrate locations and rainfall\n",
        "x = np.random.rand(10)\n",
        "y = np.random.rand(10)\n",
        "rain = 10*np.random.rand(10)\n",
        "\n",
        "#plot the locations\n",
        "plt.scatter(x,y)\n",
        "plt.xlabel('X')\n",
        "plt.ylabel('Y')\n",
        "plt.show()"
      ],
      "metadata": {
        "colab": {
          "base_uri": "https://localhost:8080/",
          "height": 279
        },
        "id": "crtuM-5xz12g",
        "outputId": "a1021484-e857-4731-e856-f23a44d580c3"
      },
      "execution_count": 11,
      "outputs": [
        {
          "output_type": "display_data",
          "data": {
            "text/plain": [
              "<Figure size 432x288 with 1 Axes>"
            ],
            "image/png": "[encoded data removed]"
          },
          "metadata": {
            "needs_background": "light"
          }
        }
      ]
    },
    {
      "cell_type": "markdown",
      "source": [
        "I prefer to add blank lines after a section of code, and comment on the top of section what it is doing. This increases the readability of the code. The plt.scatter() makes the scatter plot, i.e. the dots are plotted instead of lines. When there is no order in the data with respect to their position in the array, then scatter plot is used. Like in this case, it is possible that two stations which are close by, but might be placed at distant in the array.\n",
        "\n",
        "The flow chart of preparing contour map is given below:\n",
        "\n",
        "![](https://drive.google.com/uc?export=view&id=1oafFajTx03xaRL-QN_9HLPNxSx3UVNgq)\n",
        "\n",
        "First, we need to generate the grid with regular spacing having the same extent as of the locations of rainfall gauges. Then,\n",
        "from the given location and rainfall data, we need to compute data at regular grid using some interpolation scheme. After this contour maps can be obtained. The griddata function of the\n",
        "scipy.interpolate library is useful in obtaining the gridded data (data at regular grid). When we need only one or few functions from the library, it is better to call them explicitly, e.g. from scipy.interpolate import griddata, like in the following example. We use *meshgrid* function of *numpy* library, to create the mesh from the given $x$ and $y$ vectors.\n",
        "\n"
      ],
      "metadata": {
        "id": "DGOi-QX90G6v"
      }
    },
    {
      "cell_type": "code",
      "source": [
        "from scipy.interpolate import griddata\n",
        "\n",
        "#generate the desired grid, where rainfall is to be interpolated\n",
        "X,Y = np.meshgrid(np.linspace(0,1,1000), np.linspace(0,1,1000))\n",
        "\n",
        "#perform the gridding\n",
        "grid_rain = griddata((x,y), rain, (X, Y))"
      ],
      "metadata": {
        "id": "ccB6wW_W2o34"
      },
      "execution_count": 12,
      "outputs": []
    },
    {
      "cell_type": "markdown",
      "source": [
        "Now, we can make the contour plot of the gridded data, which is made by *plt.contourf()* function. The contourf makes filled contours, while contour() provides simple contour. Try using the\n",
        "contour instead of contourf, and you will see the difference. We begin by clear current figure by using the plt.clf(), as there might be some existing figure in the memory especially if you are following all the examples in the same session. We are also overlaying the locations of rainfall gauges using the plt.scatter(). The s and c are used to define the size and color of the markers respectively. The plt.xlim() and plt.ylim() limits the extent of the x and y axis respectively."
      ],
      "metadata": {
        "id": "-_P0IB3p2yW5"
      }
    },
    {
      "cell_type": "code",
      "source": [
        "plt.contourf(X,Y,grid_rain)\n",
        "plt.colorbar()\n",
        "plt.xlabel('X')\n",
        "plt.ylabel('Y')\n",
        "plt.scatter(x, y, s=30, c='r')"
      ],
      "metadata": {
        "colab": {
          "base_uri": "https://localhost:8080/",
          "height": 301
        },
        "id": "dx4BmwQ124wh",
        "outputId": "0069d328-7d5a-4086-a209-fec89c601ee7"
      },
      "execution_count": 14,
      "outputs": [
        {
          "output_type": "execute_result",
          "data": {
            "text/plain": [
              "<matplotlib.collections.PathCollection at 0x7fb3d772e310>"
            ]
          },
          "metadata": {},
          "execution_count": 14
        },
        {
          "output_type": "display_data",
          "data": {
            "text/plain": [
              "<Figure size 432x288 with 2 Axes>"
            ],
            "image/png": "[encoded data removed]"
          },
          "metadata": {
            "needs_background": "light"
          }
        }
      ]
    }
  ]
}