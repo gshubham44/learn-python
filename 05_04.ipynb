{
  "nbformat": 4,
  "nbformat_minor": 0,
  "metadata": {
    "colab": {
      "provenance": [],
      "authorship_tag": "ABX9TyOxMQJdCnRrRingMVOHtqkR",
      "include_colab_link": true
    },
    "kernelspec": {
      "name": "python3",
      "display_name": "Python 3"
    },
    "language_info": {
      "name": "python"
    }
  },
  "cells": [
    {
      "cell_type": "markdown",
      "metadata": {
        "id": "view-in-github",
        "colab_type": "text"
      },
      "source": [
        "<a href=\"https://colab.research.google.com/github/tomersk/learn-python/blob/main/05_04.ipynb\" target=\"_parent\"><img src=\"https://colab.research.google.com/assets/colab-badge.svg\" alt=\"Open In Colab\"/></a>"
      ]
    },
    {
      "cell_type": "markdown",
      "source": [
        "## 5.4 KS test\n",
        "KolmogorovSmirnov (KS) test is a non-parametric test to compare the equality of two continuous\n",
        "one dimensional probability distributions. In this test, we quantify the distance (absolute difference)\n",
        "between distributions. These two distributions could be two different sample, or one could be sample\n",
        "and another one a theoretical distribution. Let us test if our generated normal random variable follow\n",
        "normal distribution or not. st.kstest is the function to to perform KS test."
      ],
      "metadata": {
        "id": "HXdcA3uvlOju"
      }
    },
    {
      "cell_type": "code",
      "source": [
        "import numpy as np\n",
        "import scipy.stats as st\n",
        "x = np.random.randn(1000)\n",
        "# KS test\n",
        "D, p = st.kstest(x,'norm')\n",
        "print(p)"
      ],
      "metadata": {
        "colab": {
          "base_uri": "https://localhost:8080/"
        },
        "id": "EMLarDwalUHs",
        "outputId": "954aac19-4b2c-48e9-b8cf-82f9bb553c35"
      },
      "execution_count": 3,
      "outputs": [
        {
          "output_type": "stream",
          "name": "stdout",
          "text": [
            "0.4150586023618166\n"
          ]
        }
      ]
    },
    {
      "cell_type": "markdown",
      "source": [
        "We get a p-value higher than the threshold, which means that our generated normally distributed random variable\n",
        "is in fact normal. We can also test if the the generated uniformly distributed random variable are\n",
        "not normal by chance. In this we get a p-value less than the threshold, which means that our generated random\n",
        "numbers in this case are not normal."
      ],
      "metadata": {
        "id": "s0MYN1qTlUZI"
      }
    },
    {
      "cell_type": "code",
      "source": [
        "y = np.random.rand(1000)\n",
        "D, p = st.kstest(y,'norm')\n",
        "print(p)"
      ],
      "metadata": {
        "colab": {
          "base_uri": "https://localhost:8080/"
        },
        "id": "tjPxilOQlUkZ",
        "outputId": "0a99f81b-4016-494a-e677-90921eedd9b5"
      },
      "execution_count": 5,
      "outputs": [
        {
          "output_type": "stream",
          "name": "stdout",
          "text": [
            "3.684250271719294e-232\n"
          ]
        }
      ]
    }
  ]
}