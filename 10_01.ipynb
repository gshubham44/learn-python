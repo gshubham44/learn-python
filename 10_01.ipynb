{
  "nbformat": 4,
  "nbformat_minor": 0,
  "metadata": {
    "colab": {
      "provenance": [],
      "authorship_tag": "ABX9TyNa+BDZbdxdhgdlguzmZYi9",
      "include_colab_link": true
    },
    "kernelspec": {
      "name": "python3",
      "display_name": "Python 3"
    },
    "language_info": {
      "name": "python"
    }
  },
  "cells": [
    {
      "cell_type": "markdown",
      "metadata": {
        "id": "view-in-github",
        "colab_type": "text"
      },
      "source": [
        "<a href=\"https://colab.research.google.com/github/tomersk/learn-python/blob/main/10_01.ipynb\" target=\"_parent\"><img src=\"https://colab.research.google.com/assets/colab-badge.svg\" alt=\"Open In Colab\"/></a>"
      ]
    },
    {
      "cell_type": "markdown",
      "source": [
        "# 10 Advance statistics\n",
        "##10.1 copula\n",
        "Copulas are used to describe the dependence between random variables. Copula means coupling two CDFs. Let us generate two random variables; one having normal distribution, another combination of first one and uniform distribution."
      ],
      "metadata": {
        "id": "5_IKUv1uUPcC"
      }
    },
    {
      "cell_type": "code",
      "execution_count": 17,
      "metadata": {
        "id": "xWuOCN4PUGz1"
      },
      "outputs": [],
      "source": [
        "import numpy as np\n",
        "import matplotlib.pyplot as plt\n",
        "from matplotlib.ticker import NullFormatter\n",
        "\n",
        "# synthetic data\n",
        "n = 1000\n",
        "x = np.random.randn(n)\n",
        "y = x*0.5 + np.random.rand(n)"
      ]
    },
    {
      "cell_type": "markdown",
      "source": [
        "First we would like to how is our data related by using scatter plot, and also we would like to see how is the distribution of x and y. We can do this in three separate plots, or using subplots. In the present case we will trying this in one plot by specifying different axis for these 3 plots. We begin with defining the axis limits for our three plots. The input to axis are x and y for the lower left corner, width and height of the plot. In the following example we are specifying axis in such as way so that plots are aligned properly."
      ],
      "metadata": {
        "id": "VDTMddsYUv3j"
      }
    },
    {
      "cell_type": "code",
      "source": [
        "axScatter = plt.axes([0.1, 0.1, 0.5, 0.5])\n",
        "axHistx = plt.axes([0.1, 0.65, 0.5, 0.3])\n",
        "axHisty = plt.axes([0.65, 0.1, 0.3, 0.5])\n",
        "\n",
        "#Now, we use this axis to make plots.\n",
        "axScatter.scatter(x, y)\n",
        "axHistx.hist(x)\n",
        "axHisty.hist(y, orientation='horizontal')\n",
        "# set the limit of histogram plots\n",
        "axHistx.set_xlim(axScatter.get_xlim())\n",
        "axHisty.set_ylim( axScatter.get_ylim())\n",
        "\n",
        "plt.tight_layout()\n",
        "plt.show()"
      ],
      "metadata": {
        "colab": {
          "base_uri": "https://localhost:8080/",
          "height": 349
        },
        "id": "D2jwal80U-jq",
        "outputId": "7775cfae-b038-44ad-baa9-ea0ec135f64f"
      },
      "execution_count": 18,
      "outputs": [
        {
          "output_type": "stream",
          "name": "stderr",
          "text": [
            "/usr/local/lib/python3.7/dist-packages/ipykernel_launcher.py:13: UserWarning: This figure includes Axes that are not compatible with tight_layout, so results might be incorrect.\n",
            "  del sys.path[0]\n"
          ]
        },
        {
          "output_type": "display_data",
          "data": {
            "text/plain": [
              "<Figure size 432x288 with 3 Axes>"
            ],
            "image/png": "[encoded data removed]"
          },
          "metadata": {
            "needs_background": "light"
          }
        }
      ]
    },
    {
      "cell_type": "markdown",
      "source": [
        "Now, let us try to simulate ensemble of data using copula. I have written a library, *copulalib* to deal with copulas. This library has three copulas (Frank, Clayton, and Gumbel) in it. First install the library using *pip*, then we import the library and initialize the class."
      ],
      "metadata": {
        "id": "vx6mmbK35cCU"
      }
    },
    {
      "cell_type": "code",
      "source": [
        "import pip\n",
        "\n",
        "try:\n",
        "  __import__('copulalib')\n",
        "except ImportError:\n",
        "  pip.main(['install', 'copulalib'])  \n",
        "\n",
        "from copulalib.copulalib import Copula \n",
        "\n",
        "foo = Copula(x, y, 'frank')"
      ],
      "metadata": {
        "id": "UlqT9X3S5BBL"
      },
      "execution_count": 19,
      "outputs": []
    },
    {
      "cell_type": "markdown",
      "source": [
        "We can get the value of Kendall’s tau, and the parameter of Frank copula by attributes tau and theta respectively."
      ],
      "metadata": {
        "id": "SXGdslOY9ubU"
      }
    },
    {
      "cell_type": "code",
      "source": [
        "print(foo.tau)\n",
        "print(foo.theta)"
      ],
      "metadata": {
        "colab": {
          "base_uri": "https://localhost:8080/"
        },
        "id": "A9Fi5ZyL5ad1",
        "outputId": "765ccc46-e070-4db9-ed22-c482f86878f0"
      },
      "execution_count": 20,
      "outputs": [
        {
          "output_type": "stream",
          "name": "stdout",
          "text": [
            "0.6592952952952954\n",
            "9.76300048828125\n"
          ]
        }
      ]
    },
    {
      "cell_type": "markdown",
      "source": [
        "We can generate the ensemble using Frank copula."
      ],
      "metadata": {
        "id": "mj2IvRXN-Q_i"
      }
    },
    {
      "cell_type": "code",
      "source": [
        "x1,y1 = foo.generate_xy()"
      ],
      "metadata": {
        "id": "lwjOnWBt-w3i"
      },
      "execution_count": 21,
      "outputs": []
    },
    {
      "cell_type": "markdown",
      "source": [
        "Now, we can plot the simulated data with original data."
      ],
      "metadata": {
        "id": "DyfWyIa_-zWQ"
      }
    },
    {
      "cell_type": "code",
      "source": [
        "plt.scatter(x1,y1, color='g')\n",
        "plt.scatter(x,y, color='r')\n",
        "plt.xlabel('x')\n",
        "plt.ylabel('y')\n",
        "plt.show()"
      ],
      "metadata": {
        "colab": {
          "base_uri": "https://localhost:8080/",
          "height": 279
        },
        "id": "VJtJr96N-2Uo",
        "outputId": "468053bb-8396-4f95-ae28-b0dbfca96b64"
      },
      "execution_count": 22,
      "outputs": [
        {
          "output_type": "display_data",
          "data": {
            "text/plain": [
              "<Figure size 432x288 with 1 Axes>"
            ],
            "image/png": "[encoded data removed]"
          },
          "metadata": {
            "needs_background": "light"
          }
        }
      ]
    }
  ]
}