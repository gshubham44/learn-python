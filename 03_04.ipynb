{
  "nbformat": 4,
  "nbformat_minor": 0,
  "metadata": {
    "colab": {
      "provenance": [],
      "authorship_tag": "ABX9TyOoQ14Ghumaiuidn4DNAZwF",
      "include_colab_link": true
    },
    "kernelspec": {
      "name": "python3",
      "display_name": "Python 3"
    },
    "language_info": {
      "name": "python"
    }
  },
  "cells": [
    {
      "cell_type": "markdown",
      "metadata": {
        "id": "view-in-github",
        "colab_type": "text"
      },
      "source": [
        "<a href=\"https://colab.research.google.com/github/tomersk/learn-python/blob/main/03_04.ipynb\" target=\"_parent\"><img src=\"https://colab.research.google.com/assets/colab-badge.svg\" alt=\"Open In Colab\"/></a>"
      ]
    },
    {
      "cell_type": "markdown",
      "source": [
        "## 3.4 Array Manipulation\n",
        "Often we need to change the array, transpose it, get some elements, or change some elements. This is illustrated by this example, in which first we create the array and then play with it. We have already seen in the previous section, that we can change the value of any element by calling it by the indices, and then assigning new value to it. First, we generate normally distributed random number of size (2×5) to create an array, which we would like to manipulate."
      ],
      "metadata": {
        "id": "9cX6vG4fG1bb"
      }
    },
    {
      "cell_type": "code",
      "execution_count": 2,
      "metadata": {
        "colab": {
          "base_uri": "https://localhost:8080/"
        },
        "id": "ipuOCE03G041",
        "outputId": "1f269772-42ef-4cd8-b940-81da3b554fdc"
      },
      "outputs": [
        {
          "output_type": "execute_result",
          "data": {
            "text/plain": [
              "array([[ 0.36283246,  2.61402225, -1.04827498],\n",
              "       [-0.49774083, -0.52976937,  0.75586423]])"
            ]
          },
          "metadata": {},
          "execution_count": 2
        }
      ],
      "source": [
        "import numpy as np\n",
        "foo = np.random.randn(2,3)\n",
        "foo"
      ]
    },
    {
      "cell_type": "markdown",
      "source": [
        "The array is transposed using T attributes."
      ],
      "metadata": {
        "id": "CcOZwA9mHwMu"
      }
    },
    {
      "cell_type": "code",
      "source": [
        "foo.T"
      ],
      "metadata": {
        "colab": {
          "base_uri": "https://localhost:8080/"
        },
        "id": "MeVZ4F95Lngz",
        "outputId": "27f4a4c0-69e6-434f-8601-c188aa00aacd"
      },
      "execution_count": 3,
      "outputs": [
        {
          "output_type": "execute_result",
          "data": {
            "text/plain": [
              "array([[ 0.36283246, -0.49774083],\n",
              "       [ 2.61402225, -0.52976937],\n",
              "       [-1.04827498,  0.75586423]])"
            ]
          },
          "metadata": {},
          "execution_count": 3
        }
      ]
    },
    {
      "cell_type": "markdown",
      "source": [
        "We can access some elements of the array, and if we want, new values also can be assigned to them.\n",
        "In this example, we shall first access element at (0,1) indices, and then we shall replace it by 5.\n",
        "Finally we will print the variable to check if the variable got modified."
      ],
      "metadata": {
        "id": "UOySjfZRLs2M"
      }
    },
    {
      "cell_type": "code",
      "source": [
        "print(foo[0,1])\n",
        "\n",
        "foo[0,1]=5\n",
        "print(foo)"
      ],
      "metadata": {
        "colab": {
          "base_uri": "https://localhost:8080/"
        },
        "id": "xOuYks4LLy9F",
        "outputId": "87c63b88-251c-4400-a5ca-4caaf370635e"
      },
      "execution_count": 4,
      "outputs": [
        {
          "output_type": "stream",
          "name": "stdout",
          "text": [
            "2.6140222464576492\n",
            "[[ 0.36283246  5.         -1.04827498]\n",
            " [-0.49774083 -0.52976937  0.75586423]]\n"
          ]
        }
      ]
    },
    {
      "cell_type": "markdown",
      "source": [
        "The shape of any array is changed by using the reshape method. During reshape operation, the change in number of elements is not allowed. In the following example, first we shall create an\n",
        "array having size of (3×6), and the we shall change its shape to (2×9)."
      ],
      "metadata": {
        "id": "EOeJmhBqMZnz"
      }
    },
    {
      "cell_type": "code",
      "source": [
        "foo = np.random.randn(3,6)\n",
        "foo.reshape(2,9)"
      ],
      "metadata": {
        "colab": {
          "base_uri": "https://localhost:8080/"
        },
        "id": "_VtmBWJqMehq",
        "outputId": "b939d7fc-7dfb-431b-a2ab-9c7407e262d5"
      },
      "execution_count": 5,
      "outputs": [
        {
          "output_type": "execute_result",
          "data": {
            "text/plain": [
              "array([[-0.23974728,  2.15601789, -0.58866054, -0.94078212,  0.1031432 ,\n",
              "         1.13549013, -0.03180578,  0.70462518, -0.22228889],\n",
              "       [ 0.88917479, -0.1367948 , -0.07020427,  1.02353006, -0.47758702,\n",
              "        -0.59042834,  0.08574093,  0.181381  ,  2.86724845]])"
            ]
          },
          "metadata": {},
          "execution_count": 5
        }
      ]
    },
    {
      "cell_type": "markdown",
      "source": [
        "Like we can access the any elements of the array and change it, in similar way we can access the any attributes, and modify them. However, the modification is only allowed if the attributes is writeable, and the new value makes some sense to the variable. We can use this behaviour, and change the\n",
        "shape of variable using the shape attributes."
      ],
      "metadata": {
        "id": "EiQjh6eiMk1h"
      }
    },
    {
      "cell_type": "code",
      "source": [
        "foo = np.random.randn(4,3)\n",
        "print(foo.shape)\n",
        "print(foo)\n",
        "\n",
        "foo.shape = 2,6\n",
        "print(foo.shape)\n",
        "print(foo)"
      ],
      "metadata": {
        "colab": {
          "base_uri": "https://localhost:8080/"
        },
        "id": "MAY2H-rpMqiG",
        "outputId": "9e98a94a-6fce-423d-c503-4458540c8b72"
      },
      "execution_count": 6,
      "outputs": [
        {
          "output_type": "stream",
          "name": "stdout",
          "text": [
            "(4, 3)\n",
            "[[ 0.4771758  -0.76936763 -2.34410875]\n",
            " [-0.4262899  -0.66992844 -2.27842671]\n",
            " [-0.92889648  1.19237224 -0.59784249]\n",
            " [-0.16383886  0.4506501   0.85307605]]\n",
            "(2, 6)\n",
            "[[ 0.4771758  -0.76936763 -2.34410875 -0.4262899  -0.66992844 -2.27842671]\n",
            " [-0.92889648  1.19237224 -0.59784249 -0.16383886  0.4506501   0.85307605]]\n"
          ]
        }
      ]
    },
    {
      "cell_type": "markdown",
      "source": [
        "In the above example, first an array is defined with a size of (4×3) and then its shape is assigned a value of (2,6), which makes the array of size (2×6). As we can not change the number of elements, so if we define one dimension of the new variable, second dimension can be computed with ease.\n",
        "\n",
        "Numpy allow us to define -1 for the default dimension in this case. We can make the desired change in the shape of variable by using default dimension also."
      ],
      "metadata": {
        "id": "dvrHwdPbM5G5"
      }
    },
    {
      "cell_type": "code",
      "source": [
        "foo.shape = -1,6\n",
        "print(foo.shape)"
      ],
      "metadata": {
        "colab": {
          "base_uri": "https://localhost:8080/"
        },
        "id": "vb374jNrM-cU",
        "outputId": "4887bb65-f0f1-4622-82ac-941f1f304235"
      },
      "execution_count": 7,
      "outputs": [
        {
          "output_type": "stream",
          "name": "stdout",
          "text": [
            "(2, 6)\n"
          ]
        }
      ]
    },
    {
      "cell_type": "markdown",
      "source": [
        "We can flatten the array (make array one dimensional) by using the ravel method, which is explained in the following example:"
      ],
      "metadata": {
        "id": "JNN7o7w3NDCl"
      }
    },
    {
      "cell_type": "code",
      "source": [
        "foo = np.random.rand(2,3)\n",
        "print(foo)\n",
        "print(foo.shape)\n",
        "\n",
        "a = foo.ravel()\n",
        "print(a.shape)\n",
        "print(a)"
      ],
      "metadata": {
        "colab": {
          "base_uri": "https://localhost:8080/"
        },
        "id": "BvkpnieENFzr",
        "outputId": "90b1f6b8-ecad-4aa0-f46c-25de38386ec9"
      },
      "execution_count": 8,
      "outputs": [
        {
          "output_type": "stream",
          "name": "stdout",
          "text": [
            "[[0.04943299 0.76016869 0.59526285]\n",
            " [0.33552459 0.36886908 0.96542576]]\n",
            "(2, 3)\n",
            "(6,)\n",
            "[0.04943299 0.76016869 0.59526285 0.33552459 0.36886908 0.96542576]\n"
          ]
        }
      ]
    }
  ]
}